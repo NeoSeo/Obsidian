{
 "cells": [
  {
   "cell_type": "markdown",
   "metadata": {},
   "source": [
    "<div class=\"alert alert-block\" style=\"border: 2px solid #1976D2;background-color:#E3F2FD;padding:5px;font-size:0.9em;\">\n",
    "본 자료는 저작권법 제25조 2항에 의해 보호를 받습니다. 본 자료를 외부에 공개하지 말아주세요.<br>\n",
    "본 강의만 잘 정리하면, 데이터 분석, 데이터 과학, 풀스택(백엔드, 프론트엔드) 개발 모두 가능합니다!<br>\n",
    "</div>"
   ]
  },
  {
   "cell_type": "markdown",
   "metadata": {},
   "source": [
    "<div class=\"alert alert-block\" style=\"border: 2px solid #1976D2;background-color:#E3F2FD;padding:5px;font-size:0.9em;\">\n",
    "제 유투브 채널로 혼자서도 데이터 전과정, 풀스택 전과정을 익힐 수 있는 로드맵과 관련 커리어를  설명한 영상을 만들었는데요<br>\n",
    "꼭 한번 보시면 학습하시는데 큰 그림을 이해하실 수 있으실꺼예요. (괜찮으시면 구독과 좋아요도 부탁드립니다. ㅎ)<br>\n",
    "<b>- 데이터, AI 커리어와 데이터 전과정 학습 방법 완벽 가이드: <a href=\"https://youtu.be/vsoAyh4D-zw\">https://youtu.be/vsoAyh4D-zw</a><br>\n",
    "- 1인 창업도 가능한 가장 빠른 최신 풀스택 공부순서: <a href=\"https://youtu.be/mTouChThxzA\">https://youtu.be/mTouChThxzA</a></b><br>\n",
    "</div>"
   ]
  },
  {
   "cell_type": "markdown",
   "metadata": {},
   "source": [
    "### Exercise 64.  함수\n",
    "Fun Coding 을 출력하는 funcoding() 함수를 만들어보고, 호출해보세요."
   ]
  },
  {
   "cell_type": "code",
   "execution_count": 1,
   "metadata": {},
   "outputs": [
    {
     "name": "stdout",
     "output_type": "stream",
     "text": [
      "Fun Coding\n"
     ]
    }
   ],
   "source": [
    "def funcoding():\n",
    "    print('Fun Coding')\n",
    "\n",
    "funcoding()"
   ]
  },
  {
   "cell_type": "code",
   "execution_count": null,
   "metadata": {},
   "outputs": [],
   "source": []
  },
  {
   "cell_type": "code",
   "execution_count": 2,
   "metadata": {},
   "outputs": [
    {
     "name": "stdout",
     "output_type": "stream",
     "text": [
      "Fun Coding\n"
     ]
    }
   ],
   "source": [
    "def funcoding():\n",
    "    print (\"Fun Coding\")\n",
    "\n",
    "funcoding()"
   ]
  },
  {
   "cell_type": "markdown",
   "metadata": {
    "collapsed": true
   },
   "source": [
    "### Exercise 65.  함수\n",
    "임의의 문자열을 넣으면 해당 문자열을 출력하는 funcoding() 함수를 만들어보고, 호출해보세요.\n",
    "```python\n",
    "출력 예:\n",
    "funcoding(\"Fun Coding\")\n",
    "\n",
    "Fun Coding\n",
    "```\n"
   ]
  },
  {
   "cell_type": "code",
   "execution_count": 3,
   "metadata": {},
   "outputs": [
    {
     "name": "stdout",
     "output_type": "stream",
     "text": [
      "Sucker Punch\n"
     ]
    }
   ],
   "source": [
    "def funcoding(b):\n",
    "    \n",
    "    print(b)\n",
    "\n",
    "funcoding('Sucker Punch')"
   ]
  },
  {
   "cell_type": "code",
   "execution_count": null,
   "metadata": {},
   "outputs": [],
   "source": []
  },
  {
   "cell_type": "code",
   "execution_count": 4,
   "metadata": {},
   "outputs": [
    {
     "name": "stdout",
     "output_type": "stream",
     "text": [
      "Dave Lee\n"
     ]
    }
   ],
   "source": [
    "def funcoding(argument1):\n",
    "    print (argument1)\n",
    "\n",
    "funcoding(\"Dave Lee\")"
   ]
  },
  {
   "cell_type": "markdown",
   "metadata": {},
   "source": [
    "### Exercise 66. 함수\n",
    "임의의 세 개의 숫자를 인자로 넣으면 세 숫자를 더한 값을 출력해주는 함수를 만들어보고, 호출해보세요.\n",
    "```python\n",
    "출력 예:\n",
    "plus(1, 2, 3)\n",
    "\n",
    "6\n",
    "```"
   ]
  },
  {
   "cell_type": "code",
   "execution_count": 4,
   "metadata": {},
   "outputs": [
    {
     "data": {
      "text/plain": [
       "9"
      ]
     },
     "execution_count": 4,
     "metadata": {},
     "output_type": "execute_result"
    }
   ],
   "source": [
    "def plus(a,b,c):\n",
    "    return a+b+c\n",
    "\n",
    "plus(2,3,4)"
   ]
  },
  {
   "cell_type": "code",
   "execution_count": null,
   "metadata": {},
   "outputs": [],
   "source": []
  },
  {
   "cell_type": "code",
   "execution_count": 5,
   "metadata": {},
   "outputs": [
    {
     "name": "stdout",
     "output_type": "stream",
     "text": [
      "6\n"
     ]
    }
   ],
   "source": [
    "def plus(data1, data2, data3):\n",
    "    print (data1 + data2 + data3)\n",
    "\n",
    "plus(1, 2, 3)\n",
    "    "
   ]
  },
  {
   "cell_type": "markdown",
   "metadata": {},
   "source": [
    "### Exercise 67. 함수 \n",
    "임의의 두 개의 숫자를 인자로 넣으면 두 개의 숫자를 곱한 값을 리턴해주는 함수를 만들어보고, 특정 변수에 해당 리턴값을 넣고, 호출해보세요.\n",
    "```python\n",
    "출력 예:\n",
    "data = multiply(2, 3)\n",
    "print (data)\n",
    "\n",
    "6\n",
    "```"
   ]
  },
  {
   "cell_type": "code",
   "execution_count": 5,
   "metadata": {},
   "outputs": [
    {
     "name": "stdout",
     "output_type": "stream",
     "text": [
      "6\n"
     ]
    }
   ],
   "source": [
    "def gop(a,b):\n",
    "    return a * b\n",
    "\n",
    "c = gop(2,3)\n",
    "print(c)"
   ]
  },
  {
   "cell_type": "code",
   "execution_count": null,
   "metadata": {},
   "outputs": [],
   "source": []
  },
  {
   "cell_type": "code",
   "execution_count": 6,
   "metadata": {},
   "outputs": [
    {
     "name": "stdout",
     "output_type": "stream",
     "text": [
      "6\n"
     ]
    }
   ],
   "source": [
    "def multiply(data1, data2):\n",
    "    return data1 * data2\n",
    "\n",
    "data = multiply(2, 3)\n",
    "print (data)"
   ]
  },
  {
   "cell_type": "markdown",
   "metadata": {},
   "source": [
    "### Exercise 68. 함수\n",
    "사칙연산을 지원하는 함수를 다음과 같이 만들고, 특정 변수에 해당 리턴값을 넣고, 호출해보세요.\n",
    "\n",
    "```python\n",
    "첫번째 인자: 숫자\n",
    "두번째 인자: 숫자\n",
    "세번째 인자: \"*\" 또는 \"+\"\n",
    "\n",
    "세번째 인자에 따라 첫번째 인자와 두번째 인자를 곱하거나, 더한 값을 리턴\n",
    "만약, 세번째 인자가 \"*\" 또는 \"+\" 가 아니라면, 0을 리턴\n",
    "출력 예1:\n",
    "data = cal(2, 3, \"*\")\n",
    "print (data)\n",
    "\n",
    "6\n",
    "\n",
    "출력 예2:\n",
    "data = cal(2, 3, \"+\")\n",
    "print (data)\n",
    "\n",
    "5\n",
    "\n",
    "출력 예3:\n",
    "data = cal(2, 3, \"-\")\n",
    "print (data)\n",
    "\n",
    "0\n",
    "```"
   ]
  },
  {
   "cell_type": "code",
   "execution_count": 9,
   "metadata": {},
   "outputs": [
    {
     "name": "stdout",
     "output_type": "stream",
     "text": [
      "0\n"
     ]
    }
   ],
   "source": [
    "def calc(a,b,c):\n",
    "    if c == '+':\n",
    "        return a+b\n",
    "    elif c == '*':\n",
    "        return a*b\n",
    "    else:\n",
    "        return 0\n",
    "\n",
    "d = calc(2,3,'s')\n",
    "print(d)"
   ]
  },
  {
   "cell_type": "code",
   "execution_count": null,
   "metadata": {},
   "outputs": [],
   "source": []
  },
  {
   "cell_type": "code",
   "execution_count": null,
   "metadata": {},
   "outputs": [],
   "source": []
  },
  {
   "cell_type": "code",
   "execution_count": 9,
   "metadata": {},
   "outputs": [
    {
     "name": "stdout",
     "output_type": "stream",
     "text": [
      "3\n",
      "2\n",
      "0\n"
     ]
    }
   ],
   "source": [
    "def cal(data1, data2, way):\n",
    "    if way == \"+\":\n",
    "        return data1 + data2\n",
    "    elif way == \"*\":\n",
    "        return data1 * data2\n",
    "    else:\n",
    "        return 0\n",
    "    \n",
    "data = cal(1, 2, \"+\")\n",
    "print (data)\n",
    "\n",
    "data = cal(1, 2, \"*\")\n",
    "print (data)\n",
    "\n",
    "data = cal(1, 2, \"/\")\n",
    "print (data)\n"
   ]
  },
  {
   "cell_type": "markdown",
   "metadata": {},
   "source": [
    "### Exercise 69. 함수\n",
    "Exercise 68에서 작성한 함수에 사칙연산 기능을 \"-\" (빼기) 와 \"/\" (나누기) 도 지원하도록 추가해서, 호출해보세요.<br>\n",
    "단, \"/\" 일 경우, 두번째 인자가 0이면, -1 을 리턴하도록 작성하세요."
   ]
  },
  {
   "cell_type": "code",
   "execution_count": 16,
   "metadata": {},
   "outputs": [
    {
     "name": "stdout",
     "output_type": "stream",
     "text": [
      "-1\n"
     ]
    }
   ],
   "source": [
    "def cal(data1, data2, way):\n",
    "    if way == \"+\":\n",
    "        return data1 + data2\n",
    "    elif way == \"*\":\n",
    "        return data1 * data2\n",
    "    elif way == \"-\":\n",
    "        return data1 - data2\n",
    "    elif way == \"/\":\n",
    "        if data2 == 0:\n",
    "            return -1\n",
    "        else:\n",
    "            return data1 / data2\n",
    "    else:\n",
    "        return 0\n",
    "\n",
    "c = cal(3,0,\"/\")\n",
    "print(c)"
   ]
  },
  {
   "cell_type": "code",
   "execution_count": null,
   "metadata": {},
   "outputs": [],
   "source": []
  },
  {
   "cell_type": "code",
   "execution_count": 10,
   "metadata": {},
   "outputs": [
    {
     "name": "stdout",
     "output_type": "stream",
     "text": [
      "3\n",
      "2\n",
      "-1\n",
      "-1\n",
      "0.5\n"
     ]
    }
   ],
   "source": [
    "def cal(data1, data2, way):\n",
    "    if way == \"+\":\n",
    "        return data1 + data2\n",
    "    elif way == \"*\":\n",
    "        return data1 * data2\n",
    "    elif way == \"-\":\n",
    "        return data1 - data2\n",
    "    elif way == \"/\":\n",
    "        if data2 == 0:\n",
    "            return -1\n",
    "        else:\n",
    "            return data1 / data2\n",
    "    else:\n",
    "        return 0\n",
    "    \n",
    "data = cal(1, 2, \"+\")\n",
    "print (data)\n",
    "\n",
    "data = cal(1, 2, \"*\")\n",
    "print (data)\n",
    "\n",
    "data = cal(1, 2, \"-\")\n",
    "print (data)\n",
    "\n",
    "data = cal(1, 0, \"/\")\n",
    "print (data)\n",
    "\n",
    "data = cal(1, 2, \"/\")\n",
    "print (data)"
   ]
  },
  {
   "cell_type": "markdown",
   "metadata": {},
   "source": [
    "### Exercise 70. 함수\n",
    "다음과 같은 기능을 하는 함수를 작성하고, 호출해보세요.\n",
    "```python\n",
    "첫번째 인자: 문자열\n",
    "두번째 인자: 숫자\n",
    "리턴값: 문자열을 숫자만큼 넣은 리스트\n",
    "출력 예1:\n",
    "print_string(\"Fun\", 3)\n",
    "\n",
    "[\"Fun\", \"Fun\", \"Fun\"]\n",
    "```"
   ]
  },
  {
   "cell_type": "code",
   "execution_count": 32,
   "metadata": {},
   "outputs": [
    {
     "data": {
      "text/plain": [
       "['ok', 'ok', 'ok', 'ok']"
      ]
     },
     "execution_count": 32,
     "metadata": {},
     "output_type": "execute_result"
    }
   ],
   "source": [
    "def temp(a,b):\n",
    "    x = list()\n",
    "    if type(a) == str:\n",
    "        if type(b) == int:\n",
    "            for i in range(b):\n",
    "                x.append(a)\n",
    "\n",
    "            return x\n",
    "temp('ok',4)"
   ]
  },
  {
   "cell_type": "code",
   "execution_count": null,
   "metadata": {},
   "outputs": [],
   "source": []
  },
  {
   "cell_type": "code",
   "execution_count": 12,
   "metadata": {},
   "outputs": [
    {
     "name": "stdout",
     "output_type": "stream",
     "text": [
      "['Fun', 'Fun', 'Fun']\n"
     ]
    }
   ],
   "source": [
    "def print_string(string, digit):\n",
    "    data = list()\n",
    "    for index in range(digit):\n",
    "        data.append(string)\n",
    "    return data\n",
    "\n",
    "print_string(\"Fun\", 3)"
   ]
  },
  {
   "cell_type": "markdown",
   "metadata": {},
   "source": [
    "<div class=\"alert alert-block\" style=\"border: 2px solid #1976D2;background-color:#E3F2FD;padding:5px;font-size:0.9em;\">\n",
    "본 자료는 저작권법 제25조 2항에 의해 보호를 받습니다. 본 자료를 외부에 공개하지 말아주세요.<br>\n",
    "본 강의만 잘 정리하면, 데이터 분석, 데이터 과학, 풀스택(백엔드, 프론트엔드) 개발 모두 가능합니다!<br>\n",
    "<b><a href=\"https://school.fun-coding.org/\">잔재미코딩</a> 에서 본 강의 기반 최적화된 로드맵도 확인하실 수 있습니다</b></div>"
   ]
  }
 ],
 "metadata": {
  "kernelspec": {
   "display_name": "Python 3 (ipykernel)",
   "language": "python",
   "name": "python3"
  },
  "language_info": {
   "codemirror_mode": {
    "name": "ipython",
    "version": 3
   },
   "file_extension": ".py",
   "mimetype": "text/x-python",
   "name": "python",
   "nbconvert_exporter": "python",
   "pygments_lexer": "ipython3",
   "version": "3.11.5"
  },
  "nbTranslate": {
   "displayLangs": [
    "*"
   ],
   "hotkey": "alt-t",
   "langInMainMenu": true,
   "sourceLang": "en",
   "targetLang": "fr",
   "useGoogleTranslate": true
  }
 },
 "nbformat": 4,
 "nbformat_minor": 2
}
