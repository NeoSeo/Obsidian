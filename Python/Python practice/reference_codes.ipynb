{
 "cells": [
  {
   "cell_type": "markdown",
   "metadata": {},
   "source": [
    "<div class=\"alert alert-block\" style=\"border: 2px solid #1976D2;background-color:#E3F2FD;padding:5px;font-size:0.9em;\">\n",
    "본 자료는 저작권법 제25조 2항에 의해 보호를 받습니다. 본 자료를 외부에 공개하지 말아주세요.<br>\n",
    "본 강의만 잘 정리하면, 데이터 분석, 데이터 과학, 풀스택(백엔드, 프론트엔드) 개발 모두 가능합니다!<br>\n",
    "<b><a href=\"https://school.fun-coding.org/\">잔재미코딩</a> 에서 본 강의 기반 최적화된 로드맵도 확인하실 수 있습니다</b></div>"
   ]
  },
  {
   "cell_type": "markdown",
   "metadata": {},
   "source": [
    "<div class=\"alert alert-block\" style=\"border: 2px solid #E65100;background-color:#FFF3E0;padding:10px\">\n",
    "<font size=\"4em\" style=\"color:#BF360C;\">실제 상용 웹사이트는 수시로 변경되기 때문에, 사이트가 변경되지 않도록, 직접 예제 웹사이트들을 구축하여,</font><br>\n",
    "<font size=\"4em\" style=\"color:#BF360C;\">변경되지 않은 사이트 상에서 걱정없이 크롤링 연습을 하실 수 있도록 만들었습니다.</font></div>"
   ]
  },
  {
   "cell_type": "markdown",
   "metadata": {},
   "source": [
    "### 예제 사이트 크롤링 (크롤링 코드 패턴)"
   ]
  },
  {
   "cell_type": "code",
   "execution_count": 8,
   "metadata": {},
   "outputs": [
    {
     "ename": "SelectorSyntaxError",
     "evalue": "Expected a selector at position 0\n  line 1:\n\n^",
     "output_type": "error",
     "traceback": [
      "\u001b[1;31m---------------------------------------------------------------------------\u001b[0m",
      "\u001b[1;31mSelectorSyntaxError\u001b[0m                       Traceback (most recent call last)",
      "Cell \u001b[1;32mIn[8], line 7\u001b[0m\n\u001b[0;32m      5\u001b[0m res \u001b[38;5;241m=\u001b[39m requests\u001b[38;5;241m.\u001b[39mget(url)\n\u001b[0;32m      6\u001b[0m soup \u001b[38;5;241m=\u001b[39m BeautifulSoup(res\u001b[38;5;241m.\u001b[39mcontent, \u001b[38;5;124m'\u001b[39m\u001b[38;5;124mhtml.parser\u001b[39m\u001b[38;5;124m'\u001b[39m)\n\u001b[1;32m----> 7\u001b[0m items \u001b[38;5;241m=\u001b[39m soup\u001b[38;5;241m.\u001b[39mselect(\u001b[38;5;124m'\u001b[39m\u001b[38;5;124m'\u001b[39m)\n\u001b[0;32m      8\u001b[0m \u001b[38;5;28;01mfor\u001b[39;00m item \u001b[38;5;129;01min\u001b[39;00m items:\n\u001b[0;32m      9\u001b[0m     \u001b[38;5;28mprint\u001b[39m (item\u001b[38;5;241m.\u001b[39mget_text())\n",
      "File \u001b[1;32m~\\anaconda3\\Lib\\site-packages\\bs4\\element.py:2111\u001b[0m, in \u001b[0;36mTag.select\u001b[1;34m(self, selector, namespaces, limit, **kwargs)\u001b[0m\n\u001b[0;32m   2091\u001b[0m \u001b[38;5;28;01mdef\u001b[39;00m \u001b[38;5;21mselect\u001b[39m(\u001b[38;5;28mself\u001b[39m, selector, namespaces\u001b[38;5;241m=\u001b[39m\u001b[38;5;28;01mNone\u001b[39;00m, limit\u001b[38;5;241m=\u001b[39m\u001b[38;5;28;01mNone\u001b[39;00m, \u001b[38;5;241m*\u001b[39m\u001b[38;5;241m*\u001b[39mkwargs):\n\u001b[0;32m   2092\u001b[0m \u001b[38;5;250m    \u001b[39m\u001b[38;5;124;03m\"\"\"Perform a CSS selection operation on the current element.\u001b[39;00m\n\u001b[0;32m   2093\u001b[0m \n\u001b[0;32m   2094\u001b[0m \u001b[38;5;124;03m    This uses the SoupSieve library.\u001b[39;00m\n\u001b[1;32m   (...)\u001b[0m\n\u001b[0;32m   2109\u001b[0m \u001b[38;5;124;03m    :rtype: bs4.element.ResultSet\u001b[39;00m\n\u001b[0;32m   2110\u001b[0m \u001b[38;5;124;03m    \"\"\"\u001b[39;00m\n\u001b[1;32m-> 2111\u001b[0m     \u001b[38;5;28;01mreturn\u001b[39;00m \u001b[38;5;28mself\u001b[39m\u001b[38;5;241m.\u001b[39mcss\u001b[38;5;241m.\u001b[39mselect(selector, namespaces, limit, \u001b[38;5;241m*\u001b[39m\u001b[38;5;241m*\u001b[39mkwargs)\n",
      "File \u001b[1;32m~\\anaconda3\\Lib\\site-packages\\bs4\\css.py:162\u001b[0m, in \u001b[0;36mCSS.select\u001b[1;34m(self, select, namespaces, limit, flags, **kwargs)\u001b[0m\n\u001b[0;32m    158\u001b[0m \u001b[38;5;28;01mif\u001b[39;00m limit \u001b[38;5;129;01mis\u001b[39;00m \u001b[38;5;28;01mNone\u001b[39;00m:\n\u001b[0;32m    159\u001b[0m     limit \u001b[38;5;241m=\u001b[39m \u001b[38;5;241m0\u001b[39m\n\u001b[0;32m    161\u001b[0m \u001b[38;5;28;01mreturn\u001b[39;00m \u001b[38;5;28mself\u001b[39m\u001b[38;5;241m.\u001b[39m_rs(\n\u001b[1;32m--> 162\u001b[0m     \u001b[38;5;28mself\u001b[39m\u001b[38;5;241m.\u001b[39mapi\u001b[38;5;241m.\u001b[39mselect(\n\u001b[0;32m    163\u001b[0m         select, \u001b[38;5;28mself\u001b[39m\u001b[38;5;241m.\u001b[39mtag, \u001b[38;5;28mself\u001b[39m\u001b[38;5;241m.\u001b[39m_ns(namespaces, select), limit, flags,\n\u001b[0;32m    164\u001b[0m         \u001b[38;5;241m*\u001b[39m\u001b[38;5;241m*\u001b[39mkwargs\n\u001b[0;32m    165\u001b[0m     )\n\u001b[0;32m    166\u001b[0m )\n",
      "File \u001b[1;32m~\\anaconda3\\Lib\\site-packages\\soupsieve\\__init__.py:147\u001b[0m, in \u001b[0;36mselect\u001b[1;34m(select, tag, namespaces, limit, flags, custom, **kwargs)\u001b[0m\n\u001b[0;32m    135\u001b[0m \u001b[38;5;28;01mdef\u001b[39;00m \u001b[38;5;21mselect\u001b[39m(\n\u001b[0;32m    136\u001b[0m     select: \u001b[38;5;28mstr\u001b[39m,\n\u001b[0;32m    137\u001b[0m     tag: \u001b[38;5;124m'\u001b[39m\u001b[38;5;124mbs4.Tag\u001b[39m\u001b[38;5;124m'\u001b[39m,\n\u001b[1;32m   (...)\u001b[0m\n\u001b[0;32m    143\u001b[0m     \u001b[38;5;241m*\u001b[39m\u001b[38;5;241m*\u001b[39mkwargs: Any\n\u001b[0;32m    144\u001b[0m ) \u001b[38;5;241m-\u001b[39m\u001b[38;5;241m>\u001b[39m \u001b[38;5;28mlist\u001b[39m[\u001b[38;5;124m'\u001b[39m\u001b[38;5;124mbs4.Tag\u001b[39m\u001b[38;5;124m'\u001b[39m]:\n\u001b[0;32m    145\u001b[0m \u001b[38;5;250m    \u001b[39m\u001b[38;5;124;03m\"\"\"Select the specified tags.\"\"\"\u001b[39;00m\n\u001b[1;32m--> 147\u001b[0m     \u001b[38;5;28;01mreturn\u001b[39;00m \u001b[38;5;28mcompile\u001b[39m(select, namespaces, flags, \u001b[38;5;241m*\u001b[39m\u001b[38;5;241m*\u001b[39mkwargs)\u001b[38;5;241m.\u001b[39mselect(tag, limit)\n",
      "File \u001b[1;32m~\\anaconda3\\Lib\\site-packages\\soupsieve\\__init__.py:65\u001b[0m, in \u001b[0;36mcompile\u001b[1;34m(pattern, namespaces, flags, custom, **kwargs)\u001b[0m\n\u001b[0;32m     62\u001b[0m         \u001b[38;5;28;01mraise\u001b[39;00m \u001b[38;5;167;01mValueError\u001b[39;00m(\u001b[38;5;124m\"\u001b[39m\u001b[38;5;124mCannot process \u001b[39m\u001b[38;5;124m'\u001b[39m\u001b[38;5;124mcustom\u001b[39m\u001b[38;5;124m'\u001b[39m\u001b[38;5;124m argument on a compiled selector list\u001b[39m\u001b[38;5;124m\"\u001b[39m)\n\u001b[0;32m     63\u001b[0m     \u001b[38;5;28;01mreturn\u001b[39;00m pattern\n\u001b[1;32m---> 65\u001b[0m \u001b[38;5;28;01mreturn\u001b[39;00m cp\u001b[38;5;241m.\u001b[39m_cached_css_compile(\n\u001b[0;32m     66\u001b[0m     pattern,\n\u001b[0;32m     67\u001b[0m     ct\u001b[38;5;241m.\u001b[39mNamespaces(namespaces) \u001b[38;5;28;01mif\u001b[39;00m namespaces \u001b[38;5;129;01mis\u001b[39;00m \u001b[38;5;129;01mnot\u001b[39;00m \u001b[38;5;28;01mNone\u001b[39;00m \u001b[38;5;28;01melse\u001b[39;00m namespaces,\n\u001b[0;32m     68\u001b[0m     ct\u001b[38;5;241m.\u001b[39mCustomSelectors(custom) \u001b[38;5;28;01mif\u001b[39;00m custom \u001b[38;5;129;01mis\u001b[39;00m \u001b[38;5;129;01mnot\u001b[39;00m \u001b[38;5;28;01mNone\u001b[39;00m \u001b[38;5;28;01melse\u001b[39;00m custom,\n\u001b[0;32m     69\u001b[0m     flags\n\u001b[0;32m     70\u001b[0m )\n",
      "File \u001b[1;32m~\\anaconda3\\Lib\\site-packages\\soupsieve\\css_parser.py:223\u001b[0m, in \u001b[0;36m_cached_css_compile\u001b[1;34m(pattern, namespaces, custom, flags)\u001b[0m\n\u001b[0;32m    214\u001b[0m \u001b[38;5;250m\u001b[39m\u001b[38;5;124;03m\"\"\"Cached CSS compile.\"\"\"\u001b[39;00m\n\u001b[0;32m    216\u001b[0m custom_selectors \u001b[38;5;241m=\u001b[39m process_custom(custom)\n\u001b[0;32m    217\u001b[0m \u001b[38;5;28;01mreturn\u001b[39;00m cm\u001b[38;5;241m.\u001b[39mSoupSieve(\n\u001b[0;32m    218\u001b[0m     pattern,\n\u001b[0;32m    219\u001b[0m     CSSParser(\n\u001b[0;32m    220\u001b[0m         pattern,\n\u001b[0;32m    221\u001b[0m         custom\u001b[38;5;241m=\u001b[39mcustom_selectors,\n\u001b[0;32m    222\u001b[0m         flags\u001b[38;5;241m=\u001b[39mflags\n\u001b[1;32m--> 223\u001b[0m     )\u001b[38;5;241m.\u001b[39mprocess_selectors(),\n\u001b[0;32m    224\u001b[0m     namespaces,\n\u001b[0;32m    225\u001b[0m     custom,\n\u001b[0;32m    226\u001b[0m     flags\n\u001b[0;32m    227\u001b[0m )\n",
      "File \u001b[1;32m~\\anaconda3\\Lib\\site-packages\\soupsieve\\css_parser.py:1145\u001b[0m, in \u001b[0;36mCSSParser.process_selectors\u001b[1;34m(self, index, flags)\u001b[0m\n\u001b[0;32m   1142\u001b[0m \u001b[38;5;28;01mdef\u001b[39;00m \u001b[38;5;21mprocess_selectors\u001b[39m(\u001b[38;5;28mself\u001b[39m, index: \u001b[38;5;28mint\u001b[39m \u001b[38;5;241m=\u001b[39m \u001b[38;5;241m0\u001b[39m, flags: \u001b[38;5;28mint\u001b[39m \u001b[38;5;241m=\u001b[39m \u001b[38;5;241m0\u001b[39m) \u001b[38;5;241m-\u001b[39m\u001b[38;5;241m>\u001b[39m ct\u001b[38;5;241m.\u001b[39mSelectorList:\n\u001b[0;32m   1143\u001b[0m \u001b[38;5;250m    \u001b[39m\u001b[38;5;124;03m\"\"\"Process selectors.\"\"\"\u001b[39;00m\n\u001b[1;32m-> 1145\u001b[0m     \u001b[38;5;28;01mreturn\u001b[39;00m \u001b[38;5;28mself\u001b[39m\u001b[38;5;241m.\u001b[39mparse_selectors(\u001b[38;5;28mself\u001b[39m\u001b[38;5;241m.\u001b[39mselector_iter(\u001b[38;5;28mself\u001b[39m\u001b[38;5;241m.\u001b[39mpattern), index, flags)\n",
      "File \u001b[1;32m~\\anaconda3\\Lib\\site-packages\\soupsieve\\css_parser.py:1078\u001b[0m, in \u001b[0;36mCSSParser.parse_selectors\u001b[1;34m(self, iselector, index, flags)\u001b[0m\n\u001b[0;32m   1073\u001b[0m     has_selector \u001b[38;5;241m=\u001b[39m \u001b[38;5;28;01mTrue\u001b[39;00m\n\u001b[0;32m   1075\u001b[0m \u001b[38;5;28;01mif\u001b[39;00m \u001b[38;5;129;01mnot\u001b[39;00m has_selector:\n\u001b[0;32m   1076\u001b[0m     \u001b[38;5;66;03m# We will always need to finish a selector when `:has()` is used as it leads with combining.\u001b[39;00m\n\u001b[0;32m   1077\u001b[0m     \u001b[38;5;66;03m# May apply to others as well.\u001b[39;00m\n\u001b[1;32m-> 1078\u001b[0m     \u001b[38;5;28;01mraise\u001b[39;00m SelectorSyntaxError(\n\u001b[0;32m   1079\u001b[0m         \u001b[38;5;124m'\u001b[39m\u001b[38;5;124mExpected a selector at position \u001b[39m\u001b[38;5;132;01m{}\u001b[39;00m\u001b[38;5;124m'\u001b[39m\u001b[38;5;241m.\u001b[39mformat(index),\n\u001b[0;32m   1080\u001b[0m         \u001b[38;5;28mself\u001b[39m\u001b[38;5;241m.\u001b[39mpattern,\n\u001b[0;32m   1081\u001b[0m         index\n\u001b[0;32m   1082\u001b[0m     )\n\u001b[0;32m   1084\u001b[0m \u001b[38;5;66;03m# Some patterns require additional logic, such as default. We try to make these the\u001b[39;00m\n\u001b[0;32m   1085\u001b[0m \u001b[38;5;66;03m# last pattern, and append the appropriate flag to that selector which communicates\u001b[39;00m\n\u001b[0;32m   1086\u001b[0m \u001b[38;5;66;03m# to the matcher what additional logic is required.\u001b[39;00m\n\u001b[0;32m   1087\u001b[0m \u001b[38;5;28;01mif\u001b[39;00m is_default:\n",
      "\u001b[1;31mSelectorSyntaxError\u001b[0m: Expected a selector at position 0\n  line 1:\n\n^"
     ]
    }
   ],
   "source": [
    "import requests\n",
    "from bs4 import BeautifulSoup\n",
    "\n",
    "url = 'https://davelee-fun.github.io/'\n",
    "res = requests.get(url)\n",
    "soup = BeautifulSoup(res.content, 'html.parser')\n",
    "items = soup.select('')\n",
    "for item in items:\n",
    "    print (item.get_text())"
   ]
  },
  {
   "cell_type": "code",
   "execution_count": 20,
   "metadata": {},
   "outputs": [
    {
     "name": "stdout",
     "output_type": "stream",
     "text": [
      "Blog\n",
      "About\n"
     ]
    }
   ],
   "source": [
    "from bs4 import BeautifulSoup\n",
    "import requests\n",
    "\n",
    "url = 'https://davelee-fun.github.io/'\n",
    "res = requests.get(url)\n",
    "soup = BeautifulSoup(res.content, 'html.parser')\n",
    "items = soup.select('li.nav-item')\n",
    "for i in items:\n",
    "    print(i.get_text().strip())"
   ]
  },
  {
   "cell_type": "markdown",
   "metadata": {},
   "source": [
    "### 예제 사이트 크롤링 연습1\n",
    "- Blog 와 About 메뉴 리스트 가져와 출력하기"
   ]
  },
  {
   "cell_type": "code",
   "execution_count": 10,
   "metadata": {},
   "outputs": [
    {
     "name": "stdout",
     "output_type": "stream",
     "text": [
      "Blog\n",
      "About\n"
     ]
    }
   ],
   "source": [
    "import requests\n",
    "from bs4 import BeautifulSoup\n",
    "\n",
    "url = 'https://davelee-fun.github.io/'\n",
    "res = requests.get(url)\n",
    "soup = BeautifulSoup(res.content, 'html.parser')\n",
    "items = soup.select('li.nav-item')\n",
    "for item in items:\n",
    "    print (item.get_text().strip())"
   ]
  },
  {
   "cell_type": "markdown",
   "metadata": {},
   "source": [
    "### 예제 사이트 크롤링 연습2\n",
    "- 'Teddy의 선물 블로그' 타이틀 가져와 출력하기"
   ]
  },
  {
   "cell_type": "code",
   "execution_count": 46,
   "metadata": {},
   "outputs": [
    {
     "name": "stdout",
     "output_type": "stream",
     "text": [
      "Teddy의 선물 블로그\n"
     ]
    }
   ],
   "source": [
    "from bs4 import BeautifulSoup\n",
    "import requests\n",
    "\n",
    "url = 'https://davelee-fun.github.io/'\n",
    "res = requests.get(url)\n",
    "soup = BeautifulSoup(res.content, 'html.parser')\n",
    "items = soup.select('h1')\n",
    "\n",
    "\n",
    "print(i.get_text())\n",
    "\n"
   ]
  },
  {
   "cell_type": "code",
   "execution_count": 41,
   "metadata": {},
   "outputs": [
    {
     "name": "stdout",
     "output_type": "stream",
     "text": [
      "Teddy의 선물 블로그\n"
     ]
    }
   ],
   "source": [
    "import requests\n",
    "from bs4 import BeautifulSoup\n",
    "\n",
    "url = 'https://davelee-fun.github.io/'\n",
    "res = requests.get(url)\n",
    "soup = BeautifulSoup(res.content, 'html.parser')\n",
    "items = soup.select('h1.sitetitle')\n",
    "for item in items:\n",
    "    print (item.get_text().strip())"
   ]
  },
  {
   "cell_type": "markdown",
   "metadata": {},
   "source": [
    "### 예제 사이트 크롤링 연습3\n",
    "- '선물하기 좋은 선물을 고르고 골라서 소개하는 블로그입니다.' 서브타이틀 가져와 출력하기"
   ]
  },
  {
   "cell_type": "code",
   "execution_count": 47,
   "metadata": {},
   "outputs": [
    {
     "name": "stdout",
     "output_type": "stream",
     "text": [
      "선물하기 좋은 선물을 고르고 골라서 소개하는 블로그입니다.\n"
     ]
    }
   ],
   "source": [
    "import requests\n",
    "from bs4 import BeautifulSoup\n",
    "\n",
    "url = 'https://davelee-fun.github.io/'\n",
    "res = requests.get(url)\n",
    "soup = BeautifulSoup(res.content, 'html.parser')\n",
    "items = soup.select('p.lead')\n",
    "\n",
    "for item in items:\n",
    "    print (item.get_text().strip())"
   ]
  },
  {
   "cell_type": "code",
   "execution_count": null,
   "metadata": {},
   "outputs": [],
   "source": [
    "import requests\n",
    "from bs4 import BeautifulSoup\n",
    "\n",
    "url = 'https://davelee-fun.github.io/'\n",
    "res = requests.get(url)\n",
    "soup = BeautifulSoup(res.content, 'html.parser')\n",
    "items = soup.select('p.lead')\n",
    "for item in items:\n",
    "    print (item.get_text().strip())"
   ]
  },
  {
   "cell_type": "markdown",
   "metadata": {},
   "source": [
    "### 예제 사이트 크롤링 연습4\n",
    "- Featured 에 있는 상품명 가져와 출력하기"
   ]
  },
  {
   "cell_type": "code",
   "execution_count": 54,
   "metadata": {},
   "outputs": [
    {
     "name": "stdout",
     "output_type": "stream",
     "text": [
      "상품명: 보몽드 순면스퀘어 솔리드 누빔매트커버, 다크블루\n",
      "상품명: 슈에뜨룸 선인장 리플 침구 세트, 베이지\n",
      "상품명: 선우랜드 레인보우 2단 문걸이용 옷걸이 _중형, 화이트, 상세페이지참조\n",
      "상품명: 보드래 헬로우 누빔 매트리스커버, 핑크\n"
     ]
    }
   ],
   "source": [
    "import requests\n",
    "from bs4 import BeautifulSoup\n",
    "\n",
    "url = 'https://davelee-fun.github.io/'\n",
    "res = requests.get(url)\n",
    "soup = BeautifulSoup(res.content, 'html.parser')\n",
    "items = soup.select('div.listfeaturedtag .card-text')\n",
    "\n",
    "for item in items:\n",
    "    print (item.get_text().strip())"
   ]
  },
  {
   "cell_type": "code",
   "execution_count": 53,
   "metadata": {},
   "outputs": [
    {
     "name": "stdout",
     "output_type": "stream",
     "text": [
      "상품명: 보몽드 순면스퀘어 솔리드 누빔매트커버, 다크블루\n",
      "상품명: 슈에뜨룸 선인장 리플 침구 세트, 베이지\n",
      "상품명: 선우랜드 레인보우 2단 문걸이용 옷걸이 _중형, 화이트, 상세페이지참조\n",
      "상품명: 보드래 헬로우 누빔 매트리스커버, 핑크\n"
     ]
    }
   ],
   "source": [
    "import requests\n",
    "from bs4 import BeautifulSoup\n",
    "\n",
    "url = 'https://davelee-fun.github.io/'\n",
    "res = requests.get(url)\n",
    "soup = BeautifulSoup(res.content, 'html.parser')\n",
    "box = soup.select_one('section.featured-posts')\n",
    "items = box.select('h4.card-text')\n",
    "for item in items:\n",
    "    print (item.get_text().strip())"
   ]
  },
  {
   "cell_type": "markdown",
   "metadata": {},
   "source": [
    "### 예제 사이트 크롤링 연습5\n",
    "- All Stories 에 있는 상품명 가져와 출력하기"
   ]
  },
  {
   "cell_type": "code",
   "execution_count": null,
   "metadata": {},
   "outputs": [],
   "source": [
    "import requests\n",
    "from bs4 import BeautifulSoup\n",
    "\n",
    "url = 'https://davelee-fun.github.io/'\n",
    "res = requests.get(url)\n",
    "soup = BeautifulSoup(res.content, 'html.parser')\n",
    "box = soup.select_one('section.featured-posts')\n",
    "items = box.select('h4.card-text')\n",
    "for item in items:\n",
    "    print (item.get_text().strip())"
   ]
  },
  {
   "cell_type": "code",
   "execution_count": null,
   "metadata": {},
   "outputs": [],
   "source": []
  },
  {
   "cell_type": "code",
   "execution_count": 55,
   "metadata": {},
   "outputs": [
    {
     "name": "stdout",
     "output_type": "stream",
     "text": [
      "상품명: 보드래 퍼펙트 누빔 매트리스커버, 차콜\n",
      "상품명: 피아블 클래식 방수 매트리스커버, 화이트\n",
      "상품명: 더자리 에코항균 마이크로 매트리스커버, 밀키차콜그레이\n",
      "상품명: 더자리 프레쉬 퓨어 매트리스 커버, 퓨어 차콜그레이\n",
      "상품명: 몽쉐어 알러스킨 항균 매트리스 커버, 카키그레이\n",
      "상품명: 쿠팡 브랜드 - 코멧 홈 40수 트윌 순면 100% 홑겹 매트리스커버, 그레이\n",
      "상품명: 패브릭아트 항균 마이크로 원단 매트리스 커버, 아이보리\n",
      "상품명: 바숨 순면 누빔 침대 매트리스커버, 차콜\n",
      "상품명: WEMAX 다용도 문옷걸이, 화이트, 1개\n",
      "상품명: 타카타카 프리미엄 나노 화이바 누빔 매트리스 커버, 젠틀핑핑\n",
      "상품명: 보몽드 순면스퀘어 누빔매트커버, 다크그레이\n",
      "상품명: 보드래 국내산 순면 60수 누빔 매트리스커버, 그레이\n"
     ]
    }
   ],
   "source": [
    "import requests\n",
    "from bs4 import BeautifulSoup\n",
    "\n",
    "url = 'https://davelee-fun.github.io/'\n",
    "res = requests.get(url)\n",
    "soup = BeautifulSoup(res.content, 'html.parser')\n",
    "box = soup.select_one('section.recent-posts')\n",
    "items = box.select('h4.card-text')\n",
    "for item in items:\n",
    "    print (item.get_text().strip())"
   ]
  },
  {
   "cell_type": "markdown",
   "metadata": {},
   "source": [
    "### 예제 사이트 크롤링 연습6\n",
    "- 'Never miss a story from us, subscribe to our newsletter' 하단부 메세지 가져와 출력하기"
   ]
  },
  {
   "cell_type": "code",
   "execution_count": 69,
   "metadata": {},
   "outputs": [
    {
     "name": "stdout",
     "output_type": "stream",
     "text": [
      "\n",
      "   Never miss a story from us, subscribe to our newsletter\n",
      "\n",
      "\n",
      "\n",
      "\n",
      "\n",
      "\n",
      "\n"
     ]
    }
   ],
   "source": [
    "import requests\n",
    "from bs4 import BeautifulSoup\n",
    "\n",
    "url = 'https://davelee-fun.github.io/'\n",
    "res = requests.get(url)\n",
    "soup = BeautifulSoup(res.content, 'html.parser')\n",
    "box = soup.select('div.container.text-center')\n",
    "for i in box:\n",
    "    print(i.get_text())"
   ]
  },
  {
   "cell_type": "code",
   "execution_count": 56,
   "metadata": {},
   "outputs": [
    {
     "name": "stdout",
     "output_type": "stream",
     "text": [
      "Never miss a story from us, subscribe to our newsletter\n"
     ]
    }
   ],
   "source": [
    "import requests\n",
    "from bs4 import BeautifulSoup\n",
    "\n",
    "url = 'https://davelee-fun.github.io/'\n",
    "res = requests.get(url)\n",
    "soup = BeautifulSoup(res.content, 'html.parser')\n",
    "items = soup.select('div.container.text-center')\n",
    "for item in items:\n",
    "    print (item.get_text().strip())"
   ]
  },
  {
   "cell_type": "markdown",
   "metadata": {},
   "source": [
    "<div class=\"alert alert-block\" style=\"border: 2px solid #1976D2;background-color:#E3F2FD;padding:5px;font-size:0.9em;\">\n",
    "본 자료는 저작권법 제25조 2항에 의해 보호를 받습니다. 본 자료를 외부에 공개하지 말아주세요.<br>\n",
    "본 강의만 잘 정리하면, 데이터 분석, 데이터 과학, 풀스택(백엔드, 프론트엔드) 개발 모두 가능합니다!<br>\n",
    "<b><a href=\"https://school.fun-coding.org/\">잔재미코딩</a> 에서 본 강의 기반 최적화된 로드맵도 확인하실 수 있습니다</b></div>"
   ]
  }
 ],
 "metadata": {
  "kernelspec": {
   "display_name": "Python 3 (ipykernel)",
   "language": "python",
   "name": "python3"
  },
  "language_info": {
   "codemirror_mode": {
    "name": "ipython",
    "version": 3
   },
   "file_extension": ".py",
   "mimetype": "text/x-python",
   "name": "python",
   "nbconvert_exporter": "python",
   "pygments_lexer": "ipython3",
   "version": "3.11.5"
  }
 },
 "nbformat": 4,
 "nbformat_minor": 4
}
