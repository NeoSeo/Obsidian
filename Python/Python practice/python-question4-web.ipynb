{
 "cells": [
  {
   "cell_type": "markdown",
   "metadata": {},
   "source": [
    "<div class=\"alert alert-block\" style=\"border: 2px solid #1976D2;background-color:#E3F2FD;padding:5px;font-size:0.9em;\">\n",
    "본 자료는 저작권법 제25조 2항에 의해 보호를 받습니다. 본 자료를 외부에 공개하지 말아주세요.<br>\n",
    "본 강의만 잘 정리하면, 데이터 분석, 데이터 과학, 풀스택(백엔드, 프론트엔드) 개발 모두 가능합니다!<br>\n",
    "</div>"
   ]
  },
  {
   "cell_type": "markdown",
   "metadata": {},
   "source": [
    "<div class=\"alert alert-block\" style=\"border: 2px solid #1976D2;background-color:#E3F2FD;padding:5px;font-size:0.9em;\">\n",
    "제 유투브 채널로 혼자서도 데이터 전과정, 풀스택 전과정을 익힐 수 있는 로드맵과 관련 커리어를  설명한 영상을 만들었는데요<br>\n",
    "꼭 한번 보시면 학습하시는데 큰 그림을 이해하실 수 있으실꺼예요. (괜찮으시면 구독과 좋아요도 부탁드립니다. ㅎ)<br>\n",
    "<b>- 데이터, AI 커리어와 데이터 전과정 학습 방법 완벽 가이드: <a href=\"https://youtu.be/vsoAyh4D-zw\">https://youtu.be/vsoAyh4D-zw</a><br>\n",
    "- 1인 창업도 가능한 가장 빠른 최신 풀스택 공부순서: <a href=\"https://youtu.be/mTouChThxzA\">https://youtu.be/mTouChThxzA</a></b><br>\n",
    "</div>"
   ]
  },
  {
   "cell_type": "markdown",
   "metadata": {},
   "source": [
    "## 4. 문제를 풀며 빠르게 익숙해지는 파이썬 기본 프로그래밍4"
   ]
  },
  {
   "cell_type": "markdown",
   "metadata": {},
   "source": [
    "### Exercise 49. 데이터 구조 (튜플)\n",
    "* a, b, c, d, e를 저장하는 튜플을 만들고 첫 번째 튜플값과 마지막 번째 튜플값을 출력하세요."
   ]
  },
  {
   "cell_type": "code",
   "execution_count": 6,
   "metadata": {},
   "outputs": [
    {
     "name": "stdout",
     "output_type": "stream",
     "text": [
      "a\n",
      "e\n"
     ]
    }
   ],
   "source": [
    "data = (\"a\",\"b\",'c',\"d\",\"e\")\n",
    "print(data[0])\n",
    "print(data[-1])"
   ]
  },
  {
   "cell_type": "code",
   "execution_count": null,
   "metadata": {},
   "outputs": [],
   "source": []
  },
  {
   "cell_type": "code",
   "execution_count": null,
   "metadata": {},
   "outputs": [],
   "source": []
  },
  {
   "cell_type": "code",
   "execution_count": 2,
   "metadata": {},
   "outputs": [
    {
     "name": "stdout",
     "output_type": "stream",
     "text": [
      "a e\n"
     ]
    }
   ],
   "source": [
    "data = \n",
    "\n",
    "\n",
    "data = ('a', 'b', 'c', 'd', 'e')\n",
    "print (data[0], data[-1])"
   ]
  },
  {
   "cell_type": "markdown",
   "metadata": {
    "collapsed": true
   },
   "source": [
    "### Exercise 50. 데이터 구조 (튜플)\n",
    "* 다음 코드를 작성해서 실행해보고 에러가 나는 이유를 설명하세요.\n",
    "\n",
    "  - 실행코드\n",
    "    ```python\n",
    "    tupledata = ('dave', 'fun-coding', 'endless')\n",
    "    tupledata[0] = 'david'\n",
    "    ```\n",
    "  - 에러\n",
    "    ```python\n",
    "    TypeError                                 Traceback (most recent call last)\n",
    "    <ipython-input-2-db4a259aad24> in <module>()\n",
    "          1 tupledata = ('dave', 'fun-coding', 'endless')\n",
    "    ----> 2 tupledata[0] = 'david'\n",
    "\n",
    "    TypeError: 'tuple' object does not support item assignment\n",
    "    ```"
   ]
  },
  {
   "cell_type": "code",
   "execution_count": 7,
   "metadata": {},
   "outputs": [
    {
     "ename": "TypeError",
     "evalue": "'tuple' object does not support item assignment",
     "output_type": "error",
     "traceback": [
      "\u001b[1;31m---------------------------------------------------------------------------\u001b[0m",
      "\u001b[1;31mTypeError\u001b[0m                                 Traceback (most recent call last)",
      "Cell \u001b[1;32mIn[7], line 2\u001b[0m\n\u001b[0;32m      1\u001b[0m tupledata \u001b[38;5;241m=\u001b[39m (\u001b[38;5;124m'\u001b[39m\u001b[38;5;124mdave\u001b[39m\u001b[38;5;124m'\u001b[39m, \u001b[38;5;124m'\u001b[39m\u001b[38;5;124mfun-coding\u001b[39m\u001b[38;5;124m'\u001b[39m, \u001b[38;5;124m'\u001b[39m\u001b[38;5;124mendless\u001b[39m\u001b[38;5;124m'\u001b[39m)\n\u001b[1;32m----> 2\u001b[0m tupledata[\u001b[38;5;241m0\u001b[39m] \u001b[38;5;241m=\u001b[39m \u001b[38;5;124m'\u001b[39m\u001b[38;5;124mdavid\u001b[39m\u001b[38;5;124m'\u001b[39m\n",
      "\u001b[1;31mTypeError\u001b[0m: 'tuple' object does not support item assignment"
     ]
    }
   ],
   "source": [
    "tupledata = ('dave', 'fun-coding', 'endless')\n",
    "tupledata[0] = 'david'"
   ]
  },
  {
   "cell_type": "code",
   "execution_count": null,
   "metadata": {},
   "outputs": [],
   "source": []
  },
  {
   "cell_type": "code",
   "execution_count": 3,
   "metadata": {},
   "outputs": [
    {
     "ename": "TypeError",
     "evalue": "'tuple' object does not support item assignment",
     "output_type": "error",
     "traceback": [
      "\u001b[0;31m---------------------------------------------------------------------------\u001b[0m",
      "\u001b[0;31mTypeError\u001b[0m                                 Traceback (most recent call last)",
      "\u001b[0;32m<ipython-input-3-cc03cfbee0be>\u001b[0m in \u001b[0;36m<module>\u001b[0;34m()\u001b[0m\n\u001b[1;32m      1\u001b[0m \u001b[0mtupledata\u001b[0m \u001b[0;34m=\u001b[0m \u001b[0;34m(\u001b[0m\u001b[0;34m'dave'\u001b[0m\u001b[0;34m,\u001b[0m \u001b[0;34m'fun-coding'\u001b[0m\u001b[0;34m,\u001b[0m \u001b[0;34m'endless'\u001b[0m\u001b[0;34m)\u001b[0m\u001b[0;34m\u001b[0m\u001b[0;34m\u001b[0m\u001b[0m\n\u001b[0;32m----> 2\u001b[0;31m \u001b[0mtupledata\u001b[0m\u001b[0;34m[\u001b[0m\u001b[0;36m0\u001b[0m\u001b[0;34m]\u001b[0m \u001b[0;34m=\u001b[0m \u001b[0;34m'david'\u001b[0m\u001b[0;34m\u001b[0m\u001b[0;34m\u001b[0m\u001b[0m\n\u001b[0m",
      "\u001b[0;31mTypeError\u001b[0m: 'tuple' object does not support item assignment"
     ]
    }
   ],
   "source": [
    "tupledata = ('dave', 'fun-coding', 'endless')\n",
    "tupledata[0] = 'david'"
   ]
  },
  {
   "cell_type": "markdown",
   "metadata": {},
   "source": [
    "### Exercise 51. 데이터 구조 (튜플)\n",
    "* 다음 코드를 읽고, 최종적으로 var1과 var2의 값이 어떤 값이될지 확인해보고, 왜 이렇게 동작하는지 튜플을 기반으로 설명하세요.\n",
    "  - 실행코드\n",
    "    ```python\n",
    "    var1, var2 = 1, 2\n",
    "    var1, var2 = var2, var1\n",
    "    ```"
   ]
  },
  {
   "cell_type": "code",
   "execution_count": null,
   "metadata": {},
   "outputs": [],
   "source": []
  },
  {
   "cell_type": "code",
   "execution_count": null,
   "metadata": {},
   "outputs": [],
   "source": []
  },
  {
   "cell_type": "code",
   "execution_count": 10,
   "metadata": {},
   "outputs": [
    {
     "name": "stdout",
     "output_type": "stream",
     "text": [
      "1 2\n",
      "2 1\n"
     ]
    }
   ],
   "source": [
    "var1, var2 = 1, 2\n",
    "print (var1, var2)\n",
    "type(var1)\n",
    "var1, var2 = var2, var1\n",
    "print(var1,var2)"
   ]
  },
  {
   "cell_type": "markdown",
   "metadata": {},
   "source": [
    "### Exercise 52. 데이터 구조 (튜플)\n",
    "* 다음 코드에서 두번째 데이터부터 마지막 데이터를 다음과 같이 출력하세요\n",
    "\n",
    "```python\n",
    "tupledata = ('fun-coding1', 'fun-coding2', 'fun-coding3', 'fun-coding4', 'fun-coding5')\n",
    "```\n",
    "\n",
    "출력:<br>\n",
    "('fun-coding2', 'fun-coding3', 'fun-coding4', 'fun-coding5')"
   ]
  },
  {
   "cell_type": "code",
   "execution_count": 14,
   "metadata": {},
   "outputs": [
    {
     "name": "stdout",
     "output_type": "stream",
     "text": [
      "('fun-coding2', 'fun-coding3', 'fun-coding4', 'fun-coding5')\n",
      "['fun-coding1', 'fun-coding2', 'fun-coding3', 'fun-coding4', 'fun-coding5']\n",
      "('fun-coding2', 'fun-coding3', 'fun-coding4', 'fun-coding5')\n"
     ]
    }
   ],
   "source": [
    "tupledata = ('fun-coding1', 'fun-coding2', 'fun-coding3', 'fun-coding4', 'fun-coding5')\n",
    "print(tupledata[1:])\n",
    "data = list(tupledata)\n",
    "print(data)\n",
    "del data[0]\n",
    "print(tuple(data))"
   ]
  },
  {
   "cell_type": "code",
   "execution_count": null,
   "metadata": {},
   "outputs": [],
   "source": []
  },
  {
   "cell_type": "code",
   "execution_count": 11,
   "metadata": {},
   "outputs": [
    {
     "data": {
      "text/plain": [
       "('fun-coding2', 'fun-coding3', 'fun-coding4', 'fun-coding5')"
      ]
     },
     "execution_count": 11,
     "metadata": {},
     "output_type": "execute_result"
    }
   ],
   "source": [
    "tupledata = ('fun-coding1', 'fun-coding2', 'fun-coding3', 'fun-coding4', 'fun-coding5')\n",
    "data = list(tupledata)\n",
    "del data[0]\n",
    "tuple(data)"
   ]
  },
  {
   "cell_type": "markdown",
   "metadata": {},
   "source": [
    "### Exercise 53. 데이터 구조 (튜플과 리스트)\n",
    "* 다음 튜플 데이터를 리스트 데이터로 변환한 후에 'fun-coding4' 데이터를 마지막에 추가하고, 다시 튜플 데이터로 변환하세요.\n",
    "```python\n",
    "tupledata = ('fun-coding1', 'fun-coding2', 'fun-coding3')\n",
    "```"
   ]
  },
  {
   "cell_type": "code",
   "execution_count": 17,
   "metadata": {},
   "outputs": [
    {
     "name": "stdout",
     "output_type": "stream",
     "text": [
      "['fun-coding1', 'fun-coding2', 'fun-coding3']\n"
     ]
    }
   ],
   "source": [
    "tupledata = ('fun-coding1', 'fun-coding2', 'fun-coding3')\n",
    "data = list(tupledata)\n",
    "print(data)\n",
    "data.append('fun-coding4')"
   ]
  },
  {
   "cell_type": "code",
   "execution_count": 14,
   "metadata": {},
   "outputs": [
    {
     "data": {
      "text/plain": [
       "('fun-coding1', 'fun-coding2', 'fun-coding3', 'fun-coding4')"
      ]
     },
     "execution_count": 14,
     "metadata": {},
     "output_type": "execute_result"
    }
   ],
   "source": [
    "tupledata = ('fun-coding1', 'fun-coding2', 'fun-coding3')\n",
    "data = list(tupledata)\n",
    "data.append('fun-coding4')\n",
    "tuple(data)\n"
   ]
  },
  {
   "cell_type": "markdown",
   "metadata": {},
   "source": [
    "### Exercise 54. 데이터 구조 (튜플, 리스트, 딕셔너리)\n",
    "* 비어 있는 튜플, 리스트, 딕셔너리 변수를 하나씩 각각 만드세요."
   ]
  },
  {
   "cell_type": "code",
   "execution_count": 18,
   "metadata": {},
   "outputs": [
    {
     "name": "stdout",
     "output_type": "stream",
     "text": [
      "<class 'tuple'> <class 'list'> <class 'dict'>\n"
     ]
    }
   ],
   "source": [
    "a = ()\n",
    "b = []\n",
    "c = dict()\n",
    "print(type(a),type(b),type(c))"
   ]
  },
  {
   "cell_type": "code",
   "execution_count": null,
   "metadata": {},
   "outputs": [],
   "source": []
  },
  {
   "cell_type": "code",
   "execution_count": 16,
   "metadata": {},
   "outputs": [
    {
     "name": "stdout",
     "output_type": "stream",
     "text": [
      "<class 'tuple'> <class 'list'> <class 'dict'>\n"
     ]
    }
   ],
   "source": [
    "data1 = tuple()\n",
    "data2 = list()\n",
    "data3 = dict()\n",
    "print (type(data1), type(data2), type(data3))"
   ]
  },
  {
   "cell_type": "markdown",
   "metadata": {},
   "source": [
    "### Exercise 55. 데이터 구조 (딕셔너리)\n",
    "* 다음 영어 사전 데이터를 딕셔너리 변수로 만들고, 딕셔너리 변수의 key 값인 영어단어, value 값인 의미 만을 가진 리스트 변수를 각각 만들고, 두 리스트 변수를 출력하세요.\n",
    "\n",
    "<table>\n",
    "<thead>\n",
    "<tr>\n",
    "<th>영어단어</th>\n",
    "<th>의미</th>\n",
    "</tr>\n",
    "</thead>\n",
    "<tbody>\n",
    "<tr>\n",
    "<td>environment</td>\n",
    "<td>환경</td>\n",
    "</tr>\n",
    "<tr>\n",
    "<td>company</td>\n",
    "<td>회사</td>\n",
    "</tr>\n",
    "<tr>\n",
    "<td>government</td>\n",
    "<td>정부, 정치</td>\n",
    "</tr>\n",
    "<tr>\n",
    "<td>face</td>\n",
    "<td>얼굴</td>\n",
    "</tr>\n",
    "</tbody>\n",
    "</table>\n",
    "\n",
    "* 출력 예\n",
    "<pre>\n",
    "{'environment': '환경', 'company': '회사', 'government': '정부, 정치', 'face': '얼굴'}\n",
    "['environment', 'company', 'government', 'face']\n",
    "['환경', '회사', '정부, 정치', '얼굴']\n",
    "</pre>"
   ]
  },
  {
   "cell_type": "code",
   "execution_count": 22,
   "metadata": {},
   "outputs": [
    {
     "name": "stdout",
     "output_type": "stream",
     "text": [
      "{'environment': '환경', 'company': '회사', 'government': '정부'}\n"
     ]
    },
    {
     "data": {
      "text/plain": [
       "dict_values(['환경', '회사', '정부'])"
      ]
     },
     "execution_count": 22,
     "metadata": {},
     "output_type": "execute_result"
    }
   ],
   "source": [
    "k = {'environment': '환경', 'company': '회사', 'government': '정부'}\n",
    "print(k)\n",
    "k.values()"
   ]
  },
  {
   "cell_type": "code",
   "execution_count": 23,
   "metadata": {},
   "outputs": [
    {
     "name": "stdout",
     "output_type": "stream",
     "text": [
      "{'environment': '환경', 'company': '회사', 'government': '정부, 정치', 'face': '얼굴'}\n",
      "['environment', 'company', 'government', 'face']\n",
      "['환경', '회사', '정부, 정치', '얼굴']\n"
     ]
    }
   ],
   "source": [
    "data = {'environment': '환경', 'company': '회사', 'government': '정부, 정치', 'face': '얼굴'}\n",
    "\n",
    "keys = data.keys()\n",
    "values = data.values()\n",
    "\n",
    "print (data)\n",
    "print (list(keys))\n",
    "print (list(values))\n",
    "    "
   ]
  },
  {
   "cell_type": "markdown",
   "metadata": {},
   "source": [
    "### Exercise 56. 데이터 구조 (딕셔너리)\n",
    "* 다음 영어 사전 데이터를 딕셔너리 변수로 만들어서 다음과 같이 출력하세요.\n",
    "  - 단, 반복문을 사용하세요.\n",
    "\n",
    "<pre>\n",
    "environment : 환경\n",
    "company : 회사\n",
    "gonernment : 정부, 정치\n",
    "face : 얼굴\n",
    "</pre>\n",
    "\n",
    "<table>\n",
    "<thead>\n",
    "<tr>\n",
    "<th>영어단어</th>\n",
    "<th>의미</th>\n",
    "</tr>\n",
    "</thead>\n",
    "<tbody>\n",
    "<tr>\n",
    "<td>environment</td>\n",
    "<td>환경</td>\n",
    "</tr>\n",
    "<tr>\n",
    "<td>company</td>\n",
    "<td>회사</td>\n",
    "</tr>\n",
    "<tr>\n",
    "<td>government</td>\n",
    "<td>정부, 정치</td>\n",
    "</tr>\n",
    "<tr>\n",
    "<td>face</td>\n",
    "<td>얼굴</td>\n",
    "</tr>\n",
    "</tbody>\n",
    "</table>\n",
    "\n"
   ]
  },
  {
   "cell_type": "code",
   "execution_count": 25,
   "metadata": {},
   "outputs": [
    {
     "name": "stdout",
     "output_type": "stream",
     "text": [
      "environment : 환경\n",
      "company : 회사\n",
      "government : 정부, 정치\n",
      "face : 얼굴\n"
     ]
    }
   ],
   "source": [
    "data = {'environment': '환경', 'company': '회사', 'government': '정부, 정치', 'face': '얼굴'}\n",
    "\n",
    "for i in data:\n",
    "    print(i, \":\", data[i])\n",
    "    \n"
   ]
  },
  {
   "cell_type": "code",
   "execution_count": null,
   "metadata": {},
   "outputs": [],
   "source": []
  },
  {
   "cell_type": "code",
   "execution_count": null,
   "metadata": {},
   "outputs": [],
   "source": []
  },
  {
   "cell_type": "code",
   "execution_count": null,
   "metadata": {},
   "outputs": [],
   "source": [
    "data = {'environment': '환경', 'company': '회사', 'government': '정부, 정치', 'face': '얼굴'}"
   ]
  },
  {
   "cell_type": "code",
   "execution_count": 24,
   "metadata": {},
   "outputs": [
    {
     "name": "stdout",
     "output_type": "stream",
     "text": [
      "environment : 환경\n",
      "company : 회사\n",
      "government : 정부, 정치\n",
      "face : 얼굴\n"
     ]
    }
   ],
   "source": [
    "data = {'environment': '환경', 'company': '회사', 'government': '정부, 정치', 'face': '얼굴'}\n",
    "\n",
    "for item in data.keys():\n",
    "    print (item, \":\", data[item])\n"
   ]
  },
  {
   "cell_type": "markdown",
   "metadata": {},
   "source": [
    "### Exercise 57. 데이터 구조 (딕셔너리)\n",
    "* 다음 영어 사전 데이터를 딕셔너리 변수로 만들고 외움표시가 X 인 영어단어만 출력하세요\n",
    "  - 단, key는 영어단어, value는 의미와 외움표시 두 데이터를 넣습니다.\n",
    "\n",
    "<pre>\n",
    "environment : 환경\n",
    "company : 회사\n",
    "gonernment : 정부, 정치\n",
    "face : 얼굴\n",
    "</pre>\n",
    "\n",
    "<table>\n",
    "<thead>\n",
    "<tr>\n",
    "<th>영어단어</th>\n",
    "<th>의미</th>\n",
    "<th>외움표시</th>\n",
    "</tr>\n",
    "</thead>\n",
    "<tbody>\n",
    "<tr>\n",
    "<td>environment</td>\n",
    "<td>환경</td>\n",
    "<td>X</td>\n",
    "</tr>\n",
    "<tr>\n",
    "<td>company</td>\n",
    "<td>회사</td>\n",
    "<td>O</td>\n",
    "</tr>\n",
    "<tr>\n",
    "<td>government</td>\n",
    "<td>정부, 정치</td>\n",
    "<td>X</td>\n",
    "</tr>\n",
    "<tr>\n",
    "<td>face</td>\n",
    "<td>얼굴</td>\n",
    "<td>X</td>\n",
    "</tr>\n",
    "</tbody>\n",
    "</table>\n",
    "\n",
    "* 출력 예\n",
    "<pre>\n",
    "environment\n",
    "government\n",
    "face\n",
    "</pre>"
   ]
  },
  {
   "cell_type": "code",
   "execution_count": 31,
   "metadata": {},
   "outputs": [
    {
     "name": "stdout",
     "output_type": "stream",
     "text": [
      "environment\n",
      "government\n",
      "face\n"
     ]
    }
   ],
   "source": [
    "data = {'environment': ['환경', 'X'], 'company': ['회사', 'O'], 'government': ['정부, 정치', 'X'], 'face': ['얼굴', 'X']}\n",
    "\n",
    "for i in data.keys():\n",
    "    datal = data[i]\n",
    "    if datal[1] == 'X':\n",
    "        print(i)\n",
    "        \n"
   ]
  },
  {
   "cell_type": "code",
   "execution_count": 33,
   "metadata": {},
   "outputs": [
    {
     "name": "stdout",
     "output_type": "stream",
     "text": [
      "environment\n",
      "['환경', 'X']\n",
      "government\n",
      "['정부, 정치', 'X']\n",
      "face\n",
      "['얼굴', 'X']\n"
     ]
    }
   ],
   "source": [
    "data = {'environment': ['환경', 'X'], 'company': ['회사', 'O'], 'government': ['정부, 정치', 'X'], 'face': ['얼굴', 'X']}\n",
    "\n",
    "for item in data.keys():\n",
    "    data_list = data[item]\n",
    "    if data_list[1] == 'X':\n",
    "        print (item)\n",
    "        print(data_list)\n"
   ]
  },
  {
   "cell_type": "markdown",
   "metadata": {},
   "source": [
    "### Exercise 58. 데이터 구조 (딕셔너리)\n",
    "* 다음 영어 사전 데이터를 딕셔너리 변수로 만들고 사용자로부터 영어단어를 입력받으면 해당 영어단어의 외움표시를 O로 수정하고, 외움표시가 X 인 단어만 출력하는 프로그램을 작성하세요.\n",
    "  - 단, key는 영어단어, value는 의미와 외움표시 두 데이터를 넣습니다.\n",
    "\n",
    "<pre>\n",
    "environment : 환경\n",
    "company : 회사\n",
    "gonernment : 정부, 정치\n",
    "face : 얼굴\n",
    "</pre>\n",
    "\n",
    "<table>\n",
    "<thead>\n",
    "<tr>\n",
    "<th>영어단어</th>\n",
    "<th>의미</th>\n",
    "<th>외움표시</th>\n",
    "</tr>\n",
    "</thead>\n",
    "<tbody>\n",
    "<tr>\n",
    "<td>environment</td>\n",
    "<td>환경</td>\n",
    "<td>X</td>\n",
    "</tr>\n",
    "<tr>\n",
    "<td>company</td>\n",
    "<td>회사</td>\n",
    "<td>O</td>\n",
    "</tr>\n",
    "<tr>\n",
    "<td>government</td>\n",
    "<td>정부, 정치</td>\n",
    "<td>X</td>\n",
    "</tr>\n",
    "<tr>\n",
    "<td>face</td>\n",
    "<td>얼굴</td>\n",
    "<td>X</td>\n",
    "</tr>\n",
    "</tbody>\n",
    "</table>\n",
    "\n",
    "* 입력: government\n",
    "* 출력\n",
    "<pre>\n",
    "environment\n",
    "face\n",
    "</pre>"
   ]
  },
  {
   "cell_type": "code",
   "execution_count": 40,
   "metadata": {},
   "outputs": [
    {
     "name": "stdout",
     "output_type": "stream",
     "text": [
      "입력하시오: company\n",
      "environment\n",
      "government\n",
      "face\n"
     ]
    }
   ],
   "source": [
    "data = {'environment': ['환경', 'X'], 'company': ['회사', 'O'], 'government': ['정부, 정치', 'X'], 'face': ['얼굴', 'X']}\n",
    "\n",
    "k = input('입력하시오: ')\n",
    "\n",
    "for i in data.keys():\n",
    "    dat = data[i]\n",
    "    if i == k:\n",
    "        dat[1] = 'O'\n",
    "        data[i] = dat\n",
    "    if dat[1] == 'X':\n",
    "        print(i)\n",
    "        \n"
   ]
  },
  {
   "cell_type": "code",
   "execution_count": null,
   "metadata": {},
   "outputs": [],
   "source": []
  },
  {
   "cell_type": "code",
   "execution_count": 32,
   "metadata": {},
   "outputs": [
    {
     "name": "stdout",
     "output_type": "stream",
     "text": [
      "ddddd\n",
      "environment\n",
      "government\n",
      "face\n"
     ]
    }
   ],
   "source": [
    "data = {'environment': ['환경', 'X'], 'company': ['회사', 'O'], 'government': ['정부, 정치', 'X'], 'face': ['얼굴', 'X']}\n",
    "\n",
    "\n",
    "k = input('입력하시오: ')\n",
    "\n",
    "for i in data.keys():\n",
    "    dat = data[i]\n",
    "    if i == k:\n",
    "        dat[1] = 'O'\n",
    "        data[i] = dat\n",
    "    if dat[1] == 'X':\n",
    "        print(i)\n",
    "\n",
    "\n",
    "english = input()\n",
    "if english in data.keys():\n",
    "    data[english][1] = 'O'\n",
    "\n",
    "for item in data.keys():\n",
    "    data_list = data[item]\n",
    "    if data_list[1] == 'X':\n",
    "        print (item)"
   ]
  },
  {
   "cell_type": "markdown",
   "metadata": {},
   "source": [
    "### Exercise 59. 데이터 구조 (딕셔너리)\n",
    "* 다음 dict_all, dict2, dict3 딕셔너리 변수가 있을 때, dict2와 dict3 두 데이터를 dict_all 딕셔너리 변수에 추가한 후, dict_all 변수를 출력하세요.\n",
    "```python\n",
    "dict_all = {'environment': '환경', 'gonernment':'정부, 정치'}\n",
    "dict2 = {'company': '회사', 'face':'얼굴'}\n",
    "dict3 = {'apple': '사과'}\n",
    "```"
   ]
  },
  {
   "cell_type": "code",
   "execution_count": 47,
   "metadata": {},
   "outputs": [
    {
     "name": "stdout",
     "output_type": "stream",
     "text": [
      "{'environment': '환경', 'gonernment': '정부, 정치', 'company': '회사', 'face': '얼굴'}\n",
      "{'environment': '환경', 'gonernment': '정부, 정치', 'company': '회사', 'face': '얼굴', 'apple': '사과'}\n"
     ]
    }
   ],
   "source": [
    "dict_all = {'environment': '환경', 'gonernment':'정부, 정치'}\n",
    "dict2 = {'company': '회사', 'face':'얼굴'}\n",
    "dict3 = {'apple': '사과'}\n",
    "\n",
    "\n",
    "for i in dict2.keys():\n",
    "    dict_all[i] = dict2[i]\n",
    "\n",
    "print(dict_all)\n",
    "\n",
    "for i in dict3.keys():\n",
    "    dict_all[i] = dict3[i]\n",
    "    \n",
    "print(dict_all)"
   ]
  },
  {
   "cell_type": "code",
   "execution_count": 33,
   "metadata": {},
   "outputs": [
    {
     "data": {
      "text/plain": [
       "{'environment': '환경',\n",
       " 'gonernment': '정부, 정치',\n",
       " 'company': '회사',\n",
       " 'face': '얼굴',\n",
       " 'apple': '사과'}"
      ]
     },
     "execution_count": 33,
     "metadata": {},
     "output_type": "execute_result"
    }
   ],
   "source": [
    "dict_all = {'environment': '환경', 'gonernment':'정부, 정치'}\n",
    "dict2 = {'company': '회사', 'face':'얼굴'}\n",
    "dict3 = {'apple': '사과'}\n",
    "\n",
    "for item in dict2.keys():\n",
    "    dict_all[item] = dict2[item]\n",
    "    \n",
    "for item in dict3.keys():\n",
    "    dict_all[item] = dict3[item]\n",
    "    \n",
    "dict_all"
   ]
  },
  {
   "cell_type": "markdown",
   "metadata": {},
   "source": [
    "### Exercise 60. 데이터 구조 (딕셔너리)\n",
    "* 다음 actor_info 딕셔너리 변수를 만들고, 홈페이지, 배우 이름, 최근 출연 영화 갯수를 다음과 같이 출력하세요\n",
    "\n",
    "```python\n",
    "actor_info = {'actor_details': {'생년월일': '1971-03-01',\n",
    "                   '성별': '남',\n",
    "                   '직업': '배우',\n",
    "                   '홈페이지': 'https://www.instagram.com/madongseok'},\n",
    " 'actor_name': '마동석',\n",
    " 'actor_rate': 59361,\n",
    " 'date': '2017-10',\n",
    " 'movie_list': ['범죄도시', '부라더', '부산행']}\n",
    "```\n",
    "\n",
    "* 출력 예:<br>\n",
    "배우 이름: 마동석 <br>\n",
    "홈페이지: https://www.instagram.com/madongseok <br>\n",
    "출연 영화 갯수: 3 <br>"
   ]
  },
  {
   "cell_type": "code",
   "execution_count": 57,
   "metadata": {},
   "outputs": [
    {
     "name": "stdout",
     "output_type": "stream",
     "text": [
      "배우 이름: 마동석\n",
      "홈페이저: https://www.instagram.com/madongseok\n",
      "출연 영화 갯수: 3\n"
     ]
    }
   ],
   "source": [
    "actor_info = {'actor_details': {'생년월일': '1971-03-01',\n",
    "                   '성별': '남',\n",
    "                   '직업': '배우',\n",
    "                   '홈페이지': 'https://www.instagram.com/madongseok'},\n",
    " 'actor_name': '마동석',\n",
    " 'actor_rate': 59361,\n",
    " 'date': '2017-10',\n",
    " 'movie_list': ['범죄도시', '부라더', '부산행']}\n",
    "\n",
    "print('배우 이름:', actor_info['actor_name'])\n",
    "print('홈페이저:', actor_info['actor_details']['홈페이지'])\n",
    "print('출연 영화 갯수:', len(actor_info['movie_list']))"
   ]
  },
  {
   "cell_type": "code",
   "execution_count": null,
   "metadata": {},
   "outputs": [],
   "source": []
  },
  {
   "cell_type": "code",
   "execution_count": 38,
   "metadata": {},
   "outputs": [
    {
     "name": "stdout",
     "output_type": "stream",
     "text": [
      "배우 이름: 마동석\n",
      "홈페이지: https://www.instagram.com/madongseok\n",
      "출연 영화 갯수: 3\n"
     ]
    }
   ],
   "source": [
    "actor_info = {'actor_details': {'생년월일': '1971-03-01',\n",
    "                   '성별': '남',\n",
    "                   '직업': '배우',\n",
    "                   '홈페이지': 'https://www.instagram.com/madongseok'},\n",
    " 'actor_name': '마동석',\n",
    " 'actor_rate': 59361,\n",
    " 'date': '2017-10',\n",
    " 'movie_list': ['범죄도시', '부라더', '부산행']}\n",
    "\n",
    "print (\"배우 이름:\", actor_info['actor_name'])\n",
    "print (\"홈페이지:\", actor_info['actor_details']['홈페이지'])\n",
    "print (\"출연 영화 갯수:\", len(actor_info['movie_list']))"
   ]
  },
  {
   "cell_type": "markdown",
   "metadata": {},
   "source": [
    "### Exercise 61.  데이터 구조 (집합)\n",
    "number_list가 다음과 같은 리스트일 때 중복 숫자를 제거한 number_list1 집합을 만들고, 출력하세요\n",
    "```python\n",
    "number_list = [5, 1, 2, 2, 3, 3, 4, 5, 5, 6, 7, 8, 9, 9, 10, 10]\n",
    "```"
   ]
  },
  {
   "cell_type": "code",
   "execution_count": 59,
   "metadata": {},
   "outputs": [
    {
     "name": "stdout",
     "output_type": "stream",
     "text": [
      "{1, 2, 3, 4, 5, 6, 7, 8, 9, 10}\n"
     ]
    }
   ],
   "source": [
    "number_list = [5, 1, 2, 2, 3, 3, 4, 5, 5, 6, 7, 8, 9, 9, 10, 10]\n",
    "number_list1 = set(number_list)\n",
    "set(number_list1)\n",
    "print(number_list1)"
   ]
  },
  {
   "cell_type": "code",
   "execution_count": null,
   "metadata": {},
   "outputs": [],
   "source": []
  },
  {
   "cell_type": "code",
   "execution_count": null,
   "metadata": {},
   "outputs": [],
   "source": []
  },
  {
   "cell_type": "code",
   "execution_count": null,
   "metadata": {},
   "outputs": [],
   "source": [
    "number_list = [5, 1, 2, 2, 3, 3, 4, 5, 5, 6, 7, 8, 9, 9, 10, 10]\n",
    "e"
   ]
  },
  {
   "cell_type": "code",
   "execution_count": 39,
   "metadata": {},
   "outputs": [
    {
     "data": {
      "text/plain": [
       "{1, 2, 3, 4, 5, 6, 7, 8, 9, 10}"
      ]
     },
     "execution_count": 39,
     "metadata": {},
     "output_type": "execute_result"
    }
   ],
   "source": [
    "number_list = [5, 1, 2, 2, 3, 3, 4, 5, 5, 6, 7, 8, 9, 9, 10, 10]\n",
    "number_list1 = set(number_list)\n",
    "number_list1"
   ]
  },
  {
   "cell_type": "markdown",
   "metadata": {},
   "source": [
    "### Exercise 62.  데이터 구조 (집합)\n",
    "number_list2에 다음과 같은 데이터를 순서대로 추가하고, 제거하세요\n",
    "```python\n",
    "선언: [1, 2, 3]\n",
    "추가: 4\n",
    "추가(업데이트): [5, 6]\n",
    "제거: 2\n",
    "```"
   ]
  },
  {
   "cell_type": "code",
   "execution_count": 70,
   "metadata": {},
   "outputs": [
    {
     "name": "stdout",
     "output_type": "stream",
     "text": [
      "[1, 3, 4, 5, 6]\n"
     ]
    }
   ],
   "source": [
    "number_list2 = {1,2,3}\n",
    "list3 = list(number_list2)\n",
    "\n",
    "list3.append(4)\n",
    "list3 = list3 + [5,6]\n",
    "list3\n",
    "list3.remove(2)\n",
    "print(list3)"
   ]
  },
  {
   "cell_type": "code",
   "execution_count": null,
   "metadata": {},
   "outputs": [],
   "source": []
  },
  {
   "cell_type": "code",
   "execution_count": null,
   "metadata": {},
   "outputs": [],
   "source": []
  },
  {
   "cell_type": "code",
   "execution_count": 44,
   "metadata": {},
   "outputs": [
    {
     "data": {
      "text/plain": [
       "{1, 3, 4, 5, 6}"
      ]
     },
     "execution_count": 44,
     "metadata": {},
     "output_type": "execute_result"
    }
   ],
   "source": [
    "number_list2 = {1, 2, 3}\n",
    "number_list2.add(4) # 하나의 데이터를 추가할 때는 add\n",
    "number_list2.update([5, 6]) # 여러 데이터를 추가할 때는 리스트 형태로 update 함수를 사용\n",
    "number_list2.remove(2) # 특정 데이터를 삭제할 때는 remove\n",
    "number_list2"
   ]
  },
  {
   "cell_type": "markdown",
   "metadata": {},
   "source": [
    "### Exercise 63.  데이터 구조 (집합)\n",
    "number_list1과 number_list2의 교집합, 차집합을 출력하세요"
   ]
  },
  {
   "cell_type": "code",
   "execution_count": 71,
   "metadata": {},
   "outputs": [
    {
     "data": {
      "text/plain": [
       "{1, 2, 3, 4, 5, 6, 7, 8, 9, 10}"
      ]
     },
     "execution_count": 71,
     "metadata": {},
     "output_type": "execute_result"
    }
   ],
   "source": [
    "\n",
    "number_list1"
   ]
  },
  {
   "cell_type": "code",
   "execution_count": 72,
   "metadata": {},
   "outputs": [
    {
     "data": {
      "text/plain": [
       "{1, 2, 3}"
      ]
     },
     "execution_count": 72,
     "metadata": {},
     "output_type": "execute_result"
    }
   ],
   "source": [
    "number_list2"
   ]
  },
  {
   "cell_type": "code",
   "execution_count": 76,
   "metadata": {},
   "outputs": [
    {
     "data": {
      "text/plain": [
       "{4, 5, 6, 7, 8, 9, 10}"
      ]
     },
     "execution_count": 76,
     "metadata": {},
     "output_type": "execute_result"
    }
   ],
   "source": [
    "number_list1 ^ number_list2"
   ]
  },
  {
   "cell_type": "code",
   "execution_count": null,
   "metadata": {},
   "outputs": [],
   "source": []
  },
  {
   "cell_type": "code",
   "execution_count": 47,
   "metadata": {},
   "outputs": [
    {
     "data": {
      "text/plain": [
       "{1, 3, 4, 5, 6}"
      ]
     },
     "execution_count": 47,
     "metadata": {},
     "output_type": "execute_result"
    }
   ],
   "source": [
    "number_list1 & number_list2"
   ]
  },
  {
   "cell_type": "code",
   "execution_count": 48,
   "metadata": {},
   "outputs": [
    {
     "data": {
      "text/plain": [
       "{2, 7, 8, 9, 10}"
      ]
     },
     "execution_count": 48,
     "metadata": {},
     "output_type": "execute_result"
    }
   ],
   "source": [
    "number_list1 - number_list2"
   ]
  },
  {
   "cell_type": "code",
   "execution_count": 49,
   "metadata": {},
   "outputs": [
    {
     "data": {
      "text/plain": [
       "{1, 2, 3, 4, 5, 6, 7, 8, 9, 10}"
      ]
     },
     "execution_count": 49,
     "metadata": {},
     "output_type": "execute_result"
    }
   ],
   "source": [
    "number_list1 | number_list2"
   ]
  },
  {
   "cell_type": "markdown",
   "metadata": {},
   "source": [
    "<div class=\"alert alert-block\" style=\"border: 2px solid #1976D2;background-color:#E3F2FD;padding:5px;font-size:0.9em;\">\n",
    "본 자료는 저작권법 제25조 2항에 의해 보호를 받습니다. 본 자료를 외부에 공개하지 말아주세요.<br>\n",
    "본 강의만 잘 정리하면, 데이터 분석, 데이터 과학, 풀스택(백엔드, 프론트엔드) 개발 모두 가능합니다!<br>\n",
    "<b><a href=\"https://school.fun-coding.org/\">잔재미코딩</a> 에서 본 강의 기반 최적화된 로드맵도 확인하실 수 있습니다</b></div>"
   ]
  }
 ],
 "metadata": {
  "kernelspec": {
   "display_name": "Python 3 (ipykernel)",
   "language": "python",
   "name": "python3"
  },
  "language_info": {
   "codemirror_mode": {
    "name": "ipython",
    "version": 3
   },
   "file_extension": ".py",
   "mimetype": "text/x-python",
   "name": "python",
   "nbconvert_exporter": "python",
   "pygments_lexer": "ipython3",
   "version": "3.11.5"
  },
  "nbTranslate": {
   "displayLangs": [
    "*"
   ],
   "hotkey": "alt-t",
   "langInMainMenu": true,
   "sourceLang": "en",
   "targetLang": "fr",
   "useGoogleTranslate": true
  }
 },
 "nbformat": 4,
 "nbformat_minor": 2
}
