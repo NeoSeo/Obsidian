{
 "cells": [
  {
   "cell_type": "markdown",
   "metadata": {},
   "source": [
    "<div class=\"alert alert-block\" style=\"border: 2px solid #1976D2;background-color:#E3F2FD;padding:5px;font-size:0.9em;\">\n",
    "본 자료는 저작권법 제25조 2항에 의해 보호를 받습니다. 본 자료를 외부에 공개하지 말아주세요.<br>\n",
    "본 강의만 잘 정리하면, 데이터 분석, 데이터 과학, 풀스택(백엔드, 프론트엔드) 개발 모두 가능합니다!<br>\n",
    "</div>"
   ]
  },
  {
   "cell_type": "markdown",
   "metadata": {},
   "source": [
    "<div class=\"alert alert-block\" style=\"border: 2px solid #1976D2;background-color:#E3F2FD;padding:5px;font-size:0.9em;\">\n",
    "제 유투브 채널로 혼자서도 데이터 전과정, 풀스택 전과정을 익힐 수 있는 로드맵과 관련 커리어를  설명한 영상을 만들었는데요<br>\n",
    "꼭 한번 보시면 학습하시는데 큰 그림을 이해하실 수 있으실꺼예요. (괜찮으시면 구독과 좋아요도 부탁드립니다. ㅎ)<br>\n",
    "<b>- 데이터, AI 커리어와 데이터 전과정 학습 방법 완벽 가이드: <a href=\"https://youtu.be/vsoAyh4D-zw\">https://youtu.be/vsoAyh4D-zw</a><br>\n",
    "- 1인 창업도 가능한 가장 빠른 최신 풀스택 공부순서: <a href=\"https://youtu.be/mTouChThxzA\">https://youtu.be/mTouChThxzA</a></b><br>\n",
    "</div>"
   ]
  },
  {
   "cell_type": "markdown",
   "metadata": {},
   "source": [
    "## 2. 문제를 풀며 빠르게 익숙해지는 파이썬 기본 프로그래밍2"
   ]
  },
  {
   "cell_type": "markdown",
   "metadata": {},
   "source": [
    "### Exercise 12. 기본 자료형\n",
    "* 10, 2.2, \"fun-coding\" 각각을 변수에 넣고, 각 데이터 타입을 출력하세요."
   ]
  },
  {
   "cell_type": "code",
   "execution_count": 1,
   "metadata": {},
   "outputs": [
    {
     "name": "stdout",
     "output_type": "stream",
     "text": [
      "<class 'int'> <class 'float'> <class 'str'>\n"
     ]
    }
   ],
   "source": [
    "data = 10\n",
    "data1 = 2.2\n",
    "data2 = \"fun-coding\"\n",
    "print(type(data) ,type(data1), type(data2))\n",
    "\n"
   ]
  },
  {
   "cell_type": "markdown",
   "metadata": {},
   "source": [
    "### Exercise 13. 기본 자료형\n",
    "* 다음 코드를 실행해보고 \\t와 \\n의 역할을 설명하세요.\n",
    "```python\n",
    "code = '000660\\n00000102\\t12312312'\n",
    "print (code)\n",
    "```"
   ]
  },
  {
   "cell_type": "code",
   "execution_count": 2,
   "metadata": {},
   "outputs": [
    {
     "name": "stdout",
     "output_type": "stream",
     "text": [
      "000660\n",
      "00000102\t12312312\n"
     ]
    }
   ],
   "source": [
    "code = '000660\\n00000102\\t12312312'\n",
    "print (code)"
   ]
  },
  {
   "cell_type": "markdown",
   "metadata": {},
   "source": [
    "### Exercise 14. 조건문\n",
    "* 사용자로부터 두 개의 숫자를 입력 받은 후 큰 숫자를 화면에 출력하세요."
   ]
  },
  {
   "cell_type": "code",
   "execution_count": 4,
   "metadata": {},
   "outputs": [
    {
     "name": "stdout",
     "output_type": "stream",
     "text": [
      "3\n",
      "3\n",
      "3 3\n"
     ]
    }
   ],
   "source": [
    "a = int(input())\n",
    "b = int(input())\n",
    "\n",
    "if a > b:\n",
    "    print(a)\n",
    "elif a == b:\n",
    "    print(a,b)\n",
    "else:\n",
    "    print(b)"
   ]
  },
  {
   "cell_type": "markdown",
   "metadata": {},
   "source": [
    "### Exercise 15. 조건문\n",
    "* 사용자로부터 입력 받은 숫자가 홀수인지 짝수인지 출력하세요."
   ]
  },
  {
   "cell_type": "markdown",
   "metadata": {},
   "source": [
    "data = int(input())\n",
    "if data == 0:\n",
    "    print('자연수가 아\n",
    "    님')\n",
    "elif data%2 == 0:\n",
    "    print('짝수')\n",
    "else:\n",
    "    print('홀수')\n",
    "\n"
   ]
  },
  {
   "cell_type": "code",
   "execution_count": 20,
   "metadata": {},
   "outputs": [
    {
     "name": "stdout",
     "output_type": "stream",
     "text": [
      "-2\n",
      "짝수\n"
     ]
    }
   ],
   "source": [
    "data = int(input())\n",
    "if data == 0:\n",
    "    print('자연수가 아님')\n",
    "elif data%2 == 0:\n",
    "    print('짝수')\n",
    "else:\n",
    "    print('홀수')\n",
    "\n"
   ]
  },
  {
   "cell_type": "markdown",
   "metadata": {},
   "source": [
    "### Exercise 16.  조건문\n",
    "* 사용자로부터 세 개의 숫자를 입력 받은 후 가장 작은 숫자를 출력하세요."
   ]
  },
  {
   "cell_type": "code",
   "execution_count": null,
   "metadata": {},
   "outputs": [],
   "source": [
    "a = int(input())\n",
    "b = int(input())\n",
    "c = int(input())\n",
    "\n",
    "if a > b:\n",
    "    if b < c:\n",
    "        print(b)\n",
    "    elif:\n",
    "        print(c)\n",
    "    else:\n",
    "        print(a)\n",
    "    \n",
    "\n",
    "\n"
   ]
  },
  {
   "cell_type": "code",
   "execution_count": null,
   "metadata": {},
   "outputs": [],
   "source": [
    "\n",
    "\n",
    "if data1 <= data2 and data1 <= data3:\n",
    "    print (data1)\n",
    "elif data2 <= data1 and data2 <= data3:\n",
    "    print (data2)\n",
    "elif data3 <= data1 and data3 <= data2:\n",
    "    print (data3)    "
   ]
  },
  {
   "cell_type": "markdown",
   "metadata": {},
   "source": [
    "### Exercise 17. 조건문\n",
    "* 사용자로부터 점수를 입력 받은 후 등급을 출력하라.\n",
    "  - (A: 100 ~ 81, B: 80 ~ 61, C: 60 ~ 0)"
   ]
  },
  {
   "cell_type": "code",
   "execution_count": 10,
   "metadata": {},
   "outputs": [
    {
     "name": "stdout",
     "output_type": "stream",
     "text": [
      "120\n"
     ]
    }
   ],
   "source": [
    "data = int(input())\n",
    "\n",
    "\n",
    "\n",
    "if data >= 81 and data <= 100:\n",
    "    print (\"A\")\n",
    "elif data >= 61 and data <= 80:\n",
    "    print (\"B\")\n",
    "elif data >= 0 and data <= 60:\n",
    "    print (\"C\")"
   ]
  },
  {
   "cell_type": "markdown",
   "metadata": {},
   "source": [
    "### Exercise 18. 문자열과 인덱스\n",
    "* 사용자로부터 주민등록번호를 입력받아 출생 연도를 출력하세요.\n",
    "  - 예) 800001-1231231 주민번호를 입력받으면 80을 출력하면 됨"
   ]
  },
  {
   "cell_type": "code",
   "execution_count": 13,
   "metadata": {},
   "outputs": [
    {
     "name": "stdout",
     "output_type": "stream",
     "text": [
      "주민번호 입력800\n",
      "출생년도:  80 년\n"
     ]
    }
   ],
   "source": [
    "entry = input(\"주민번호 입력\")\n",
    "print(\"출생년도\",entry[0:2],\"\")\n",
    "\n",
    "\n",
    "\n",
    "\n",
    "\n",
    "data = input(\"주민번호는?\")\n",
    "\n",
    "print (\"출생년도:\", data[0:2], \"년도\")"
   ]
  },
  {
   "cell_type": "markdown",
   "metadata": {},
   "source": [
    "### Exercise 19. 데이터 구조 (리스트)\n",
    "* 사용자로부터 주민등록번호를 입력받아 뒷자리 맨 앞의 숫자를 출력하세요.\n",
    "  - 주민등록번호 뒷자리 맨 앞자리는 성별을 나타냄\n",
    "  - 예) 800001-1231231 주민번호를 입력받으면 1을 출력하면 됨\n",
    "  - 1은 남성을 의미, 2는 여성을 의미, 최근 아이들은 3과 4를 사용함 "
   ]
  },
  {
   "cell_type": "code",
   "execution_count": null,
   "metadata": {},
   "outputs": [],
   "source": [
    "\n",
    "\n"
   ]
  },
  {
   "cell_type": "markdown",
   "metadata": {},
   "source": [
    "### Exercise 20. 데이터 구조 (리스트)\n",
    "* 사용자로부터 주민등록번호를 입력받아, 성별을 '남성' 또는 '여성'으로 출력하세요.\n",
    "  - 주민등록번호 뒷자리 맨 앞자리는 성별을 나타냄\n",
    "  - 예) 800001-1231231 주민번호를 입력받으면 1을 출력하면 됨\n",
    "  - 1이면 남성, 2이면 여성을 출력하면 됨 (최근 아이들은 3과 4를 사용하지만 이 경우는 고려하지 않기로 함) "
   ]
  },
  {
   "cell_type": "code",
   "execution_count": 19,
   "metadata": {},
   "outputs": [
    {
     "name": "stdout",
     "output_type": "stream",
     "text": [
      "주민번호 입력: 860311-2155513\n",
      "여성\n"
     ]
    }
   ],
   "source": [
    "data = input('주민번호 입력: ')\n",
    "if data[7] == '1':\n",
    "    print('남성')\n",
    "else:\n",
    "    print('여성')\n",
    "\n",
    "\n",
    "\n",
    "\n"
   ]
  },
  {
   "cell_type": "markdown",
   "metadata": {},
   "source": [
    "### Exercise 21. 문자열 다루기 (strip)\n",
    "* 다음 문자열에서 ...를 제거하라.\n",
    "```python\n",
    "mystr = \"a man goes into the room...\"\n",
    "```\n",
    "출력 예: 'a man goes into the room'"
   ]
  },
  {
   "cell_type": "code",
   "execution_count": 20,
   "metadata": {},
   "outputs": [
    {
     "name": "stdout",
     "output_type": "stream",
     "text": [
      "a man goes into the room\n"
     ]
    }
   ],
   "source": [
    "\n",
    "\n",
    "\n",
    "\n",
    "\n",
    "\n",
    "mystr = \"a man goes into the room...\"\n",
    "print (mystr.strip(\".\"))"
   ]
  },
  {
   "cell_type": "markdown",
   "metadata": {},
   "source": [
    "### Exercise 22. 문자열 다루기 (strip)\n",
    "* 주식 종목을 나타내는 종목코드에 공백과 줄바꿈 기호가 포함되어 있다. 공백과 줄바꿈 기호를 제거하고 종목코드만을 추출하라.\n",
    "```python\n",
    "code = '         000660\\n            '\n",
    "```\n",
    "출력: '000660'"
   ]
  },
  {
   "cell_type": "code",
   "execution_count": 21,
   "metadata": {},
   "outputs": [
    {
     "name": "stdout",
     "output_type": "stream",
     "text": [
      "000660\n"
     ]
    }
   ],
   "source": [
    "\n",
    "print(code.strip(' #'))\n",
    "\n",
    "code = '         000660#            '\n",
    "print (code.strip(' #'))"
   ]
  },
  {
   "cell_type": "markdown",
   "metadata": {},
   "source": [
    "### Exercise 23. 문자열 다루기 (count)\n",
    "* 다음 문자열에서 'Python' 문자열의 빈도수를 출력하라.\n",
    "```python\n",
    "python_desc = \"Python is an interpreted high-level programming language for general-purpose programming. Created by Guido van Rossum and first released in 1991, Python has a design philosophy that emphasizes code readability, notably using significant whitespace.\"\n",
    "```\n",
    "출력 예: 2"
   ]
  },
  {
   "cell_type": "code",
   "execution_count": 23,
   "metadata": {},
   "outputs": [
    {
     "name": "stdout",
     "output_type": "stream",
     "text": [
      "2\n"
     ]
    }
   ],
   "source": [
    "python_desc = \"Python is an interpreted high-level programming language for general-purpose programming. Created by Guido van Rossum and first released in 1991, Python has a design philosophy that emphasizes code readability, notably using significant whitespace.\"\n",
    "print(python_desc.count(\"Python\"))\n"
   ]
  },
  {
   "cell_type": "markdown",
   "metadata": {},
   "source": [
    "### Exercise 24. 문자열 다루기 (count)\n",
    "* 다음 문자열에서 'p' 문자가 몇번 나오는지 빈도수를 출력하라.\n",
    "```python\n",
    "python_desc = \"Python is an interpreted high-level programming language for general-purpose programming. Created by Guido van Rossum and first released in 1991, Python has a design philosophy that emphasizes code readability, notably using significant whitespace.\"\n",
    "```\n",
    "출력 예: 9"
   ]
  },
  {
   "cell_type": "code",
   "execution_count": 24,
   "metadata": {},
   "outputs": [
    {
     "name": "stdout",
     "output_type": "stream",
     "text": [
      "9\n",
      "9\n"
     ]
    }
   ],
   "source": [
    "python_desc = \"Python is an interpreted high-level programming language for general-purpose programming. Created by Guido van Rossum and first released in 1991, Python has a design philosophy that emphasizes code readability, notably using significant whitespace.\"\n",
    "print(python_desc.count(\"p\"))\n",
    "\n",
    "\n",
    "print (python_desc.count(\"p\"))"
   ]
  },
  {
   "cell_type": "markdown",
   "metadata": {},
   "source": [
    "### Exercise 25. 문자열 다루기 (문자열 인덱싱)\n",
    "letters 라는 변수에 들어 있는 문자열에서 두 번째와 네 번째 문자를 출력하라\n",
    "```python\n",
    "letters = \"python\"\n",
    "```\n",
    "출력 예: <br>\n",
    "y <br>\n",
    "h"
   ]
  },
  {
   "cell_type": "code",
   "execution_count": 25,
   "metadata": {},
   "outputs": [
    {
     "name": "stdout",
     "output_type": "stream",
     "text": [
      "y\n",
      "h\n",
      "y\n",
      "h\n"
     ]
    }
   ],
   "source": [
    "letters = \"python\"\n",
    "print(letters[1])\n",
    "print(letters[3])\n",
    "\n",
    "\n",
    "\n",
    "\n",
    "\n",
    "print (letters[1])\n",
    "print (letters[3])"
   ]
  },
  {
   "cell_type": "markdown",
   "metadata": {},
   "source": [
    "### Exercise 26. 문자열 다루기 (문자열 인덱싱)\n",
    "* letters 라는 변수에 사용자로부터 문자열을 입력받아서 문자 n 이 들어있는지를 출력하라 ( n 이 들어 있으면 0, 안들어있으면 -1을 출력하라)\n"
   ]
  },
  {
   "cell_type": "code",
   "execution_count": 33,
   "metadata": {},
   "outputs": [
    {
     "name": "stdout",
     "output_type": "stream",
     "text": [
      "fdfafadfasdfses\n",
      "-1\n",
      "-1\n"
     ]
    }
   ],
   "source": [
    "letters = input()\n",
    "\n",
    "if letters.count(\"n\") > 0:\n",
    "    print(0)\n",
    "else:\n",
    "    print(-1)\n",
    "\n",
    "\n",
    "\n",
    "\n",
    "\n",
    "\n",
    "var = letters.find('n')\n",
    "if var >= 0:\n",
    "    print (0)\n",
    "else:\n",
    "    print (-1)"
   ]
  },
  {
   "cell_type": "markdown",
   "metadata": {},
   "source": [
    "### Exercise 27. 문자열 다루기 (문자열 인덱싱)\n",
    "* letters 라는 변수에 사용자로부터 문자열을 입력받아서 문자 n 이 들어있는지를 출력하라 \n",
    "  - n 이 들어 있으면 'n 이 들어있습니다.', 안들어있으면 'n 이 안들어있습니다.' 를 출력하라"
   ]
  },
  {
   "cell_type": "code",
   "execution_count": 60,
   "metadata": {},
   "outputs": [
    {
     "name": "stdout",
     "output_type": "stream",
     "text": [
      "adbadfadsfn\n",
      "n이 들어있습니다.\n"
     ]
    }
   ],
   "source": [
    "letters = input()\n",
    "\n",
    "var = letters.find('n')\n",
    "if var >= 0:\n",
    "    print (\"n이 들어있습니다.\")\n",
    "else:\n",
    "    print (\"n이 안들어있습니다.\")"
   ]
  },
  {
   "cell_type": "markdown",
   "metadata": {},
   "source": [
    "### Exercise 28. 문자열 다루기 (문자열 인덱싱)와 조건문\n",
    "* 주민등록번호의 뒷 자리 7자리 중 두번째부터 세번째는 출생 지역 코드입니다.\n",
    "* 다음 표를 참조하여 사용자로부터 주민 등록 번호를 입력 받은 후 출생지를 출력하세요.\n",
    "<table>\n",
    "<thead>\n",
    "<tr>\n",
    "<th>지역 코드</th>\n",
    "<th>출생 지역</th>\n",
    "</tr>\n",
    "</thead>\n",
    "<tbody>\n",
    "<tr>\n",
    "<td>00 ~ 08</td>\n",
    "<td>서울</td>\n",
    "</tr>\n",
    "<tr>\n",
    "<td>09 ~ 12</td>\n",
    "<td>부산</td>\n",
    "</tr>\n",
    "</tbody>\n",
    "</table>"
   ]
  },
  {
   "cell_type": "code",
   "execution_count": 38,
   "metadata": {},
   "outputs": [
    {
     "name": "stdout",
     "output_type": "stream",
     "text": [
      "00\n",
      "서울\n"
     ]
    }
   ],
   "source": [
    "data = '800001-1001231'\n",
    "\n",
    "\n",
    "print (data[8:10])\n",
    "location = int(data[8:10])\n",
    "\n",
    "if location >= 0 and location <= 8:\n",
    "    print (\"서울\")\n",
    "elif location >= 9 and location <= 12:\n",
    "    print (\"부산\")"
   ]
  },
  {
   "cell_type": "markdown",
   "metadata": {},
   "source": [
    "### Exercise 29. 문자열 다루기 (split)\n",
    "* letters 라는 변수에 Dave,David,Andy 가 들어있다. 해당 변수값을 , 를 기준으로 분리해서 출력하라<br> \n",
    "  - 출력 예: ['Dave', 'David', 'Andy']"
   ]
  },
  {
   "cell_type": "code",
   "execution_count": 40,
   "metadata": {},
   "outputs": [
    {
     "name": "stdout",
     "output_type": "stream",
     "text": [
      "['Dave', 'David', 'Andy']\n"
     ]
    },
    {
     "data": {
      "text/plain": [
       "['Dave', 'David', 'Andy']"
      ]
     },
     "execution_count": 40,
     "metadata": {},
     "output_type": "execute_result"
    }
   ],
   "source": [
    "letters = 'Dave,David,Andy'\n",
    "\n",
    "print(letters.split(','))\n",
    "\n",
    "\n",
    "letters.split(',')"
   ]
  },
  {
   "cell_type": "markdown",
   "metadata": {},
   "source": [
    "### Exercise 30. 문자열 다루기 (split)\n",
    "* 다음과 같은 파일 이름(확장자 포함)에서 확장자를 제거한 파일 이름만 출력하세요.\n",
    "\n",
    "```python\n",
    "filename = 'exercise01.docx'\n",
    "```"
   ]
  },
  {
   "cell_type": "code",
   "execution_count": 42,
   "metadata": {},
   "outputs": [
    {
     "name": "stdout",
     "output_type": "stream",
     "text": [
      "docx\n"
     ]
    }
   ],
   "source": [
    "filename = 'exercise01.docx'\n",
    "filelist = filename.split('.')\n",
    "print (filelist[1])"
   ]
  },
  {
   "cell_type": "markdown",
   "metadata": {},
   "source": [
    "<div class=\"alert alert-block\" style=\"border: 2px solid #1976D2;background-color:#E3F2FD;padding:5px;font-size:0.9em;\">\n",
    "본 자료는 저작권법 제25조 2항에 의해 보호를 받습니다. 본 자료를 외부에 공개하지 말아주세요.<br>\n",
    "본 강의만 잘 정리하면, 데이터 분석, 데이터 과학, 풀스택(백엔드, 프론트엔드) 개발 모두 가능합니다!<br>\n",
    "<b><a href=\"https://school.fun-coding.org/\">잔재미코딩</a> 에서 본 강의 기반 최적화된 로드맵도 확인하실 수 있습니다</b></div>"
   ]
  }
 ],
 "metadata": {
  "kernelspec": {
   "display_name": "Python 3 (ipykernel)",
   "language": "python",
   "name": "python3"
  },
  "language_info": {
   "codemirror_mode": {
    "name": "ipython",
    "version": 3
   },
   "file_extension": ".py",
   "mimetype": "text/x-python",
   "name": "python",
   "nbconvert_exporter": "python",
   "pygments_lexer": "ipython3",
   "version": "3.11.5"
  },
  "nbTranslate": {
   "displayLangs": [
    "*"
   ],
   "hotkey": "alt-t",
   "langInMainMenu": true,
   "sourceLang": "en",
   "targetLang": "fr",
   "useGoogleTranslate": true
  }
 },
 "nbformat": 4,
 "nbformat_minor": 2
}
