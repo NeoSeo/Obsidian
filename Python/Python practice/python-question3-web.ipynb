{
 "cells": [
  {
   "cell_type": "markdown",
   "metadata": {},
   "source": [
    "<div class=\"alert alert-block\" style=\"border: 2px solid #1976D2;background-color:#E3F2FD;padding:5px;font-size:0.9em;\">\n",
    "본 자료는 저작권법 제25조 2항에 의해 보호를 받습니다. 본 자료를 외부에 공개하지 말아주세요.<br>\n",
    "본 강의만 잘 정리하면, 데이터 분석, 데이터 과학, 풀스택(백엔드, 프론트엔드) 개발 모두 가능합니다!<br>\n",
    "</div>"
   ]
  },
  {
   "cell_type": "markdown",
   "metadata": {},
   "source": [
    "<div class=\"alert alert-block\" style=\"border: 2px solid #1976D2;background-color:#E3F2FD;padding:5px;font-size:0.9em;\">\n",
    "제 유투브 채널로 혼자서도 데이터 전과정, 풀스택 전과정을 익힐 수 있는 로드맵과 관련 커리어를  설명한 영상을 만들었는데요<br>\n",
    "꼭 한번 보시면 학습하시는데 큰 그림을 이해하실 수 있으실꺼예요. (괜찮으시면 구독과 좋아요도 부탁드립니다. ㅎ)<br>\n",
    "<b>- 데이터, AI 커리어와 데이터 전과정 학습 방법 완벽 가이드: <a href=\"https://youtu.be/vsoAyh4D-zw\">https://youtu.be/vsoAyh4D-zw</a><br>\n",
    "- 1인 창업도 가능한 가장 빠른 최신 풀스택 공부순서: <a href=\"https://youtu.be/mTouChThxzA\">https://youtu.be/mTouChThxzA</a></b><br>\n",
    "</div>"
   ]
  },
  {
   "cell_type": "markdown",
   "metadata": {},
   "source": [
    "## 3. 문제를 풀며 빠르게 익숙해지는 파이썬 기본 프로그래밍3"
   ]
  },
  {
   "cell_type": "markdown",
   "metadata": {},
   "source": [
    "### Exercise 31. 반복문\n",
    "* 1 ~ 10까지의 숫자에 대해 모두 더한 값을 출력하는 프로그램을 for 문을 사용하여 작성하세요."
   ]
  },
  {
   "cell_type": "code",
   "execution_count": 2,
   "metadata": {},
   "outputs": [
    {
     "name": "stdout",
     "output_type": "stream",
     "text": [
      "1\n",
      "3\n",
      "6\n",
      "10\n",
      "15\n",
      "21\n",
      "28\n",
      "36\n",
      "45\n",
      "55\n"
     ]
    }
   ],
   "source": [
    "sum = 0\n",
    "for i in range(1,11):\n",
    "    sum = sum+i\n",
    "    print(sum)"
   ]
  },
  {
   "cell_type": "code",
   "execution_count": 7,
   "metadata": {},
   "outputs": [
    {
     "name": "stdout",
     "output_type": "stream",
     "text": [
      "55\n"
     ]
    }
   ],
   "source": [
    "sum = 0\n",
    "\n",
    "for index in range(1, 11):\n",
    "    sum = sum + index\n",
    "    # 총 합계와 각 index 출력\n",
    "    # print (sum, index)\n",
    "print (sum)"
   ]
  },
  {
   "cell_type": "markdown",
   "metadata": {},
   "source": [
    "### Exercise 32. 반복문\n",
    "* 사용자로부터 2 ~ 9 사이의 숫자를 입력 받은 후, 해당 숫자에 대한 구구단을 출력하세요."
   ]
  },
  {
   "cell_type": "code",
   "execution_count": 9,
   "metadata": {},
   "outputs": [
    {
     "name": "stdout",
     "output_type": "stream",
     "text": [
      "3\n",
      "6\n",
      "9\n",
      "12\n",
      "15\n",
      "18\n",
      "21\n",
      "24\n",
      "27\n"
     ]
    }
   ],
   "source": [
    "a = int(input())\n",
    "for i in range(2,10):\n",
    "    print(i*a)"
   ]
  },
  {
   "cell_type": "code",
   "execution_count": 14,
   "metadata": {},
   "outputs": [
    {
     "name": "stdout",
     "output_type": "stream",
     "text": [
      "9\n",
      "9 X 1 = 9\n",
      "9 X 2 = 18\n",
      "9 X 3 = 27\n",
      "9 X 4 = 36\n",
      "9 X 5 = 45\n",
      "9 X 6 = 54\n",
      "9 X 7 = 63\n",
      "9 X 8 = 72\n",
      "9 X 9 = 81\n"
     ]
    }
   ],
   "source": [
    "data = int(input())\n",
    "\n",
    "# 조건문과 반복문을 함께 사용할 경우\n",
    "if data >= 2 and data <= 9:\n",
    "    for digit in range(1, 10):\n",
    "        print (data, \"X\", digit, \"=\", data * digit)\n",
    "\n"
   ]
  },
  {
   "cell_type": "markdown",
   "metadata": {},
   "source": [
    "### Exercise 33.  반복문과 문자열 다루기 (split)\n",
    "* 사용자로부터 , 로 구분된 여러 이름을 입력받아서, 한 줄에 하나씩 이름을 출력하세요<br>\n",
    "  - 사용자 입력: Dave,David,Andy,Arthor\n",
    "  - 출력 예:  <br>\n",
    "    Dave <br>\n",
    "    David <br>\n",
    "    Andy <br>\n",
    "    Arthor <br>    "
   ]
  },
  {
   "cell_type": "code",
   "execution_count": 48,
   "metadata": {},
   "outputs": [
    {
     "name": "stdout",
     "output_type": "stream",
     "text": [
      "ff,dd,sa,qq\n",
      "['ff', 'dd', 'sa', 'qq']\n",
      "ff\n",
      "dd\n",
      "sa\n",
      "qq\n"
     ]
    }
   ],
   "source": [
    "a = input()\n",
    "data_list = a.split(\",\")\n",
    "print(data_list)\n",
    "for i in data_list:\n",
    "    print(i)"
   ]
  },
  {
   "cell_type": "code",
   "execution_count": 20,
   "metadata": {},
   "outputs": [
    {
     "name": "stdout",
     "output_type": "stream",
     "text": [
      "Dave,David,Andy,Arthor\n",
      "Dave\n",
      "David\n",
      "Andy\n",
      "Arthor\n"
     ]
    }
   ],
   "source": [
    "data = input()\n",
    "\n",
    "data_list = data.split(\",\")\n",
    "for str_data in data_list:\n",
    "    print (str_data)"
   ]
  },
  {
   "cell_type": "markdown",
   "metadata": {},
   "source": [
    "### Exercise 34.  반복문과 문자열 다루기 (split)\n",
    "* 사용자로부터 [이름1],[이름2],[이름3] 과 같은 형식으로 데이터를 입력받아서, 한 줄에 하나씩 이름을 출력하세요<br>\n",
    "  - 사용자 입력: [Dave],[David],[Andy],[Arthor]\n",
    "  - 출력 예:  <br>\n",
    "    Dave <br>\n",
    "    David <br>\n",
    "    Andy <br>\n",
    "    Arthor <br>   "
   ]
  },
  {
   "cell_type": "code",
   "execution_count": 49,
   "metadata": {},
   "outputs": [
    {
     "name": "stdout",
     "output_type": "stream",
     "text": [
      "[Dave],[David],[Andy],[Arthor]\n",
      "<class 'str'>\n",
      "Dave\n",
      "David\n",
      "Andy\n",
      "Arthor\n"
     ]
    }
   ],
   "source": [
    "data = input()\n",
    "print(type(data))\n",
    "for i in data.split(\",\"):\n",
    "    print(i[1:-1])"
   ]
  },
  {
   "cell_type": "code",
   "execution_count": 19,
   "metadata": {},
   "outputs": [
    {
     "name": "stdout",
     "output_type": "stream",
     "text": [
      "[Dave],[David],[Andy],[Arthor]\n",
      "Dave\n",
      "David\n",
      "Andy\n",
      "Arthor\n"
     ]
    }
   ],
   "source": [
    "data = input()\n",
    "\n",
    "for str_data in data.split(\",\"):\n",
    "    print(str_data[1:-1])\n"
   ]
  },
  {
   "cell_type": "markdown",
   "metadata": {},
   "source": [
    "### Exercise 35. 반복문과 조건문\n",
    "* 1부터 30까지의 숫자 중 3의 배수만 출력하세요."
   ]
  },
  {
   "cell_type": "code",
   "execution_count": 22,
   "metadata": {},
   "outputs": [
    {
     "name": "stdout",
     "output_type": "stream",
     "text": [
      "3\n",
      "6\n",
      "9\n",
      "12\n",
      "15\n",
      "18\n",
      "21\n",
      "24\n",
      "27\n",
      "30\n"
     ]
    }
   ],
   "source": [
    "for i in range(1,31):\n",
    "    if i%3 == 0:\n",
    "        print(i)"
   ]
  },
  {
   "cell_type": "code",
   "execution_count": 31,
   "metadata": {
    "scrolled": true
   },
   "outputs": [
    {
     "name": "stdout",
     "output_type": "stream",
     "text": [
      "3\n",
      "6\n",
      "9\n",
      "12\n",
      "15\n",
      "18\n",
      "21\n",
      "24\n",
      "27\n",
      "30\n"
     ]
    }
   ],
   "source": [
    "for data in range(1, 31):\n",
    "    if data % 3 == 0:\n",
    "        print (data)"
   ]
  },
  {
   "cell_type": "markdown",
   "metadata": {},
   "source": [
    "### Exercise 36. 반복문 (while)\n",
    "* 1부터 100까지 숫자를 모두 더한 값을 출력하세요.\n",
    "  - 단 while 구문을 사용해서 작성하세요."
   ]
  },
  {
   "cell_type": "code",
   "execution_count": 33,
   "metadata": {},
   "outputs": [
    {
     "name": "stdout",
     "output_type": "stream",
     "text": [
      "1\n",
      "3\n",
      "6\n",
      "10\n",
      "15\n",
      "21\n",
      "28\n",
      "36\n",
      "45\n",
      "55\n",
      "66\n",
      "78\n",
      "91\n",
      "105\n",
      "120\n",
      "136\n",
      "153\n",
      "171\n",
      "190\n",
      "210\n",
      "231\n",
      "253\n",
      "276\n",
      "300\n",
      "325\n",
      "351\n",
      "378\n",
      "406\n",
      "435\n",
      "465\n",
      "496\n",
      "528\n",
      "561\n",
      "595\n",
      "630\n",
      "666\n",
      "703\n",
      "741\n",
      "780\n",
      "820\n",
      "861\n",
      "903\n",
      "946\n",
      "990\n",
      "1035\n",
      "1081\n",
      "1128\n",
      "1176\n",
      "1225\n",
      "1275\n",
      "1326\n",
      "1378\n",
      "1431\n",
      "1485\n",
      "1540\n",
      "1596\n",
      "1653\n",
      "1711\n",
      "1770\n",
      "1830\n",
      "1891\n",
      "1953\n",
      "2016\n",
      "2080\n",
      "2145\n",
      "2211\n",
      "2278\n",
      "2346\n",
      "2415\n",
      "2485\n",
      "2556\n",
      "2628\n",
      "2701\n",
      "2775\n",
      "2850\n",
      "2926\n",
      "3003\n",
      "3081\n",
      "3160\n",
      "3240\n",
      "3321\n",
      "3403\n",
      "3486\n",
      "3570\n",
      "3655\n",
      "3741\n",
      "3828\n",
      "3916\n",
      "4005\n",
      "4095\n",
      "4186\n",
      "4278\n",
      "4371\n",
      "4465\n",
      "4560\n",
      "4656\n",
      "4753\n",
      "4851\n",
      "4950\n",
      "5050\n"
     ]
    }
   ],
   "source": [
    "i = 1\n",
    "y = 0\n",
    "while i <= 100:\n",
    "    y = y + i\n",
    "    print(y)\n",
    "    i = i+1"
   ]
  },
  {
   "cell_type": "code",
   "execution_count": 33,
   "metadata": {},
   "outputs": [
    {
     "name": "stdout",
     "output_type": "stream",
     "text": [
      "5050\n"
     ]
    }
   ],
   "source": [
    "sum = 0\n",
    "index = 1\n",
    "\n",
    "while index <= 100:\n",
    "    sum = sum + index\n",
    "    index = index + 1\n",
    "\n",
    "print (sum)"
   ]
  },
  {
   "cell_type": "markdown",
   "metadata": {},
   "source": [
    "### Exercise 37. 반복문 (while)\n",
    "* 사용자로부터 4자리의 숫자로 구성된 데이터를 입력받아서 \n",
    "  + 비밀번호와 같으면 '비밀번호가 맞습니다.'를 출력하고 종료하세요. \n",
    "  + 비밀번호와 다르면 '비밀번호가 틀렸습니다.'를 출력하고 다시 사용자로부터 데이터를 입력받으세요.\n",
    "    - 비밀번호는 4312 입니다."
   ]
  },
  {
   "cell_type": "code",
   "execution_count": 34,
   "metadata": {},
   "outputs": [
    {
     "name": "stdout",
     "output_type": "stream",
     "text": [
      "4444\n",
      "비밀번호가 틀렸습니다.\n",
      "2222\n",
      "비밀번호가 틀렸습니다.\n",
      "1111\n",
      "비밀번호가 틀렸습니다.\n",
      "4312\n",
      "비밀번호가 맞습니다.\n"
     ]
    }
   ],
   "source": [
    "\n",
    "data = input()\n",
    "\n",
    "while data != '4312':\n",
    "    print ('비밀번호가 틀렸습니다.')\n",
    "    data = input()\n",
    "\n",
    "print (\"비밀번호가 맞습니다.\")\n"
   ]
  },
  {
   "cell_type": "markdown",
   "metadata": {},
   "source": [
    "### Exercise 38. 데이터 구조와 반복문 (리스트)\n",
    "* 다음 리스트 변수에서 음수 데이터를 삭제하고, 양수만 가진 리스트 변수로 만들고, 해당 변수를 출력하세요.\n",
    "\n",
    "```python\n",
    "num_list = [0, -11, 31, 22, -11, 33, -44, -55]\n",
    "```"
   ]
  },
  {
   "cell_type": "code",
   "execution_count": 42,
   "metadata": {},
   "outputs": [
    {
     "name": "stdout",
     "output_type": "stream",
     "text": [
      "[31]\n",
      "[31, 22]\n",
      "[31, 22, 33]\n",
      "[31, 22, 33]\n"
     ]
    }
   ],
   "source": [
    "show = []\n",
    "num_list = [0, -11, 31, 22, -11, 33, -44, -55]\n",
    "for i in num_list:\n",
    "    if i > 0:\n",
    "        show.append(i)\n",
    "        print(show)\n",
    "print(show)\n",
    "\n"
   ]
  },
  {
   "cell_type": "code",
   "execution_count": 38,
   "metadata": {},
   "outputs": [
    {
     "name": "stdout",
     "output_type": "stream",
     "text": [
      "[0, 31, 22, 33]\n"
     ]
    }
   ],
   "source": [
    "plus_list = list()\n",
    "num_list = [0, -11, 31, 22, -11, 33, -44, -55]\n",
    "\n",
    "for num in num_list:\n",
    "    if num >= 0:\n",
    "        plus_list.append(num)\n",
    "\n",
    "print (plus_list)"
   ]
  },
  {
   "cell_type": "markdown",
   "metadata": {},
   "source": [
    "### Exercise 39.  데이터 구조와 반복문 (리스트)\n",
    "* 다음 리스트에 있는 데이터의 길이를 한 라인에 하나씩 출력하세요.\n",
    "\n",
    "```python\n",
    "list_data = [\"fun-coding\", \"Dave\", \"Linux\", \"Python\", \"javascript\", \"front-end\", \"back-end\", \"dataengineering\"]\n",
    "```"
   ]
  },
  {
   "cell_type": "code",
   "execution_count": 50,
   "metadata": {},
   "outputs": [
    {
     "name": "stdout",
     "output_type": "stream",
     "text": [
      "fun-coding\n",
      "Dave\n",
      "Linux\n",
      "Python\n",
      "javascript\n",
      "front-end\n",
      "back-end\n",
      "dataengineering\n"
     ]
    }
   ],
   "source": [
    "list_data = [\"fun-coding\", \"Dave\", \"Linux\", \"Python\", \"javascript\", \"front-end\", \"back-end\", \"dataengineering\"]\n",
    "for i in list_data:\n",
    "    print(i)\n",
    "    "
   ]
  },
  {
   "cell_type": "code",
   "execution_count": 40,
   "metadata": {},
   "outputs": [
    {
     "name": "stdout",
     "output_type": "stream",
     "text": [
      "10\n",
      "4\n",
      "5\n",
      "6\n",
      "10\n",
      "9\n",
      "8\n",
      "15\n"
     ]
    }
   ],
   "source": [
    "list_data = [\"fun-coding\", \"Dave\", \"Linux\", \"Python\", \"javascript\", \"front-end\", \"back-end\", \"dataengineering\"]\n",
    "\n",
    "for data in list_data:\n",
    "    print (len(data))"
   ]
  },
  {
   "cell_type": "markdown",
   "metadata": {},
   "source": [
    "### Exercise 40. 데이터 구조와 반복문 (리스트)\n",
    "* 다음 리스트에 있는 숫자를 역 방향으로 출력하세요.\n",
    "  - 단, 리스트에 있는 숫자들은 한 라인에 하나씩 출력하세요.\n",
    "```python\n",
    "data = [1, 2, 3, 4, 5, 6, 7, 8, 9, 10]\n",
    "```\n",
    "* 실행 예:<br>\n",
    "10 <br>\n",
    "9 <br>\n",
    "8 <br>\n",
    "7 <br>\n",
    "6 <br>\n",
    "5 <br>\n",
    "4 <br>\n",
    "3 <br>\n",
    "2 <br>\n",
    "1"
   ]
  },
  {
   "cell_type": "code",
   "execution_count": 62,
   "metadata": {},
   "outputs": [
    {
     "name": "stdout",
     "output_type": "stream",
     "text": [
      "10\n",
      "9\n",
      "8\n",
      "7\n",
      "6\n",
      "5\n",
      "4\n",
      "3\n",
      "2\n",
      "1\n"
     ]
    }
   ],
   "source": [
    "data = [1, 2, 3, 4, 5, 6, 7, 8, 9, 10]\n",
    "for i in range(9,-1,-1):\n",
    "    print(data[i])"
   ]
  },
  {
   "cell_type": "code",
   "execution_count": 42,
   "metadata": {},
   "outputs": [
    {
     "name": "stdout",
     "output_type": "stream",
     "text": [
      "10\n",
      "9\n",
      "8\n",
      "7\n",
      "6\n",
      "5\n",
      "4\n",
      "3\n",
      "2\n",
      "1\n"
     ]
    }
   ],
   "source": [
    "data = [1, 2, 3, 4, 5, 6, 7, 8, 9, 10]\n",
    "\n",
    "data.reverse()\n",
    "\n",
    "for item in data:\n",
    "    print (item)\n"
   ]
  },
  {
   "cell_type": "markdown",
   "metadata": {},
   "source": [
    "### Exercise 41. 데이터 구조 (리스트), 반복문, 문자열 다루기\n",
    "* 다음과 같이 파일 이름(확장자 포함) 저장하고 있는 리스트가 있을 때 확장자를 제거하고 파일 이름만 출력하세요.\n",
    "\n",
    "```python\n",
    "filelist = ['exercise01.docx', 'exercise02.docx', 'exercise03.docx', 'exercise04.docx', 'exercise05.docx']\n",
    "```"
   ]
  },
  {
   "cell_type": "code",
   "execution_count": 66,
   "metadata": {},
   "outputs": [
    {
     "ename": "ValueError",
     "evalue": "list.remove(x): x not in list",
     "output_type": "error",
     "traceback": [
      "\u001b[1;31m---------------------------------------------------------------------------\u001b[0m",
      "\u001b[1;31mValueError\u001b[0m                                Traceback (most recent call last)",
      "Cell \u001b[1;32mIn[66], line 2\u001b[0m\n\u001b[0;32m      1\u001b[0m filelist \u001b[38;5;241m=\u001b[39m [\u001b[38;5;124m'\u001b[39m\u001b[38;5;124mexercise01.docx\u001b[39m\u001b[38;5;124m'\u001b[39m, \u001b[38;5;124m'\u001b[39m\u001b[38;5;124mexercise02.docx\u001b[39m\u001b[38;5;124m'\u001b[39m, \u001b[38;5;124m'\u001b[39m\u001b[38;5;124mexercise03.docx\u001b[39m\u001b[38;5;124m'\u001b[39m, \u001b[38;5;124m'\u001b[39m\u001b[38;5;124mexercise04.docx\u001b[39m\u001b[38;5;124m'\u001b[39m, \u001b[38;5;124m'\u001b[39m\u001b[38;5;124mexercise05.docx\u001b[39m\u001b[38;5;124m'\u001b[39m]\n\u001b[1;32m----> 2\u001b[0m filelist\u001b[38;5;241m.\u001b[39mremove(\u001b[38;5;124m'\u001b[39m\u001b[38;5;124m.docx\u001b[39m\u001b[38;5;124m'\u001b[39m)\n\u001b[0;32m      3\u001b[0m \u001b[38;5;28mprint\u001b[39m(filelist)\n",
      "\u001b[1;31mValueError\u001b[0m: list.remove(x): x not in list"
     ]
    }
   ],
   "source": [
    "filelist = ['exercise01.docx', 'exercise02.docx', 'exercise03.docx', 'exercise04.docx', 'exercise05.docx']\n",
    "for filename in filelist:\n",
    "    \n",
    "\n"
   ]
  },
  {
   "cell_type": "code",
   "execution_count": 69,
   "metadata": {},
   "outputs": [
    {
     "name": "stdout",
     "output_type": "stream",
     "text": [
      "['exercise01', 'docx']\n",
      "exercise01\n",
      "['exercise02', 'docx']\n",
      "exercise02\n",
      "['exercise03', 'docx']\n",
      "exercise03\n",
      "['exercise04', 'docx']\n",
      "exercise04\n",
      "['exercise05', 'docx']\n",
      "exercise05\n"
     ]
    }
   ],
   "source": [
    "filelist = ['exercise01.docx', 'exercise02.docx', 'exercise03.docx', 'exercise04.docx', 'exercise05.docx']\n",
    "\n",
    "for filename in filelist:\n",
    "    filelist_item = filename.split(\".\")\n",
    "    print (filelist_item)\n",
    "    print(filelist_item[0])"
   ]
  },
  {
   "cell_type": "markdown",
   "metadata": {},
   "source": [
    "### Exercise 42. 데이터 구조 (리스트), 반복문, 조건문, 문자열 다루기\n",
    "* 파일 이름이 다음과 같은 리스트에 저장되어 있을 때 확장자가 .txt 인 파일에 대한 리스트를 출력하라\n",
    "\n",
    "```python\n",
    "filelist = ['exercise01.docx', 'exercise02.csv', 'exercise03.txt', 'exercise04.hwp']\n",
    "```"
   ]
  },
  {
   "cell_type": "code",
   "execution_count": 77,
   "metadata": {},
   "outputs": [
    {
     "name": "stdout",
     "output_type": "stream",
     "text": [
      "exercise03\n"
     ]
    }
   ],
   "source": [
    "filelist = ['exercise01.docx', 'exercise02.csv', 'exercise03.txt', 'exercise04.hwp']\n",
    "for file in filelist:\n",
    "    i = file.split(\".\")\n",
    "    if i[1] == \"txt\":\n",
    "        print(i[0])\n",
    "\n",
    "    \n",
    "\n"
   ]
  },
  {
   "cell_type": "code",
   "execution_count": 55,
   "metadata": {},
   "outputs": [
    {
     "name": "stdout",
     "output_type": "stream",
     "text": [
      "exercise03.txt\n"
     ]
    }
   ],
   "source": [
    "filelist = ['exercise01.docx', 'exercise02.csv', 'exercise03.txt', 'exercise04.hwp']\n",
    "\n",
    "for filename in filelist:\n",
    "    if filename.split(\".\")[1] == 'txt':\n",
    "        print (filename)"
   ]
  },
  {
   "cell_type": "markdown",
   "metadata": {},
   "source": [
    "### Exercise 43. 문자열 다루기와 조건문\n",
    "* prices 변수에 100 ~ 999 달러 까지 입력될 때, 해당 값을 원 화로 바꿔서 계산하세요.\n",
    "\n",
    "```python\n",
    "prices = '100 달러'\n",
    "```\n",
    "\n",
    "* 환율은 다음과 같음\n",
    "<table>\n",
    "<thead>\n",
    "<tr>\n",
    "<th>통화단위</th>\n",
    "<th>원화 환율</th>\n",
    "</tr>\n",
    "</thead>\n",
    "<tbody>\n",
    "<tr>\n",
    "<td>달러</td>\n",
    "<td>1112</td>\n",
    "</tr>\n",
    "</tbody>\n",
    "</table>\n",
    "\n",
    "출력: <br>\n",
    "111200 원"
   ]
  },
  {
   "cell_type": "code",
   "execution_count": 80,
   "metadata": {},
   "outputs": [
    {
     "name": "stdout",
     "output_type": "stream",
     "text": [
      "222\n",
      "246864 달러\n"
     ]
    }
   ],
   "source": [
    "price = int(input())\n",
    "if price >= 100 and price <=999:\n",
    "    print(price*1112,\"달러\")\n",
    "    \n",
    "    "
   ]
  },
  {
   "cell_type": "code",
   "execution_count": 85,
   "metadata": {},
   "outputs": [
    {
     "name": "stdout",
     "output_type": "stream",
     "text": [
      "222 달러\n",
      "246864 원\n"
     ]
    }
   ],
   "source": [
    "prices = input()\n",
    "\n",
    "if prices[4:] == '달러':\n",
    "    print (int(prices[:4]) * 1112, '원')\n"
   ]
  },
  {
   "cell_type": "markdown",
   "metadata": {},
   "source": [
    "### Exercise 44. 문자열 다루기와 조건문\n",
    "* 사용자로부터 달러 또는 위안 금액을 입력받은 후 이를 원으로 바꿔서 계산하세요.\n",
    "  - 사용자는 100 ~ 999 달러, 100 ~ 999 위안 까지 입력 가능하고, 각 금액과 통화명 사이에 공백을 넣어 입력하기로 합니다.\n",
    "  - 각 통화별 환율은 다음과 같습니다.   \n",
    "<table>\n",
    "<thead>\n",
    "<tr>\n",
    "<th>통화단위</th>\n",
    "<th>원화 환율</th>\n",
    "</tr>\n",
    "</thead>\n",
    "<tbody>\n",
    "<tr>\n",
    "<td>달러</td>\n",
    "<td>1112</td>\n",
    "</tr>\n",
    "<tr>\n",
    "<td>위안</td>\n",
    "<td>171</td>\n",
    "</tr>\n",
    "</tbody>\n",
    "</table>\n",
    "\n",
    "\n",
    "출력: <br>\n",
    "111200 원"
   ]
  },
  {
   "cell_type": "code",
   "execution_count": 87,
   "metadata": {},
   "outputs": [
    {
     "name": "stdout",
     "output_type": "stream",
     "text": [
      "200 달러\n",
      "222400 원\n"
     ]
    }
   ],
   "source": [
    "prices = input()\n",
    "\n",
    "if prices[4:] == '달러':\n",
    "    print (int(prices[:4]) * 1112, '원')\n",
    "elif prices[4:] == '위안':\n",
    "    print (int(prices[:4]) * 171, '원')    "
   ]
  },
  {
   "cell_type": "markdown",
   "metadata": {},
   "source": [
    "### Exercise 45. 문자열 다루기, 조건문, 데이터 구조 (dictionary)\n",
    "* 다음 통화별 환율을 통화단위와 원화 환율을 가진 딕셔너리로 만들고 사용자로부터 달러, 엔, 또는 위안 금액을 입력받은 후 이를 원으로 바꿔서 계산하세요.\n",
    "  - 사용자는 100 ~ 999 달러, 위안, 또는 엔 과 같이 금액과 통화명 사이에 공백을 넣어 입력하기로 합니다.\n",
    "<table>\n",
    "<thead>\n",
    "<tr>\n",
    "<th>통화단위</th>\n",
    "<th>원화 환율</th>\n",
    "</tr>\n",
    "</thead>\n",
    "<tbody>\n",
    "<tr>\n",
    "<td>달러</td>\n",
    "<td>1112</td>\n",
    "</tr>\n",
    "<tr>\n",
    "<td>위안</td>\n",
    "<td>171</td>\n",
    "</tr>\n",
    "<tr>\n",
    "<td>엔</td>\n",
    "<td>1010</td>\n",
    "</tr>\n",
    "</tbody>\n",
    "</table>\n"
   ]
  },
  {
   "cell_type": "code",
   "execution_count": 91,
   "metadata": {},
   "outputs": [
    {
     "name": "stdout",
     "output_type": "stream",
     "text": [
      "300 달러\n",
      "300000 원\n"
     ]
    }
   ],
   "source": [
    "exchange = {'달러': 1000, '위안':150, '엔': 10}\n",
    "prices = input()\n",
    "for exchange_item in exchange.keys():\n",
    "    if prices[4:] == exchange_item:\n",
    "        print(int(prices[:4]) * exchange[exchange_item], '원')\n"
   ]
  },
  {
   "cell_type": "markdown",
   "metadata": {},
   "source": [
    "### Exercise 46. 이중 반복문\n",
    "* 구구단을 2단부터 9단까지 다음과 같이 출력하세요\n",
    "  - 출력 예\n",
    "<pre>\n",
    "2 X 1 = 2\n",
    "2 X 2 = 4\n",
    "2 X 3 = 6\n",
    "2 X 4 = 8\n",
    "2 X 5 = 10\n",
    "2 X 6 = 12\n",
    "2 X 7 = 14\n",
    "2 X 8 = 16\n",
    "2 X 9 = 18\n",
    "3 X 1 = 3\n",
    "3 X 2 = 6\n",
    ".\n",
    ".\n",
    ".\n",
    "9 X 7 = 63\n",
    "9 X 8 = 72\n",
    "9 X 9 = 81\n",
    "</pre>"
   ]
  },
  {
   "cell_type": "code",
   "execution_count": 94,
   "metadata": {},
   "outputs": [
    {
     "name": "stdout",
     "output_type": "stream",
     "text": [
      "2 * 1 = 2\n",
      "2 * 2 = 4\n",
      "2 * 3 = 6\n",
      "2 * 4 = 8\n",
      "2 * 5 = 10\n",
      "2 * 6 = 12\n",
      "2 * 7 = 14\n",
      "2 * 8 = 16\n",
      "2 * 9 = 18\n",
      "3 * 1 = 3\n",
      "3 * 2 = 6\n",
      "3 * 3 = 9\n",
      "3 * 4 = 12\n",
      "3 * 5 = 15\n",
      "3 * 6 = 18\n",
      "3 * 7 = 21\n",
      "3 * 8 = 24\n",
      "3 * 9 = 27\n",
      "4 * 1 = 4\n",
      "4 * 2 = 8\n",
      "4 * 3 = 12\n",
      "4 * 4 = 16\n",
      "4 * 5 = 20\n",
      "4 * 6 = 24\n",
      "4 * 7 = 28\n",
      "4 * 8 = 32\n",
      "4 * 9 = 36\n",
      "5 * 1 = 5\n",
      "5 * 2 = 10\n",
      "5 * 3 = 15\n",
      "5 * 4 = 20\n",
      "5 * 5 = 25\n",
      "5 * 6 = 30\n",
      "5 * 7 = 35\n",
      "5 * 8 = 40\n",
      "5 * 9 = 45\n",
      "6 * 1 = 6\n",
      "6 * 2 = 12\n",
      "6 * 3 = 18\n",
      "6 * 4 = 24\n",
      "6 * 5 = 30\n",
      "6 * 6 = 36\n",
      "6 * 7 = 42\n",
      "6 * 8 = 48\n",
      "6 * 9 = 54\n",
      "7 * 1 = 7\n",
      "7 * 2 = 14\n",
      "7 * 3 = 21\n",
      "7 * 4 = 28\n",
      "7 * 5 = 35\n",
      "7 * 6 = 42\n",
      "7 * 7 = 49\n",
      "7 * 8 = 56\n",
      "7 * 9 = 63\n",
      "8 * 1 = 8\n",
      "8 * 2 = 16\n",
      "8 * 3 = 24\n",
      "8 * 4 = 32\n",
      "8 * 5 = 40\n",
      "8 * 6 = 48\n",
      "8 * 7 = 56\n",
      "8 * 8 = 64\n",
      "8 * 9 = 72\n",
      "9 * 1 = 9\n",
      "9 * 2 = 18\n",
      "9 * 3 = 27\n",
      "9 * 4 = 36\n",
      "9 * 5 = 45\n",
      "9 * 6 = 54\n",
      "9 * 7 = 63\n",
      "9 * 8 = 72\n",
      "9 * 9 = 81\n"
     ]
    }
   ],
   "source": [
    "for i in range(2,10):\n",
    "    for y in range(1,10):\n",
    "        print(i,\"*\",y,\"=\",i*y)"
   ]
  },
  {
   "cell_type": "code",
   "execution_count": 76,
   "metadata": {},
   "outputs": [
    {
     "name": "stdout",
     "output_type": "stream",
     "text": [
      "2 X 1 = 2\n",
      "2 X 2 = 4\n",
      "2 X 3 = 6\n",
      "2 X 4 = 8\n",
      "2 X 5 = 10\n",
      "2 X 6 = 12\n",
      "2 X 7 = 14\n",
      "2 X 8 = 16\n",
      "2 X 9 = 18\n",
      "3 X 1 = 3\n",
      "3 X 2 = 6\n",
      "3 X 3 = 9\n",
      "3 X 4 = 12\n",
      "3 X 5 = 15\n",
      "3 X 6 = 18\n",
      "3 X 7 = 21\n",
      "3 X 8 = 24\n",
      "3 X 9 = 27\n",
      "4 X 1 = 4\n",
      "4 X 2 = 8\n",
      "4 X 3 = 12\n",
      "4 X 4 = 16\n",
      "4 X 5 = 20\n",
      "4 X 6 = 24\n",
      "4 X 7 = 28\n",
      "4 X 8 = 32\n",
      "4 X 9 = 36\n",
      "5 X 1 = 5\n",
      "5 X 2 = 10\n",
      "5 X 3 = 15\n",
      "5 X 4 = 20\n",
      "5 X 5 = 25\n",
      "5 X 6 = 30\n",
      "5 X 7 = 35\n",
      "5 X 8 = 40\n",
      "5 X 9 = 45\n",
      "6 X 1 = 6\n",
      "6 X 2 = 12\n",
      "6 X 3 = 18\n",
      "6 X 4 = 24\n",
      "6 X 5 = 30\n",
      "6 X 6 = 36\n",
      "6 X 7 = 42\n",
      "6 X 8 = 48\n",
      "6 X 9 = 54\n",
      "7 X 1 = 7\n",
      "7 X 2 = 14\n",
      "7 X 3 = 21\n",
      "7 X 4 = 28\n",
      "7 X 5 = 35\n",
      "7 X 6 = 42\n",
      "7 X 7 = 49\n",
      "7 X 8 = 56\n",
      "7 X 9 = 63\n",
      "8 X 1 = 8\n",
      "8 X 2 = 16\n",
      "8 X 3 = 24\n",
      "8 X 4 = 32\n",
      "8 X 5 = 40\n",
      "8 X 6 = 48\n",
      "8 X 7 = 56\n",
      "8 X 8 = 64\n",
      "8 X 9 = 72\n",
      "9 X 1 = 9\n",
      "9 X 2 = 18\n",
      "9 X 3 = 27\n",
      "9 X 4 = 36\n",
      "9 X 5 = 45\n",
      "9 X 6 = 54\n",
      "9 X 7 = 63\n",
      "9 X 8 = 72\n",
      "9 X 9 = 81\n"
     ]
    }
   ],
   "source": [
    "for index in range(2, 10):\n",
    "    for index2 in range(1, 10):\n",
    "        print (index, \"X\", index2, \"=\", index * index2)"
   ]
  },
  {
   "cell_type": "code",
   "execution_count": 95,
   "metadata": {},
   "outputs": [
    {
     "name": "stdout",
     "output_type": "stream",
     "text": [
      "2 * 1 = 2\n",
      "2 * 2 = 4\n",
      "2 * 3 = 6\n",
      "2 * 4 = 8\n",
      "2 * 5 = 10\n",
      "2 * 6 = 12\n",
      "2 * 7 = 14\n",
      "2 * 8 = 16\n",
      "2 * 9 = 18\n",
      "3 * 2 = 6\n",
      "3 * 4 = 12\n",
      "3 * 6 = 18\n",
      "3 * 8 = 24\n",
      "4 * 1 = 4\n",
      "4 * 2 = 8\n",
      "4 * 3 = 12\n",
      "4 * 4 = 16\n",
      "4 * 5 = 20\n",
      "4 * 6 = 24\n",
      "4 * 7 = 28\n",
      "4 * 8 = 32\n",
      "4 * 9 = 36\n",
      "5 * 2 = 10\n",
      "5 * 4 = 20\n",
      "5 * 6 = 30\n",
      "5 * 8 = 40\n",
      "6 * 1 = 6\n",
      "6 * 2 = 12\n",
      "6 * 3 = 18\n",
      "6 * 4 = 24\n",
      "6 * 5 = 30\n",
      "6 * 6 = 36\n",
      "6 * 7 = 42\n",
      "6 * 8 = 48\n",
      "6 * 9 = 54\n",
      "7 * 2 = 14\n",
      "7 * 4 = 28\n",
      "7 * 6 = 42\n",
      "7 * 8 = 56\n",
      "8 * 1 = 8\n",
      "8 * 2 = 16\n",
      "8 * 3 = 24\n",
      "8 * 4 = 32\n",
      "8 * 5 = 40\n",
      "8 * 6 = 48\n",
      "8 * 7 = 56\n",
      "8 * 8 = 64\n",
      "8 * 9 = 72\n",
      "9 * 2 = 18\n",
      "9 * 4 = 36\n",
      "9 * 6 = 54\n",
      "9 * 8 = 72\n"
     ]
    }
   ],
   "source": [
    "for i in range(2,10):\n",
    "    for y in range(1,10):\n",
    "        if (i*y)%2 == 0:\n",
    "            print(i,\"*\",y,\"=\",i*y)"
   ]
  },
  {
   "cell_type": "markdown",
   "metadata": {},
   "source": [
    "### Exercise 47. 이중 반복문과 조건문\n",
    "* 구구단을 2단부터 9단까지 출력하되, 계산 값이 짝수인 경우에만 출력하세요\n",
    "  - 예: 3 X 3 = 9 에서 9는 홀수이므로 출력하지 않는다.\n",
    "  - 예: 2 X 4 = 8 에서 8은 짝수이므로 출력한다.\n",
    "  - 최종 출력 예\n",
    "<pre>\n",
    "2 X 2 = 4\n",
    "2 X 3 = 6\n",
    "2 X 4 = 8\n",
    "2 X 5 = 10\n",
    "2 X 6 = 12\n",
    "2 X 7 = 14\n",
    "2 X 8 = 16\n",
    "2 X 9 = 18\n",
    "3 X 2 = 6\n",
    "3 X 4 = 12\n",
    "3 X 6 = 18\n",
    "3 X 8 = 24\n",
    "4 X 2 = 8\n",
    "4 X 3 = 12\n",
    "4 X 4 = 16\n",
    "4 X 5 = 20\n",
    "4 X 6 = 24\n",
    "4 X 7 = 28\n",
    "4 X 8 = 32\n",
    "4 X 9 = 36\n",
    "5 X 2 = 10\n",
    "5 X 4 = 20\n",
    "5 X 6 = 30\n",
    "5 X 8 = 40\n",
    "6 X 2 = 12\n",
    "6 X 3 = 18\n",
    "6 X 4 = 24\n",
    "6 X 5 = 30\n",
    "6 X 6 = 36\n",
    "6 X 7 = 42\n",
    "6 X 8 = 48\n",
    "6 X 9 = 54\n",
    "7 X 2 = 14\n",
    "7 X 4 = 28\n",
    "7 X 6 = 42\n",
    "7 X 8 = 56\n",
    "8 X 2 = 16\n",
    "8 X 3 = 24\n",
    "8 X 4 = 32\n",
    "8 X 5 = 40\n",
    "8 X 6 = 48\n",
    "8 X 7 = 56\n",
    "8 X 8 = 64\n",
    "8 X 9 = 72\n",
    "9 X 2 = 18\n",
    "9 X 4 = 36\n",
    "9 X 6 = 54\n",
    "9 X 8 = 72\n",
    "</pre>"
   ]
  },
  {
   "cell_type": "code",
   "execution_count": 81,
   "metadata": {},
   "outputs": [
    {
     "name": "stdout",
     "output_type": "stream",
     "text": [
      "2 X 1 = 2\n",
      "2 X 2 = 4\n",
      "2 X 3 = 6\n",
      "2 X 4 = 8\n",
      "2 X 5 = 10\n",
      "2 X 6 = 12\n",
      "2 X 7 = 14\n",
      "2 X 8 = 16\n",
      "2 X 9 = 18\n",
      "3 X 2 = 6\n",
      "3 X 4 = 12\n",
      "3 X 6 = 18\n",
      "3 X 8 = 24\n",
      "4 X 1 = 4\n",
      "4 X 2 = 8\n",
      "4 X 3 = 12\n",
      "4 X 4 = 16\n",
      "4 X 5 = 20\n",
      "4 X 6 = 24\n",
      "4 X 7 = 28\n",
      "4 X 8 = 32\n",
      "4 X 9 = 36\n",
      "5 X 2 = 10\n",
      "5 X 4 = 20\n",
      "5 X 6 = 30\n",
      "5 X 8 = 40\n",
      "6 X 1 = 6\n",
      "6 X 2 = 12\n",
      "6 X 3 = 18\n",
      "6 X 4 = 24\n",
      "6 X 5 = 30\n",
      "6 X 6 = 36\n",
      "6 X 7 = 42\n",
      "6 X 8 = 48\n",
      "6 X 9 = 54\n",
      "7 X 2 = 14\n",
      "7 X 4 = 28\n",
      "7 X 6 = 42\n",
      "7 X 8 = 56\n",
      "8 X 1 = 8\n",
      "8 X 2 = 16\n",
      "8 X 3 = 24\n",
      "8 X 4 = 32\n",
      "8 X 5 = 40\n",
      "8 X 6 = 48\n",
      "8 X 7 = 56\n",
      "8 X 8 = 64\n",
      "8 X 9 = 72\n",
      "9 X 2 = 18\n",
      "9 X 4 = 36\n",
      "9 X 6 = 54\n",
      "9 X 8 = 72\n"
     ]
    }
   ],
   "source": [
    "for index in range(2, 10):\n",
    "    for index2 in range(1, 10):\n",
    "        if (index * index2) % 2 == 0: \n",
    "            print (index, \"X\", index2, \"=\", index * index2)"
   ]
  },
  {
   "cell_type": "markdown",
   "metadata": {},
   "source": [
    "### Exercise 48. 이중 반복문과 데이터 구조 (리스트)\n",
    "* 아파트 동호수를 다음과 같은 두 리스트 변수를 활용해서 출력하세요.\n",
    "  - 단, 각 동과 동 사이에는 구분이 되도록 한 라인씩 띄워서 출력하세요\n",
    "\n",
    "<pre>\n",
    "dongs = [\"6209동\", \"6208동\", \"6207동\"]\n",
    "hos = [\"101호\", \"102호\", \"103호\", \"104호\"]\n",
    "</pre>\n",
    "\n",
    "  - 출력 예:\n",
    "<pre>\n",
    "6209동 101호\n",
    "6209동 102호\n",
    "6209동 103호\n",
    "6209동 104호\n",
    "</pre>\n",
    "<pre>\n",
    "6208동 101호\n",
    "6208동 102호\n",
    "6208동 103호\n",
    "6208동 104호\n",
    "</pre>\n",
    "<pre>\n",
    "6207동 101호\n",
    "6207동 102호\n",
    "6207동 103호\n",
    "6207동 104호\n",
    "</pre>"
   ]
  },
  {
   "cell_type": "code",
   "execution_count": 105,
   "metadata": {},
   "outputs": [
    {
     "name": "stdout",
     "output_type": "stream",
     "text": [
      "\n",
      "\n",
      "6209동   101호\n",
      "6209동   102호\n",
      "6209동   103호\n",
      "6209동   104호\n",
      "\n",
      "\n",
      "6208동   101호\n",
      "6208동   102호\n",
      "6208동   103호\n",
      "6208동   104호\n",
      "\n",
      "\n",
      "6207동   101호\n",
      "6207동   102호\n",
      "6207동   103호\n",
      "6207동   104호\n"
     ]
    }
   ],
   "source": [
    "dongs = [\"6209동\", \"6208동\", \"6207동\"]\n",
    "hos = [\"101호\", \"102호\", \"103호\", \"104호\"]\n",
    "\n",
    "for i in range(0,3):\n",
    "    print(\"\\n\")\n",
    "    for y in range(0,4):\n",
    "        print(dongs[i],\" \",hos[y])"
   ]
  },
  {
   "cell_type": "code",
   "execution_count": 86,
   "metadata": {},
   "outputs": [
    {
     "name": "stdout",
     "output_type": "stream",
     "text": [
      "6209동 101호\n",
      "6209동 102호\n",
      "6209동 103호\n",
      "6209동 104호\n",
      "\n",
      "\n",
      "6208동 101호\n",
      "6208동 102호\n",
      "6208동 103호\n",
      "6208동 104호\n",
      "\n",
      "\n",
      "6207동 101호\n",
      "6207동 102호\n",
      "6207동 103호\n",
      "6207동 104호\n",
      "\n",
      "\n"
     ]
    }
   ],
   "source": [
    "dongs = [\"6209동\", \"6208동\", \"6207동\"]\n",
    "hos = [\"101호\", \"102호\", \"103호\", \"104호\"]\n",
    "\n",
    "for dong in dongs:\n",
    "    for ho in hos:\n",
    "        print (dong, ho)\n",
    "    print (\"\\n\")"
   ]
  },
  {
   "cell_type": "markdown",
   "metadata": {},
   "source": [
    "<div class=\"alert alert-block\" style=\"border: 2px solid #1976D2;background-color:#E3F2FD;padding:5px;font-size:0.9em;\">\n",
    "본 자료는 저작권법 제25조 2항에 의해 보호를 받습니다. 본 자료를 외부에 공개하지 말아주세요.<br>\n",
    "본 강의만 잘 정리하면, 데이터 분석, 데이터 과학, 풀스택(백엔드, 프론트엔드) 개발 모두 가능합니다!<br>\n",
    "<b><a href=\"https://school.fun-coding.org/\">잔재미코딩</a> 에서 본 강의 기반 최적화된 로드맵도 확인하실 수 있습니다</b></div>"
   ]
  }
 ],
 "metadata": {
  "kernelspec": {
   "display_name": "Python 3 (ipykernel)",
   "language": "python",
   "name": "python3"
  },
  "language_info": {
   "codemirror_mode": {
    "name": "ipython",
    "version": 3
   },
   "file_extension": ".py",
   "mimetype": "text/x-python",
   "name": "python",
   "nbconvert_exporter": "python",
   "pygments_lexer": "ipython3",
   "version": "3.11.5"
  },
  "nbTranslate": {
   "displayLangs": [
    "*"
   ],
   "hotkey": "alt-t",
   "langInMainMenu": true,
   "sourceLang": "en",
   "targetLang": "fr",
   "useGoogleTranslate": true
  }
 },
 "nbformat": 4,
 "nbformat_minor": 2
}
