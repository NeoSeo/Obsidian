{
 "cells": [
  {
   "cell_type": "code",
   "execution_count": 5,
   "id": "822f9cf6",
   "metadata": {},
   "outputs": [
    {
     "name": "stdout",
     "output_type": "stream",
     "text": [
      "Hello World\n"
     ]
    }
   ],
   "source": [
    "\"\"\"a=1\n",
    "print(\"Hello World\")\"\"\""
   ]
  },
  {
   "cell_type": "code",
   "execution_count": 6,
   "id": "4cca0a52",
   "metadata": {},
   "outputs": [
    {
     "name": "stdout",
     "output_type": "stream",
     "text": [
      "1\n"
     ]
    }
   ],
   "source": [
    "print(1)"
   ]
  },
  {
   "cell_type": "code",
   "execution_count": 8,
   "id": "cb9e29e0",
   "metadata": {},
   "outputs": [
    {
     "name": "stdout",
     "output_type": "stream",
     "text": [
      "True\n"
     ]
    }
   ],
   "source": [
    "print(3<7)"
   ]
  },
  {
   "cell_type": "code",
   "execution_count": 3,
   "id": "7add3e21",
   "metadata": {},
   "outputs": [
    {
     "data": {
      "text/plain": [
       "list"
      ]
     },
     "execution_count": 3,
     "metadata": {},
     "output_type": "execute_result"
    }
   ],
   "source": [
    "c = []\n",
    "type(c)"
   ]
  },
  {
   "cell_type": "code",
   "execution_count": 4,
   "id": "c0056d08",
   "metadata": {},
   "outputs": [
    {
     "name": "stdout",
     "output_type": "stream",
     "text": [
      "What is your? dose\n"
     ]
    }
   ],
   "source": [
    "name = input('What is your? ')"
   ]
  },
  {
   "cell_type": "code",
   "execution_count": 5,
   "id": "436c4ee8",
   "metadata": {},
   "outputs": [
    {
     "name": "stdout",
     "output_type": "stream",
     "text": [
      "dose\n"
     ]
    }
   ],
   "source": [
    "print(name)"
   ]
  },
  {
   "cell_type": "code",
   "execution_count": null,
   "id": "5ea4b35e",
   "metadata": {},
   "outputs": [],
   "source": [
    "b = input()\n",
    "print(b)\n",
    "print(int(b))\n",
    "type(b)"
   ]
  },
  {
   "cell_type": "code",
   "execution_count": 8,
   "id": "b6ebd662",
   "metadata": {},
   "outputs": [
    {
     "name": "stdout",
     "output_type": "stream",
     "text": [
      "3\n"
     ]
    }
   ],
   "source": [
    "a = 'dfscdeefadfee'\n",
    "print(a.find('cd'))"
   ]
  },
  {
   "cell_type": "code",
   "execution_count": 9,
   "id": "b6b9929e",
   "metadata": {},
   "outputs": [
    {
     "name": "stdout",
     "output_type": "stream",
     "text": [
      "d..,,..\n",
      "d\n"
     ]
    }
   ],
   "source": [
    "a ='d..,,..'\n",
    "print(a)\n",
    "print(a.strip(\",,..\"))"
   ]
  },
  {
   "cell_type": "code",
   "execution_count": 10,
   "id": "d47dac72",
   "metadata": {},
   "outputs": [
    {
     "name": "stdout",
     "output_type": "stream",
     "text": [
      "This is a pen\n",
      "0.28\n"
     ]
    }
   ],
   "source": [
    "print('This is a {}'.format('pen'))\n",
    "interest = 0.279425\n",
    "print(format(interest, \".2f\"))"
   ]
  },
  {
   "cell_type": "code",
   "execution_count": 2,
   "id": "2cb8c17c",
   "metadata": {},
   "outputs": [
    {
     "name": "stdout",
     "output_type": "stream",
     "text": [
      "3.1\n"
     ]
    }
   ],
   "source": [
    "print(format(3.14, '.1f'))"
   ]
  },
  {
   "cell_type": "code",
   "execution_count": 15,
   "id": "a3c6200b",
   "metadata": {},
   "outputs": [
    {
     "name": "stdout",
     "output_type": "stream",
     "text": [
      "<class 'str'>\n",
      "720\n",
      "100\n"
     ]
    },
    {
     "data": {
      "text/plain": [
       "str"
      ]
     },
     "execution_count": 15,
     "metadata": {},
     "output_type": "execute_result"
    }
   ],
   "source": [
    "a = '720'\n",
    "print(type(a))\n",
    "print(int(a))\n",
    "\n",
    "b = 100\n",
    "c= str(b)\n",
    "print(b)\n",
    "type(c)\n"
   ]
  },
  {
   "cell_type": "markdown",
   "id": "542512f2",
   "metadata": {},
   "source": [
    "## 6**2"
   ]
  },
  {
   "cell_type": "code",
   "execution_count": 16,
   "id": "2400d483",
   "metadata": {},
   "outputs": [
    {
     "name": "stdout",
     "output_type": "stream",
     "text": [
      "숫자를 입력하시오 3\n",
      "숫자를 입력하시오 5\n",
      "3 / 5 = 0.6\n"
     ]
    }
   ],
   "source": [
    "a = int(input(\"숫자를 입력하시오 \"))\n",
    "b = int(input(\"숫자를 입력하시오 \"))\n",
    "print(a,'/',b,'=',format(a/b,'.1f'))\n"
   ]
  },
  {
   "cell_type": "code",
   "execution_count": 17,
   "id": "172ba2d1",
   "metadata": {},
   "outputs": [
    {
     "name": "stdout",
     "output_type": "stream",
     "text": [
      "['a', 'b', 'c', 'd', 'e', 'f']\n"
     ]
    }
   ],
   "source": [
    "a = ['a','b','c']\n",
    "b = ['d','e','f']\n",
    "c = a+b\n",
    "print(c)"
   ]
  },
  {
   "cell_type": "code",
   "execution_count": null,
   "id": "628546bd",
   "metadata": {},
   "outputs": [],
   "source": [
    "c=[1,2,3,4]\n",
    "c.reverse()\n",
    "print(c)\n",
    "c.sort()\n",
    "print(c)"
   ]
  },
  {
   "cell_type": "code",
   "execution_count": null,
   "id": "05760310",
   "metadata": {},
   "outputs": [],
   "source": [
    "c = '안녕 나는 서용원이야'\n",
    "print(c)\n",
    "print(type(c))\n",
    "d=c.split()\n",
    "print(c)\n",
    "print(d)\n",
    "type('안녕')\n",
    "## sort()와 reverse()만 본래의 리스트 값이 바뀌지만 split()처럼 이런 내장함수는 본래 함수가 바뀌지 않는다"
   ]
  },
  {
   "cell_type": "code",
   "execution_count": 18,
   "id": "98378460",
   "metadata": {},
   "outputs": [
    {
     "name": "stdout",
     "output_type": "stream",
     "text": [
      "나이는?4\n",
      "청소년\n"
     ]
    }
   ],
   "source": [
    "a = int(input(\"나이는?\"))\n",
    "if a > 20:\n",
    "    print('성인')\n",
    "elif a == 20:\n",
    "    print('어중간해')\n",
    "else:\n",
    "    print('청소년')\n"
   ]
  },
  {
   "cell_type": "code",
   "execution_count": 27,
   "id": "6790eab8",
   "metadata": {},
   "outputs": [
    {
     "name": "stdout",
     "output_type": "stream",
     "text": [
      "500\n",
      "die\n"
     ]
    }
   ],
   "source": [
    "cash = int(input())\n",
    "if cash > 1000:\n",
    "    print('good')\n",
    "elif cash > 500:\n",
    "    print('poor')\n",
    "else:\n",
    "    print('die')\n"
   ]
  },
  {
   "cell_type": "code",
   "execution_count": null,
   "id": "238a9fe2",
   "metadata": {},
   "outputs": [],
   "source": [
    "print(x)"
   ]
  },
  {
   "cell_type": "code",
   "execution_count": 10,
   "id": "d1686f8e",
   "metadata": {},
   "outputs": [
    {
     "name": "stdout",
     "output_type": "stream",
     "text": [
      "안녕\n",
      "안녕\n",
      "안녕\n",
      "안녕\n",
      "안녕\n"
     ]
    }
   ],
   "source": [
    "for i in [1,2,3,4,5]:\n",
    "    print('안녕')"
   ]
  },
  {
   "cell_type": "code",
   "execution_count": 9,
   "id": "a7a9c62f",
   "metadata": {},
   "outputs": [
    {
     "name": "stdout",
     "output_type": "stream",
     "text": [
      "range(0, 3)\n"
     ]
    }
   ],
   "source": [
    "print(range(0,3))"
   ]
  },
  {
   "cell_type": "code",
   "execution_count": 13,
   "id": "8ed0f850",
   "metadata": {},
   "outputs": [
    {
     "name": "stdout",
     "output_type": "stream",
     "text": [
      "0\n",
      "1\n",
      "3\n",
      "6\n",
      "10\n",
      "15\n",
      "21\n",
      "28\n",
      "36\n",
      "45\n"
     ]
    }
   ],
   "source": [
    "sum = 0\n",
    "for i in range(10):\n",
    "    sum = sum+i\n",
    "    print(sum)"
   ]
  },
  {
   "cell_type": "code",
   "execution_count": 14,
   "id": "81c1bc28",
   "metadata": {},
   "outputs": [
    {
     "name": "stdout",
     "output_type": "stream",
     "text": [
      "0\n",
      "1\n",
      "2\n",
      "3\n"
     ]
    }
   ],
   "source": [
    "i = 0\n",
    "while i <= 3:\n",
    "    print(i)\n",
    "    i = i+1"
   ]
  },
  {
   "cell_type": "code",
   "execution_count": 20,
   "id": "35481047",
   "metadata": {},
   "outputs": [
    {
     "name": "stdout",
     "output_type": "stream",
     "text": [
      "what is your name: ddd\n",
      "your name is ddd\n",
      "what is your name: ddd\n",
      "your name is ddd\n",
      "what is your name: fdf\n",
      "your name is fdf\n",
      "what is your name: foo\n",
      "your name is foo\n"
     ]
    }
   ],
   "source": [
    "name = ''\n",
    "while name != \"foo\":\n",
    "    name = input(\"what is your name: \")\n",
    "    print(\"your name is \" + name)"
   ]
  },
  {
   "cell_type": "code",
   "execution_count": 32,
   "id": "acc19ef7",
   "metadata": {},
   "outputs": [
    {
     "name": "stdout",
     "output_type": "stream",
     "text": [
      "hello dd\n"
     ]
    }
   ],
   "source": [
    "def func(p1):\n",
    "    print(\"hello\", p1)\n",
    "\n",
    "func(\"dd\")"
   ]
  },
  {
   "cell_type": "code",
   "execution_count": 35,
   "id": "12cea7c6",
   "metadata": {},
   "outputs": [
    {
     "name": "stdout",
     "output_type": "stream",
     "text": [
      "hello cc\n"
     ]
    }
   ],
   "source": [
    "func('cc')"
   ]
  },
  {
   "cell_type": "code",
   "execution_count": 39,
   "id": "f00c8b16",
   "metadata": {},
   "outputs": [
    {
     "name": "stdout",
     "output_type": "stream",
     "text": [
      "3\n",
      "3\n"
     ]
    }
   ],
   "source": [
    "def func(p1,p2):\n",
    "    print (p1+p2)\n",
    "    return p1+p2\n",
    "a= func(1,2)\n",
    "\n",
    "print(a)"
   ]
  },
  {
   "cell_type": "code",
   "execution_count": 40,
   "id": "c65dd182",
   "metadata": {},
   "outputs": [
    {
     "data": {
      "text/plain": [
       "(2, 3)"
      ]
     },
     "execution_count": 40,
     "metadata": {},
     "output_type": "execute_result"
    }
   ],
   "source": [
    "def func(a):\n",
    "    b= a+1\n",
    "    return a,b\n",
    "\n",
    "func(2)"
   ]
  },
  {
   "cell_type": "code",
   "execution_count": 43,
   "id": "b63a522f",
   "metadata": {},
   "outputs": [
    {
     "name": "stdout",
     "output_type": "stream",
     "text": [
      "valid id:  ad\n"
     ]
    }
   ],
   "source": [
    "def id_check(id):\n",
    "    if id == \"admin\":\n",
    "        print(\"invalid\")\n",
    "        return\n",
    "    print(\"valid id: \",id)\n",
    "id_check('ad')"
   ]
  },
  {
   "cell_type": "code",
   "execution_count": 48,
   "id": "6cef0462",
   "metadata": {},
   "outputs": [
    {
     "data": {
      "text/plain": [
       "(1, 2, 1, 2, 1, 2)"
      ]
     },
     "execution_count": 48,
     "metadata": {},
     "output_type": "execute_result"
    }
   ],
   "source": [
    "tu = (1,2)\n",
    "tu2 = (3,4)\n",
    "tu+tu2\n",
    "tu*3"
   ]
  },
  {
   "cell_type": "code",
   "execution_count": 53,
   "id": "dee6c2ee",
   "metadata": {},
   "outputs": [
    {
     "name": "stdout",
     "output_type": "stream",
     "text": [
      "3\n",
      "2\n"
     ]
    }
   ],
   "source": [
    "x = 2\n",
    "y = 3\n",
    "x, y = y, x\n",
    "print(x)\n",
    "print(y)\n"
   ]
  },
  {
   "cell_type": "code",
   "execution_count": 67,
   "id": "17622a03",
   "metadata": {},
   "outputs": [
    {
     "data": {
      "text/plain": [
       "dict_keys(['한국', '미국'])"
      ]
     },
     "execution_count": 67,
     "metadata": {},
     "output_type": "execute_result"
    }
   ],
   "source": [
    "data = {'한국': '서울', '일본': '도쿄'}\n",
    "data['한국']\n",
    "data['미국'] = '워싱턴'\n",
    "del data['일본']\n",
    "data['미국'] = '시애틀'\n",
    "data.keys()\n",
    "data.values()"
   ]
  },
  {
   "cell_type": "code",
   "execution_count": 69,
   "id": "b54d9243",
   "metadata": {},
   "outputs": [
    {
     "name": "stdout",
     "output_type": "stream",
     "text": [
      "서울\n",
      "시애틀\n"
     ]
    }
   ],
   "source": [
    "for i in data.values():\n",
    "    print(i)\n"
   ]
  },
  {
   "cell_type": "code",
   "execution_count": 72,
   "id": "86879de0",
   "metadata": {},
   "outputs": [
    {
     "name": "stdout",
     "output_type": "stream",
     "text": [
      "None\n"
     ]
    }
   ],
   "source": [
    "a=[2]\n",
    "b= a.append(3)\n",
    "print(b)"
   ]
  },
  {
   "cell_type": "code",
   "execution_count": 3,
   "id": "28ef359f",
   "metadata": {},
   "outputs": [
    {
     "data": {
      "text/plain": [
       "set"
      ]
     },
     "execution_count": 3,
     "metadata": {},
     "output_type": "execute_result"
    }
   ],
   "source": [
    "data = set()\n",
    "type(data)"
   ]
  },
  {
   "cell_type": "code",
   "execution_count": 4,
   "id": "cd818dcb",
   "metadata": {},
   "outputs": [
    {
     "data": {
      "text/plain": [
       "set"
      ]
     },
     "execution_count": 4,
     "metadata": {},
     "output_type": "execute_result"
    }
   ],
   "source": [
    "data_set = {'apple', 'dell', 'samsung', 'LG'}\n",
    "type(data_set)\n"
   ]
  },
  {
   "cell_type": "code",
   "execution_count": 5,
   "id": "531e4d38",
   "metadata": {},
   "outputs": [
    {
     "name": "stdout",
     "output_type": "stream",
     "text": [
      "dell\n",
      "apple\n"
     ]
    }
   ],
   "source": [
    "for i in data_set:\n",
    "    print(i)\n",
    "    "
   ]
  },
  {
   "cell_type": "code",
   "execution_count": 7,
   "id": "dcc0383b",
   "metadata": {},
   "outputs": [
    {
     "data": {
      "text/plain": [
       "False"
      ]
     },
     "execution_count": 7,
     "metadata": {},
     "output_type": "execute_result"
    }
   ],
   "source": [
    "data_set = {'apple', 'dell', 'samsung', 'LG'}\n",
    "'motor' in data_set"
   ]
  },
  {
   "cell_type": "code",
   "execution_count": 17,
   "id": "b66675f7",
   "metadata": {},
   "outputs": [
    {
     "data": {
      "text/plain": [
       "{'a', 'c', 'd'}"
      ]
     },
     "execution_count": 17,
     "metadata": {},
     "output_type": "execute_result"
    }
   ],
   "source": [
    "data1 = {'a', 'b','c'}\n",
    "data2 = {'b','d'}\n",
    "data1 ^ data2"
   ]
  },
  {
   "cell_type": "code",
   "execution_count": 35,
   "id": "338e66ae",
   "metadata": {},
   "outputs": [
    {
     "name": "stdout",
     "output_type": "stream",
     "text": [
      "['apple', 'dell', 'samsung', 'LG', 'apple', 'dell', 'samsung', 'LG']\n",
      "['LG', 'LG', 'apple', 'apple', 'dell', 'dell', 'samsung', 'samsung']\n",
      "['LG', 'apple', 'dell', 'samsung']\n"
     ]
    }
   ],
   "source": [
    "data_set = ['apple', 'dell', 'samsung', 'LG', 'apple', 'dell', 'samsung', 'LG']\n",
    "print(data_set)\n",
    "data_set.sort()\n",
    "print(data_set)\n",
    "b = list(set(data_set))\n",
    "b.sort()\n",
    "print(b)"
   ]
  },
  {
   "cell_type": "code",
   "execution_count": 17,
   "id": "6c89b110",
   "metadata": {},
   "outputs": [
    {
     "name": "stderr",
     "output_type": "stream",
     "text": [
      "C:\\Users\\yongwon\\anaconda3\\Lib\\site-packages\\urllib3\\connectionpool.py:1056: InsecureRequestWarning: Unverified HTTPS request is being made to host 'www.ssodam.com'. Adding certificate verification is strongly advised. See: https://urllib3.readthedocs.io/en/1.26.x/advanced-usage.html#ssl-warnings\n",
      "  warnings.warn(\n"
     ]
    },
    {
     "data": {
      "text/plain": [
       "'서담'"
      ]
     },
     "execution_count": 17,
     "metadata": {},
     "output_type": "execute_result"
    }
   ],
   "source": [
    "import requests\n",
    "from bs4 import BeautifulSoup\n",
    "res = requests.get('https://www.ssodam.com/', verify = False)\n",
    "soup = BeautifulSoup(res.content,'html.parser')\n",
    "mydat = soup.find('title')\n",
    "mydat.get_text()"
   ]
  },
  {
   "cell_type": "code",
   "execution_count": 15,
   "id": "01f163a8",
   "metadata": {},
   "outputs": [
    {
     "name": "stdout",
     "output_type": "stream",
     "text": [
      "<title>서담</title>\n"
     ]
    }
   ],
   "source": [
    "soup = BeautifulSoup(res.content,'html.parser')\n",
    "mydat = soup.find('title')\n",
    "mydat.get_text()\n",
    "print(mydat)"
   ]
  },
  {
   "cell_type": "code",
   "execution_count": 16,
   "id": "8122bd19",
   "metadata": {},
   "outputs": [
    {
     "data": {
      "text/plain": [
       "'서담'"
      ]
     },
     "execution_count": 16,
     "metadata": {},
     "output_type": "execute_result"
    }
   ],
   "source": [
    "mydat.get_text()"
   ]
  },
  {
   "cell_type": "code",
   "execution_count": 18,
   "id": "c999c66c",
   "metadata": {},
   "outputs": [
    {
     "name": "stderr",
     "output_type": "stream",
     "text": [
      "C:\\Users\\yongwon\\anaconda3\\Lib\\site-packages\\urllib3\\connectionpool.py:1056: InsecureRequestWarning: Unverified HTTPS request is being made to host 'www.daum.net'. Adding certificate verification is strongly advised. See: https://urllib3.readthedocs.io/en/1.26.x/advanced-usage.html#ssl-warnings\n",
      "  warnings.warn(\n"
     ]
    },
    {
     "data": {
      "text/plain": [
       "'Daum'"
      ]
     },
     "execution_count": 18,
     "metadata": {},
     "output_type": "execute_result"
    }
   ],
   "source": [
    "import requests\n",
    "from bs4 import BeautifulSoup\n",
    "res = requests.get('https://www.daum.net/', verify = False)\n",
    "soup = BeautifulSoup(res.content,'html.parser')\n",
    "mydat = soup.find('title')\n",
    "mydat.get_text()"
   ]
  },
  {
   "cell_type": "code",
   "execution_count": 37,
   "id": "c7dbb063",
   "metadata": {},
   "outputs": [
    {
     "name": "stdout",
     "output_type": "stream",
     "text": [
      "<p class=\"cssstyle\">웹페이지에서 필요한 데이터를 추출하는 것</p>\n",
      "웹페이지에서 필요한 데이터를 추출하는 것\n",
      "파이썬을 중심으로 다양한 웹크롤링 기술 발달\n",
      "<p align=\"center\" id=\"body\">파이썬을 중심으로 다양한 웹크롤링 기술 발달</p>\n",
      "웹페이지에서 필요한 데이터를 추출하는 것\n",
      "파이썬을 중심으로 다양한 웹크롤링 기술 발달\n"
     ]
    }
   ],
   "source": [
    "from bs4 import BeautifulSoup\n",
    "html = \"\"\"\n",
    "<html> \n",
    "        <body> \n",
    "            <h1 id='title'>[1]크롤링이란?</h1> \n",
    "            <p class='cssstyle'>웹페이지에서 필요한 데이터를 추출하는 것</p> \n",
    "            <p id='body' align='center'>파이썬을 중심으로 다양한 웹크롤링 기술 발달</p> \n",
    "        </body> \n",
    "</html>\n",
    "\"\"\"\n",
    "soup = BeautifulSoup(html,\"html.parser\")\n",
    "# 태그로 검색 방법\n",
    "\n",
    "data = soup.find('p', class_ = 'cssstyle')\n",
    "data1 = soup.find('p', 'cssstyle')\n",
    "data2 = soup.find('p', attrs={'align':'center', 'id': 'body'})\n",
    "data3 = soup.find(id = 'body')\n",
    "data4 = soup.find_all('p')\n",
    "print(data) ## tag 나 각종 설정 다 보임\n",
    "print(data1.string)\n",
    "print(data2.get_text())\n",
    "print(data3)\n",
    "\n",
    "for i in data4:\n",
    "    print(i.get_text())\n"
   ]
  },
  {
   "cell_type": "code",
   "execution_count": 47,
   "id": "071e3125",
   "metadata": {},
   "outputs": [
    {
     "name": "stdout",
     "output_type": "stream",
     "text": [
      "김동욱\n",
      "입력 2017. 6. 15. 20:34\n",
      "수정 2017. 6. 15. 21:31\n",
      "\n"
     ]
    },
    {
     "data": {
      "text/plain": [
       "'김동욱'"
      ]
     },
     "execution_count": 47,
     "metadata": {},
     "output_type": "execute_result"
    }
   ],
   "source": [
    "import requests\n",
    "from bs4 import BeautifulSoup\n",
    "    # 1) reqeusts 라이브러리를 활용한 HTML 페이지 요청\n",
    "    # 1-1) res 객체에 HTML 데이터가 저장되고, res.content로 데이터를 추출할 수 있음\n",
    "res = requests.get('http://v.media.daum.net/v/20170615203441266')\n",
    "    # print(res.content)\n",
    "    # 2) HTML 페이지 파싱 BeautifulSoup(HTML데이터, 파싱방법)\n",
    "    # 2-1) BeautifulSoup 파싱방법\n",
    "soup = BeautifulSoup(res.content,'html.parser')\n",
    "# 3) 필요한 데이터 검색\n",
    "title = soup.find_all('span', class_ = 'txt_info')\n",
    "for i in title:\n",
    "    print(i.get_text())\n",
    "\n",
    "# 4) 필요한 데이터 추출\n",
    "title[0].get_text()"
   ]
  },
  {
   "cell_type": "code",
   "execution_count": 36,
   "id": "0fde1691",
   "metadata": {},
   "outputs": [
    {
     "name": "stdout",
     "output_type": "stream",
     "text": [
      "<class 'bs4.element.ResultSet'>\n",
      "(초급) - 강사가 실제 사용하는 자동 프로그램 소개 [2]\n",
      "(초급) - 필요한 프로그램 설치 시연 [5]\n",
      "(초급) - 데이터를 엑셀 파일로 만들기 [9]\n",
      "(초급) -     엑셀 파일 이쁘게! 이쁘게! [8]\n",
      "(초급) -     나대신 주기적으로 파이썬 프로그램 실행하기 [7]\n",
      "(초급) - 파이썬으로 슬랙(slack) 메신저에 글쓰기 [40]\n",
      "(초급) - 웹사이트 변경사항 주기적으로 체크해서, 메신저로 알람주기 [12]\n",
      "(초급) - 네이버 API 사용해서, 블로그에 글쓰기 [42]\n",
      "(중급) - 자동으로 쿠팡파트너스 API 로 가져온 상품 정보, 네이버 블로그/트위터에 홍보하기 [412]\n"
     ]
    }
   ],
   "source": [
    "import requests\n",
    "from bs4 import BeautifulSoup\n",
    "res = requests.get('https://davelee-fun.github.io/blog/crawl_test')\n",
    "soup = BeautifulSoup(res.content,'html.parser')\n",
    "\n",
    "section =  soup.find(id=\"dev_course_list\")\n",
    "titles = section.find_all('li', 'course')\n",
    "\n",
    "for i in titles:\n",
    "    print(i.get_text()) ## 추출된 데이터는 객체(object)이다.\n"
   ]
  },
  {
   "cell_type": "code",
   "execution_count": 41,
   "id": "588ed348",
   "metadata": {},
   "outputs": [
    {
     "name": "stdout",
     "output_type": "stream",
     "text": [
      "['(초급) ', ' 강사가 실제 사용하는 자동 프로그램 소개 [2]']\n",
      "['(초급) ', ' 필요한 프로그램 설치 시연 [5]']\n",
      "['(초급) ', ' 데이터를 엑셀 파일로 만들기 [9]']\n",
      "['(초급) ', ' \\xa0\\xa0\\xa0\\xa0엑셀 파일 이쁘게! 이쁘게! [8]']\n",
      "['(초급) ', ' \\xa0\\xa0\\xa0\\xa0나대신 주기적으로 파이썬 프로그램 실행하기 [7]']\n",
      "['(초급) ', ' 파이썬으로 슬랙(slack) 메신저에 글쓰기 [40]']\n",
      "['(초급) ', ' 웹사이트 변경사항 주기적으로 체크해서, 메신저로 알람주기 [12]']\n",
      "['(초급) ', ' 네이버 API 사용해서, 블로그에 글쓰기 [42]']\n",
      "['(중급) ', ' 자동으로 쿠팡파트너스 API 로 가져온 상품 정보, 네이버 블로그/트위터에 홍보하기 [412]']\n"
     ]
    }
   ],
   "source": [
    "import requests\n",
    "from bs4 import BeautifulSoup\n",
    "res = requests.get('https://davelee-fun.github.io/blog/crawl_test')\n",
    "soup = BeautifulSoup(res.content,'html.parser')\n",
    "\n",
    "section =  soup.find(id=\"dev_course_list\")\n",
    "titles = section.find_all('li', 'course')\n",
    "for i in titles:\n",
    "    print(i.get_text().split('-')) ## split으로 [ 글자를 앞뒤로 리스트 데이터 형태로 만들어줌 ,[0] 로 0 인덱스를 가져옮"
   ]
  },
  {
   "cell_type": "code",
   "execution_count": 50,
   "id": "4c376de7",
   "metadata": {},
   "outputs": [
    {
     "name": "stdout",
     "output_type": "stream",
     "text": [
      "1. 강사가 실제 사용하는 자동 프로그램 소개\n",
      "2. 필요한 프로그램 설치 시연\n",
      "3. 데이터를 엑셀 파일로 만들기\n",
      "4. 엑셀 파일 이쁘게! 이쁘게!\n",
      "5. 나대신 주기적으로 파이썬 프로그램 실행하기\n",
      "6. 파이썬으로 슬랙(slack) 메신저에 글쓰기\n",
      "7. 웹사이트 변경사항 주기적으로 체크해서, 메신저로 알람주기\n",
      "8. 네이버 API 사용해서, 블로그에 글쓰기\n",
      "9. 자동으로 쿠팡파트너스 API 로 가져온 상품 정보, 네이버 블로그/트위터에 홍보하기\n"
     ]
    }
   ],
   "source": [
    "import requests\n",
    "from bs4 import BeautifulSoup\n",
    "res = requests.get('https://davelee-fun.github.io/blog/crawl_test')\n",
    "soup = BeautifulSoup(res.content,'html.parser')\n",
    "\n",
    "section =  soup.find(id=\"dev_course_list\")\n",
    "titles = section.find_all('li', 'course')\n",
    "for index, i in enumerate(titles):\n",
    "    print(str(index+1)+'.', i.get_text().split('[')[0].split('-')[1].strip())  ##strip.()은 스페이스 제거. 혹은 strip(' ')으로 쓸 수도 있다."
   ]
  },
  {
   "cell_type": "code",
   "execution_count": 91,
   "id": "13365266",
   "metadata": {},
   "outputs": [
    {
     "name": "stdout",
     "output_type": "stream",
     "text": [
      "(왕초보) - 블로그 개발 필요한 준비물 준비하기\n"
     ]
    }
   ],
   "source": [
    "import requests\n",
    "from bs4 import BeautifulSoup\n",
    "res = requests.get('https://davelee-fun.github.io/blog/crawl_test_css.html')\n",
    "soup = BeautifulSoup(res.content,'html.parser')\n",
    "items = soup.select('ul#hobby_course_list li.course') ## ('ul > a') 라고 하면  ul 태그 밑에 바로 a라는 태그가 있으면 크롤링. \n",
    "itemss = soup.select('.course.paid') # class는 .class명칭. class가 복수일 때는.으로 계속 이어준다. id 크롤링읕 #id명칭 ex) #start\n",
    "for index, item in enumerate(items):\n",
    "    if index == 1:\n",
    "        print (item.get_text())"
   ]
  },
  {
   "cell_type": "code",
   "execution_count": 94,
   "id": "03926498",
   "metadata": {},
   "outputs": [
    {
     "name": "stdout",
     "output_type": "stream",
     "text": [
      "(왕초보) - 클래스 소개\n",
      "(왕초보) - 클래스 소개\n"
     ]
    }
   ],
   "source": [
    "import requests\n",
    "from bs4 import BeautifulSoup\n",
    "res = requests.get('https://davelee-fun.github.io/blog/crawl_test_css.html')\n",
    "soup = BeautifulSoup(res.content,'html.parser')\n",
    "items = soup.select_one('ul#hobby_course_list li.course') ## ('ul > a') 라고 하면  ul 태그 밑에 바로 a라는 태그가 있으면 크롤링. \n",
    "itemss = soup.select('.course.paid') # class는 .class명칭. class가 복수일 때는.으로 계속 이어준다. id 크롤링읕 #id명칭 ex) #start\n",
    "for item in items:\n",
    "        print (item.get_text())\n",
    "print(items.get_text())"
   ]
  },
  {
   "cell_type": "code",
   "execution_count": 99,
   "id": "29c71b27",
   "metadata": {},
   "outputs": [
    {
     "name": "stdout",
     "output_type": "stream",
     "text": [
      "정\n",
      "정,커리큘럼 타이틀\n",
      "정,커리큘럼 타이틀,난이도\n",
      ".1 ~ 6.15\n",
      ".1 ~ 6.15,나만의 엣지있는 블로그 사이트 만들기 (취미로 익히는 IT)\n",
      ".1 ~ 6.15,나만의 엣지있는 블로그 사이트 만들기 (취미로 익히는 IT),초급\n",
      ".16 ~ 7.31\n",
      ".16 ~ 7.31,파이썬과 데이터과학 첫걸음 (IT 기본기 익히기)\n",
      ".16 ~ 7.31,파이썬과 데이터과학 첫걸음 (IT 기본기 익히기),중급\n"
     ]
    }
   ],
   "source": [
    "from bs4 import BeautifulSoup\n",
    "import requests\n",
    "res = requests.get('https://davelee-fun.github.io/blog/crawl_html_css.html')\n",
    "soup = BeautifulSoup(res.content,'html.parser')\n",
    "items = soup.select('tr')\n",
    "for item in items:\n",
    "    columns = item.select('td')\n",
    "    row_str = ''\n",
    "for column in columns:\n",
    "    row_str += ',' + column.get_text()\n",
    "    print (row_str[2:])"
   ]
  },
  {
   "cell_type": "code",
   "execution_count": 122,
   "id": "e0f73dad",
   "metadata": {},
   "outputs": [
    {
     "name": "stdout",
     "output_type": "stream",
     "text": [
      " 일정.. 커리큘럼 타이틀.. 난이도\n",
      " 5.1 ~ 6.15.. 나만의 엣지있는 블로그 사이트 만들기 (취미로 익히는 IT).. 초급\n",
      " 6.16 ~ 7.31.. 파이썬과 데이터과학 첫걸음 (IT 기본기 익히기).. 중급\n"
     ]
    }
   ],
   "source": [
    "from bs4 import BeautifulSoup\n",
    "import requests\n",
    "res = requests.get('https://davelee-fun.github.io/blog/crawl_html_css.html')\n",
    "soup = BeautifulSoup(res.content, 'html.parser')\n",
    "items = soup.select('tr')\n",
    "for i in items:\n",
    "    cols = i.select('td')\n",
    "    row_str = ''\n",
    "    for col in cols:\n",
    "        row_str += '.. '+col.get_text()\n",
    "    print(row_str[2:])"
   ]
  },
  {
   "cell_type": "code",
   "execution_count": 112,
   "id": "a7a2abec",
   "metadata": {},
   "outputs": [
    {
     "name": "stdout",
     "output_type": "stream",
     "text": [
      "일정\n",
      "커리큘럼 타이틀\n",
      "난이도\n",
      "5.1 ~ 6.15\n",
      "나만의 엣지있는 블로그 사이트 만들기 (취미로 익히는 IT)\n",
      "초급\n",
      "6.16 ~ 7.31\n",
      "파이썬과 데이터과학 첫걸음 (IT 기본기 익히기)\n",
      "중급\n"
     ]
    }
   ],
   "source": [
    "from bs4 import BeautifulSoup\n",
    "import requests\n",
    "res = requests.get('https://davelee-fun.github.io/blog/crawl_html_css.html')\n",
    "soup = BeautifulSoup(res.content, 'html.parser')\n",
    "items = soup.select('td')\n",
    "for i in items:\n",
    "   \n",
    "        print(i.get_text())"
   ]
  },
  {
   "cell_type": "code",
   "execution_count": 154,
   "id": "86b59d54",
   "metadata": {},
   "outputs": [
    {
     "name": "stdout",
     "output_type": "stream",
     "text": [
      "<class 'bs4.element.Tag'>\n",
      "4:32\n",
      "<class 'bs4.element.Tag'>\n",
      "18:12\n",
      "<class 'bs4.element.Tag'>\n",
      "4:11\n",
      "<class 'bs4.element.Tag'>\n",
      "11:49\n",
      "<class 'bs4.element.Tag'>\n",
      "13:02\n",
      "<class 'bs4.element.Tag'>\n",
      "17:08\n",
      "<class 'bs4.element.Tag'>\n",
      "7:40\n",
      "<class 'bs4.element.Tag'>\n",
      "10:19\n",
      "<class 'bs4.element.Tag'>\n",
      "11:23\n",
      "<class 'bs4.element.Tag'>\n",
      "12:14\n",
      "<class 'bs4.element.Tag'>\n",
      "11:49\n",
      "<class 'bs4.element.Tag'>\n",
      "12:15\n",
      "<class 'bs4.element.Tag'>\n",
      "7:53\n",
      "<class 'bs4.element.Tag'>\n",
      "11:07\n",
      "<class 'bs4.element.Tag'>\n",
      "10:27\n",
      "<class 'bs4.element.Tag'>\n",
      "10:26\n",
      "<class 'bs4.element.Tag'>\n",
      "12:39\n",
      "<class 'bs4.element.Tag'>\n",
      "13:42\n",
      "<class 'bs4.element.Tag'>\n",
      "5:19\n",
      "<class 'bs4.element.Tag'>\n",
      "7:36\n",
      "<class 'bs4.element.Tag'>\n",
      "13:29\n",
      "<class 'bs4.element.Tag'>\n",
      "13:22\n",
      "<class 'bs4.element.Tag'>\n",
      "7:53\n",
      "<class 'bs4.element.Tag'>\n",
      "15:42\n",
      "<class 'bs4.element.Tag'>\n",
      "12:58\n",
      "<class 'bs4.element.Tag'>\n",
      "10:03\n",
      "<class 'bs4.element.Tag'>\n",
      "12:30\n",
      "<class 'bs4.element.Tag'>\n",
      "7:48\n",
      "<class 'bs4.element.Tag'>\n",
      "12:30\n",
      "<class 'bs4.element.Tag'>\n",
      "22:54\n",
      "<class 'bs4.element.Tag'>\n",
      "11:06\n"
     ]
    }
   ],
   "source": [
    "import requests\n",
    "from bs4 import BeautifulSoup\n",
    "res = requests.get('https://school.fun-coding.org/p/supercrawl')\n",
    "soup = BeautifulSoup(res.content,'html.parser')\n",
    "items = soup.select('.block__curriculum__section__list__item__lecture-duration')\n",
    "for i in items:\n",
    "    print(type(i))\n",
    "    print(i.get_text().strip('(').strip(')'))\n"
   ]
  },
  {
   "cell_type": "markdown",
   "id": "27c87a66",
   "metadata": {},
   "source": [
    "## 페이지 오류 확인\n"
   ]
  },
  {
   "cell_type": "code",
   "execution_count": null,
   "id": "3457f78d",
   "metadata": {},
   "outputs": [],
   "source": [
    "import requests\n",
    "from bs4 import BeautifulSoup\n",
    "\n",
    "res = requests.get('https://davelee-fun.github.io/')\n",
    "if res.status_code != 200: ## 페이지가 있는지 확인하는 건 status_code로 확인\n",
    "  print('페이지 없음')\n",
    "else:\n",
    "  soup = BeautifulSoup(res.content, 'html.parser')\n",
    "  items = soup.select('h1')"
   ]
  },
  {
   "cell_type": "markdown",
   "id": "e3853ccf",
   "metadata": {},
   "source": [
    "## 여러 페이지 크롤링"
   ]
  },
  {
   "cell_type": "code",
   "execution_count": null,
   "id": "091145a9",
   "metadata": {},
   "outputs": [],
   "source": [
    "for page_num in range(3):\n",
    "    if page_num == 0:\n",
    "        res = requests.get('https://davelee-fun.github.io/') # 1 page가 보통 숫자 페이지로 되어 있지 않기 때문\n",
    "    else:\n",
    "        res = requests.get('https://davelee-fun.github.io/page' + str(page_num + 1))\n",
    "    soup = BeautifulSoup(res.content, 'html.parser')\n",
    "    data = soup.select('h4.card-text')\n",
    "    for item in data:"
   ]
  },
  {
   "cell_type": "markdown",
   "id": "8851bab8",
   "metadata": {},
   "source": [
    "# 엑셀파일로 만들기"
   ]
  },
  {
   "cell_type": "code",
   "execution_count": 128,
   "id": "228702bd",
   "metadata": {},
   "outputs": [
    {
     "name": "stdout",
     "output_type": "stream",
     "text": [
      "Requirement already satisfied: openpyxl in c:\\users\\yongwon\\anaconda3\\lib\\site-packages (3.0.10)\n",
      "Requirement already satisfied: et_xmlfile in c:\\users\\yongwon\\anaconda3\\lib\\site-packages (from openpyxl) (1.1.0)\n"
     ]
    }
   ],
   "source": [
    "!pip install openpyxl"
   ]
  },
  {
   "cell_type": "code",
   "execution_count": 133,
   "id": "188ca9a3",
   "metadata": {},
   "outputs": [],
   "source": [
    "import openpyxl ## Workbook 생성\n",
    "\n",
    "excel_file = openpyxl.Workbook()\n",
    "excel_sheet = excel_file.active  #시트 선택\n",
    "excel_sheet.title = 'Sheet1'\n",
    "excel_sheet.append(['data1', 'data2', 'data3']) # 시트 1행에 a,b,c 열에 넣기\n",
    "excel_sheet.append(['data4', 'data5', 'data6'])\n",
    "excel_file.save('tmp.xlsx')\n",
    "excel_file.close()"
   ]
  },
  {
   "cell_type": "code",
   "execution_count": 134,
   "id": "2e5aacd4",
   "metadata": {},
   "outputs": [],
   "source": [
    "import openpyxl\n",
    "excel_file = openpyxl.Workbook()\n",
    "excel_sheet = excel_file.active\n",
    "excel_sheet.title = 'Sheet2'\n",
    "excel_sheet.append(['data1', 'data2', 'data3'])\n",
    "excel_file.save('tmp.xlsx')\n",
    "excel_file.close()"
   ]
  },
  {
   "cell_type": "code",
   "execution_count": 139,
   "id": "b00b678b",
   "metadata": {},
   "outputs": [],
   "source": [
    "\n",
    "excel_sheet.title = 'Sheet6'\n",
    "excel_sheet.append(['dd', 'dadfsad', 'dadfasdf']) # 시트 1행에 a,b,c 열에 넣기\n",
    "excel_file.save('tmp.xlsx')\n",
    "excel_file.close()"
   ]
  },
  {
   "cell_type": "code",
   "execution_count": 188,
   "id": "038237d1",
   "metadata": {},
   "outputs": [],
   "source": [
    "import openpyxl\n",
    "\n",
    "def write_xl(filename, sheetname, listdata):\n",
    "    xl_file = openpyxl.Workbook()\n",
    "    xl_sheet = xl_file.active\n",
    "    xl_sheet.column_dimensions['A'].width = 100\n",
    "    xl_sheet.column_dimensions['B'].width = 20\n",
    "    \n",
    "    if sheetname != '':\n",
    "        xl_sheet.title = sheetname\n",
    "        \n",
    "    for data in listdata:\n",
    "        xl_sheet.append(data)\n",
    "    xl_file.save(filename)\n",
    "    xl_file.close()"
   ]
  },
  {
   "cell_type": "code",
   "execution_count": 208,
   "id": "1f4b1da4",
   "metadata": {},
   "outputs": [
    {
     "name": "stdout",
     "output_type": "stream",
     "text": [
      "[<a class=\"block__curriculum__section__list__item__link\" data-ss-course-id=\"2503819\" data-ss-event-href=\"/courses/supercrawl/lectures/53143700\" data-ss-event-name=\"Lecture: Start (Sales - PE v2)\" data-ss-event-type=\"button\" data-ss-lecture-id=\"53143700\" data-ss-school-id=\"312103\" data-ss-user-id=\"\" href=\"/courses/supercrawl/lectures/53143700\">\n",
      "<span class=\"block__curriculum__section__list__item__lecture-icon\">\n",
      "<svg alt=\"Video icon\" class=\"block__curriculum__section__list__item__lecture-icon__svg\" height=\"24\" width=\"24\">\n",
      "<use xlink:href=\"#icon__Video\"></use>\n",
      "</svg>\n",
      "</span>\n",
      "<span class=\"block__curriculum__section__list__item__lecture-name\">현존 최강 파이썬 크롤링 강의 소개</span>\n",
      "<span class=\"block__curriculum__section__list__item__lecture-duration\">(4:32)</span>\n",
      "<button class=\"block__curriculum__section__list__item__button preview\">미리보기</button>\n",
      "</a>, <a class=\"block__curriculum__section__list__item__link\" data-ss-course-id=\"2503819\" data-ss-event-href=\"/courses/supercrawl/lectures/53143703\" data-ss-event-name=\"Lecture: Start (Sales - PE v2)\" data-ss-event-type=\"button\" data-ss-lecture-id=\"53143703\" data-ss-school-id=\"312103\" data-ss-user-id=\"\" href=\"/courses/supercrawl/lectures/53143703\">\n",
      "<span class=\"block__curriculum__section__list__item__lecture-icon\">\n",
      "<svg alt=\"Video icon\" class=\"block__curriculum__section__list__item__lecture-icon__svg\" height=\"24\" width=\"24\">\n",
      "<use xlink:href=\"#icon__Video\"></use>\n",
      "</svg>\n",
      "</span>\n",
      "<span class=\"block__curriculum__section__list__item__lecture-name\">만족도와 학습효과를 높이는 팁 (꼭 들어주세요)</span>\n",
      "<span class=\"block__curriculum__section__list__item__lecture-duration\">(18:12)</span>\n",
      "<button class=\"block__curriculum__section__list__item__button start\">시작하기</button>\n",
      "</a>, <a class=\"block__curriculum__section__list__item__link\" data-ss-course-id=\"2503819\" data-ss-event-href=\"/courses/supercrawl/lectures/53143714\" data-ss-event-name=\"Lecture: Start (Sales - PE v2)\" data-ss-event-type=\"button\" data-ss-lecture-id=\"53143714\" data-ss-school-id=\"312103\" data-ss-user-id=\"\" href=\"/courses/supercrawl/lectures/53143714\">\n",
      "<span class=\"block__curriculum__section__list__item__lecture-icon\">\n",
      "<svg alt=\"Video icon\" class=\"block__curriculum__section__list__item__lecture-icon__svg\" height=\"24\" width=\"24\">\n",
      "<use xlink:href=\"#icon__Video\"></use>\n",
      "</svg>\n",
      "</span>\n",
      "<span class=\"block__curriculum__section__list__item__lecture-name\">아나콘다 설치와 터미널 환경 이해</span>\n",
      "<span class=\"block__curriculum__section__list__item__lecture-duration\">(4:11)</span>\n",
      "<button class=\"block__curriculum__section__list__item__button preview\">미리보기</button>\n",
      "</a>, <a class=\"block__curriculum__section__list__item__link\" data-ss-course-id=\"2503819\" data-ss-event-href=\"/courses/supercrawl/lectures/53143702\" data-ss-event-name=\"Lecture: Start (Sales - PE v2)\" data-ss-event-type=\"button\" data-ss-lecture-id=\"53143702\" data-ss-school-id=\"312103\" data-ss-user-id=\"\" href=\"/courses/supercrawl/lectures/53143702\">\n",
      "<span class=\"block__curriculum__section__list__item__lecture-icon\">\n",
      "<svg alt=\"Video icon\" class=\"block__curriculum__section__list__item__lecture-icon__svg\" height=\"24\" width=\"24\">\n",
      "<use xlink:href=\"#icon__Video\"></use>\n",
      "</svg>\n",
      "</span>\n",
      "<span class=\"block__curriculum__section__list__item__lecture-name\">아나콘다 설치와 터미널 환경 설정 (맥 환경)</span>\n",
      "<span class=\"block__curriculum__section__list__item__lecture-duration\">(11:49)</span>\n",
      "<button class=\"block__curriculum__section__list__item__button preview\">미리보기</button>\n",
      "</a>, <a class=\"block__curriculum__section__list__item__link\" data-ss-course-id=\"2503819\" data-ss-event-href=\"/courses/supercrawl/lectures/53143695\" data-ss-event-name=\"Lecture: Start (Sales - PE v2)\" data-ss-event-type=\"button\" data-ss-lecture-id=\"53143695\" data-ss-school-id=\"312103\" data-ss-user-id=\"\" href=\"/courses/supercrawl/lectures/53143695\">\n",
      "<span class=\"block__curriculum__section__list__item__lecture-icon\">\n",
      "<svg alt=\"Video icon\" class=\"block__curriculum__section__list__item__lecture-icon__svg\" height=\"24\" width=\"24\">\n",
      "<use xlink:href=\"#icon__Video\"></use>\n",
      "</svg>\n",
      "</span>\n",
      "<span class=\"block__curriculum__section__list__item__lecture-name\">아나콘다 설치와 터미널 환경 설정 (윈도우 환경)</span>\n",
      "<span class=\"block__curriculum__section__list__item__lecture-duration\">(13:02)</span>\n",
      "<button class=\"block__curriculum__section__list__item__button preview\">미리보기</button>\n",
      "</a>, <a class=\"block__curriculum__section__list__item__link\" data-ss-course-id=\"2503819\" data-ss-event-href=\"/courses/supercrawl/lectures/53184892\" data-ss-event-name=\"Lecture: Start (Sales - PE v2)\" data-ss-event-type=\"button\" data-ss-lecture-id=\"53184892\" data-ss-school-id=\"312103\" data-ss-user-id=\"\" href=\"/courses/supercrawl/lectures/53184892\">\n",
      "<span class=\"block__curriculum__section__list__item__lecture-icon\">\n",
      "<svg alt=\"Subject icon\" class=\"block__curriculum__section__list__item__lecture-icon__svg\" height=\"24\" width=\"24\">\n",
      "<use xlink:href=\"#icon__Subject\"></use>\n",
      "</svg>\n",
      "</span>\n",
      "<span class=\"block__curriculum__section__list__item__lecture-name\">수업자료 다운로드</span>\n",
      "<button class=\"block__curriculum__section__list__item__button start\">시작하기</button>\n",
      "</a>, <a class=\"block__curriculum__section__list__item__link\" data-ss-course-id=\"2503819\" data-ss-event-href=\"/courses/supercrawl/lectures/53143718\" data-ss-event-name=\"Lecture: Start (Sales - PE v2)\" data-ss-event-type=\"button\" data-ss-lecture-id=\"53143718\" data-ss-school-id=\"312103\" data-ss-user-id=\"\" href=\"/courses/supercrawl/lectures/53143718\">\n",
      "<span class=\"block__curriculum__section__list__item__lecture-icon\">\n",
      "<svg alt=\"Video icon\" class=\"block__curriculum__section__list__item__lecture-icon__svg\" height=\"24\" width=\"24\">\n",
      "<use xlink:href=\"#icon__Video\"></use>\n",
      "</svg>\n",
      "</span>\n",
      "<span class=\"block__curriculum__section__list__item__lecture-name\">주피터 노트북 사용법</span>\n",
      "<span class=\"block__curriculum__section__list__item__lecture-duration\">(17:08)</span>\n",
      "<button class=\"block__curriculum__section__list__item__button start\">시작하기</button>\n",
      "</a>, <a class=\"block__curriculum__section__list__item__link\" data-ss-course-id=\"2503819\" data-ss-event-href=\"/courses/supercrawl/lectures/53143694\" data-ss-event-name=\"Lecture: Start (Sales - PE v2)\" data-ss-event-type=\"button\" data-ss-lecture-id=\"53143694\" data-ss-school-id=\"312103\" data-ss-user-id=\"\" href=\"/courses/supercrawl/lectures/53143694\">\n",
      "<span class=\"block__curriculum__section__list__item__lecture-icon\">\n",
      "<svg alt=\"Video icon\" class=\"block__curriculum__section__list__item__lecture-icon__svg\" height=\"24\" width=\"24\">\n",
      "<use xlink:href=\"#icon__Video\"></use>\n",
      "</svg>\n",
      "</span>\n",
      "<span class=\"block__curriculum__section__list__item__lecture-name\">Selenium 이란?</span>\n",
      "<span class=\"block__curriculum__section__list__item__lecture-duration\">(7:40)</span>\n",
      "<button class=\"block__curriculum__section__list__item__button preview\">미리보기</button>\n",
      "</a>, <a class=\"block__curriculum__section__list__item__link\" data-ss-course-id=\"2503819\" data-ss-event-href=\"/courses/supercrawl/lectures/53143716\" data-ss-event-name=\"Lecture: Start (Sales - PE v2)\" data-ss-event-type=\"button\" data-ss-lecture-id=\"53143716\" data-ss-school-id=\"312103\" data-ss-user-id=\"\" href=\"/courses/supercrawl/lectures/53143716\">\n",
      "<span class=\"block__curriculum__section__list__item__lecture-icon\">\n",
      "<svg alt=\"Video icon\" class=\"block__curriculum__section__list__item__lecture-icon__svg\" height=\"24\" width=\"24\">\n",
      "<use xlink:href=\"#icon__Video\"></use>\n",
      "</svg>\n",
      "</span>\n",
      "<span class=\"block__curriculum__section__list__item__lecture-name\">Selenium 설치 (맥/윈도우 모두)</span>\n",
      "<span class=\"block__curriculum__section__list__item__lecture-duration\">(10:19)</span>\n",
      "<button class=\"block__curriculum__section__list__item__button start\">시작하기</button>\n",
      "</a>, <a class=\"block__curriculum__section__list__item__link\" data-ss-course-id=\"2503819\" data-ss-event-href=\"/courses/supercrawl/lectures/53143697\" data-ss-event-name=\"Lecture: Start (Sales - PE v2)\" data-ss-event-type=\"button\" data-ss-lecture-id=\"53143697\" data-ss-school-id=\"312103\" data-ss-user-id=\"\" href=\"/courses/supercrawl/lectures/53143697\">\n",
      "<span class=\"block__curriculum__section__list__item__lecture-icon\">\n",
      "<svg alt=\"Video icon\" class=\"block__curriculum__section__list__item__lecture-icon__svg\" height=\"24\" width=\"24\">\n",
      "<use xlink:href=\"#icon__Video\"></use>\n",
      "</svg>\n",
      "</span>\n",
      "<span class=\"block__curriculum__section__list__item__lecture-name\">Selenium 기본 코드</span>\n",
      "<span class=\"block__curriculum__section__list__item__lecture-duration\">(11:23)</span>\n",
      "<button class=\"block__curriculum__section__list__item__button preview\">미리보기</button>\n",
      "</a>, <a class=\"block__curriculum__section__list__item__link\" data-ss-course-id=\"2503819\" data-ss-event-href=\"/courses/supercrawl/lectures/53143711\" data-ss-event-name=\"Lecture: Start (Sales - PE v2)\" data-ss-event-type=\"button\" data-ss-lecture-id=\"53143711\" data-ss-school-id=\"312103\" data-ss-user-id=\"\" href=\"/courses/supercrawl/lectures/53143711\">\n",
      "<span class=\"block__curriculum__section__list__item__lecture-icon\">\n",
      "<svg alt=\"Video icon\" class=\"block__curriculum__section__list__item__lecture-icon__svg\" height=\"24\" width=\"24\">\n",
      "<use xlink:href=\"#icon__Video\"></use>\n",
      "</svg>\n",
      "</span>\n",
      "<span class=\"block__curriculum__section__list__item__lecture-name\">Selenium 기반 기본 크롤링 기법</span>\n",
      "<span class=\"block__curriculum__section__list__item__lecture-duration\">(12:14)</span>\n",
      "<button class=\"block__curriculum__section__list__item__button start\">시작하기</button>\n",
      "</a>, <a class=\"block__curriculum__section__list__item__link\" data-ss-course-id=\"2503819\" data-ss-event-href=\"/courses/supercrawl/lectures/53143707\" data-ss-event-name=\"Lecture: Start (Sales - PE v2)\" data-ss-event-type=\"button\" data-ss-lecture-id=\"53143707\" data-ss-school-id=\"312103\" data-ss-user-id=\"\" href=\"/courses/supercrawl/lectures/53143707\">\n",
      "<span class=\"block__curriculum__section__list__item__lecture-icon\">\n",
      "<svg alt=\"Video icon\" class=\"block__curriculum__section__list__item__lecture-icon__svg\" height=\"24\" width=\"24\">\n",
      "<use xlink:href=\"#icon__Video\"></use>\n",
      "</svg>\n",
      "</span>\n",
      "<span class=\"block__curriculum__section__list__item__lecture-name\">Headless Chrome 과 Selenium</span>\n",
      "<span class=\"block__curriculum__section__list__item__lecture-duration\">(11:49)</span>\n",
      "<button class=\"block__curriculum__section__list__item__button start\">시작하기</button>\n",
      "</a>, <a class=\"block__curriculum__section__list__item__link\" data-ss-course-id=\"2503819\" data-ss-event-href=\"/courses/supercrawl/lectures/53143717\" data-ss-event-name=\"Lecture: Start (Sales - PE v2)\" data-ss-event-type=\"button\" data-ss-lecture-id=\"53143717\" data-ss-school-id=\"312103\" data-ss-user-id=\"\" href=\"/courses/supercrawl/lectures/53143717\">\n",
      "<span class=\"block__curriculum__section__list__item__lecture-icon\">\n",
      "<svg alt=\"Video icon\" class=\"block__curriculum__section__list__item__lecture-icon__svg\" height=\"24\" width=\"24\">\n",
      "<use xlink:href=\"#icon__Video\"></use>\n",
      "</svg>\n",
      "</span>\n",
      "<span class=\"block__curriculum__section__list__item__lecture-name\">Selenium 실전 연습 문제와 문제 풀이1</span>\n",
      "<span class=\"block__curriculum__section__list__item__lecture-duration\">(12:15)</span>\n",
      "<button class=\"block__curriculum__section__list__item__button start\">시작하기</button>\n",
      "</a>, <a class=\"block__curriculum__section__list__item__link\" data-ss-course-id=\"2503819\" data-ss-event-href=\"/courses/supercrawl/lectures/53143710\" data-ss-event-name=\"Lecture: Start (Sales - PE v2)\" data-ss-event-type=\"button\" data-ss-lecture-id=\"53143710\" data-ss-school-id=\"312103\" data-ss-user-id=\"\" href=\"/courses/supercrawl/lectures/53143710\">\n",
      "<span class=\"block__curriculum__section__list__item__lecture-icon\">\n",
      "<svg alt=\"Video icon\" class=\"block__curriculum__section__list__item__lecture-icon__svg\" height=\"24\" width=\"24\">\n",
      "<use xlink:href=\"#icon__Video\"></use>\n",
      "</svg>\n",
      "</span>\n",
      "<span class=\"block__curriculum__section__list__item__lecture-name\">Selenium 실전 연습 문제와 문제 풀이2</span>\n",
      "<span class=\"block__curriculum__section__list__item__lecture-duration\">(7:53)</span>\n",
      "<button class=\"block__curriculum__section__list__item__button start\">시작하기</button>\n",
      "</a>, <a class=\"block__curriculum__section__list__item__link\" data-ss-course-id=\"2503819\" data-ss-event-href=\"/courses/supercrawl/lectures/53143706\" data-ss-event-name=\"Lecture: Start (Sales - PE v2)\" data-ss-event-type=\"button\" data-ss-lecture-id=\"53143706\" data-ss-school-id=\"312103\" data-ss-user-id=\"\" href=\"/courses/supercrawl/lectures/53143706\">\n",
      "<span class=\"block__curriculum__section__list__item__lecture-icon\">\n",
      "<svg alt=\"Video icon\" class=\"block__curriculum__section__list__item__lecture-icon__svg\" height=\"24\" width=\"24\">\n",
      "<use xlink:href=\"#icon__Video\"></use>\n",
      "</svg>\n",
      "</span>\n",
      "<span class=\"block__curriculum__section__list__item__lecture-name\">여러 페이지 Selenium 으로 크롤링하기</span>\n",
      "<span class=\"block__curriculum__section__list__item__lecture-duration\">(11:07)</span>\n",
      "<button class=\"block__curriculum__section__list__item__button start\">시작하기</button>\n",
      "</a>, <a class=\"block__curriculum__section__list__item__link\" data-ss-course-id=\"2503819\" data-ss-event-href=\"/courses/supercrawl/lectures/53143696\" data-ss-event-name=\"Lecture: Start (Sales - PE v2)\" data-ss-event-type=\"button\" data-ss-lecture-id=\"53143696\" data-ss-school-id=\"312103\" data-ss-user-id=\"\" href=\"/courses/supercrawl/lectures/53143696\">\n",
      "<span class=\"block__curriculum__section__list__item__lecture-icon\">\n",
      "<svg alt=\"Video icon\" class=\"block__curriculum__section__list__item__lecture-icon__svg\" height=\"24\" width=\"24\">\n",
      "<use xlink:href=\"#icon__Video\"></use>\n",
      "</svg>\n",
      "</span>\n",
      "<span class=\"block__curriculum__section__list__item__lecture-name\">Selenium 으로 이미지 크롤링을 위한 배경 지식 이해하기</span>\n",
      "<span class=\"block__curriculum__section__list__item__lecture-duration\">(10:27)</span>\n",
      "<button class=\"block__curriculum__section__list__item__button start\">시작하기</button>\n",
      "</a>, <a class=\"block__curriculum__section__list__item__link\" data-ss-course-id=\"2503819\" data-ss-event-href=\"/courses/supercrawl/lectures/53143698\" data-ss-event-name=\"Lecture: Start (Sales - PE v2)\" data-ss-event-type=\"button\" data-ss-lecture-id=\"53143698\" data-ss-school-id=\"312103\" data-ss-user-id=\"\" href=\"/courses/supercrawl/lectures/53143698\">\n",
      "<span class=\"block__curriculum__section__list__item__lecture-icon\">\n",
      "<svg alt=\"Video icon\" class=\"block__curriculum__section__list__item__lecture-icon__svg\" height=\"24\" width=\"24\">\n",
      "<use xlink:href=\"#icon__Video\"></use>\n",
      "</svg>\n",
      "</span>\n",
      "<span class=\"block__curriculum__section__list__item__lecture-name\">Selenium 으로 여러 이미지 다운로드하기</span>\n",
      "<span class=\"block__curriculum__section__list__item__lecture-duration\">(10:26)</span>\n",
      "<button class=\"block__curriculum__section__list__item__button start\">시작하기</button>\n",
      "</a>, <a class=\"block__curriculum__section__list__item__link\" data-ss-course-id=\"2503819\" data-ss-event-href=\"/courses/supercrawl/lectures/53143713\" data-ss-event-name=\"Lecture: Start (Sales - PE v2)\" data-ss-event-type=\"button\" data-ss-lecture-id=\"53143713\" data-ss-school-id=\"312103\" data-ss-user-id=\"\" href=\"/courses/supercrawl/lectures/53143713\">\n",
      "<span class=\"block__curriculum__section__list__item__lecture-icon\">\n",
      "<svg alt=\"Video icon\" class=\"block__curriculum__section__list__item__lecture-icon__svg\" height=\"24\" width=\"24\">\n",
      "<use xlink:href=\"#icon__Video\"></use>\n",
      "</svg>\n",
      "</span>\n",
      "<span class=\"block__curriculum__section__list__item__lecture-name\">은근히 보이는 XPATH 이해와 Selenium</span>\n",
      "<span class=\"block__curriculum__section__list__item__lecture-duration\">(12:39)</span>\n",
      "<button class=\"block__curriculum__section__list__item__button start\">시작하기</button>\n",
      "</a>, <a class=\"block__curriculum__section__list__item__link\" data-ss-course-id=\"2503819\" data-ss-event-href=\"/courses/supercrawl/lectures/53143719\" data-ss-event-name=\"Lecture: Start (Sales - PE v2)\" data-ss-event-type=\"button\" data-ss-lecture-id=\"53143719\" data-ss-school-id=\"312103\" data-ss-user-id=\"\" href=\"/courses/supercrawl/lectures/53143719\">\n",
      "<span class=\"block__curriculum__section__list__item__lecture-icon\">\n",
      "<svg alt=\"Video icon\" class=\"block__curriculum__section__list__item__lecture-icon__svg\" height=\"24\" width=\"24\">\n",
      "<use xlink:href=\"#icon__Video\"></use>\n",
      "</svg>\n",
      "</span>\n",
      "<span class=\"block__curriculum__section__list__item__lecture-name\">Selenium 과 XPATH 실전 문제와 문제 풀이</span>\n",
      "<span class=\"block__curriculum__section__list__item__lecture-duration\">(13:42)</span>\n",
      "<button class=\"block__curriculum__section__list__item__button start\">시작하기</button>\n",
      "</a>, <a class=\"block__curriculum__section__list__item__link\" data-ss-course-id=\"2503819\" data-ss-event-href=\"/courses/supercrawl/lectures/53143704\" data-ss-event-name=\"Lecture: Start (Sales - PE v2)\" data-ss-event-type=\"button\" data-ss-lecture-id=\"53143704\" data-ss-school-id=\"312103\" data-ss-user-id=\"\" href=\"/courses/supercrawl/lectures/53143704\">\n",
      "<span class=\"block__curriculum__section__list__item__lecture-icon\">\n",
      "<svg alt=\"Video icon\" class=\"block__curriculum__section__list__item__lecture-icon__svg\" height=\"24\" width=\"24\">\n",
      "<use xlink:href=\"#icon__Video\"></use>\n",
      "</svg>\n",
      "</span>\n",
      "<span class=\"block__curriculum__section__list__item__lecture-name\">Scrapy 란?</span>\n",
      "<span class=\"block__curriculum__section__list__item__lecture-duration\">(5:19)</span>\n",
      "<button class=\"block__curriculum__section__list__item__button start\">시작하기</button>\n",
      "</a>, <a class=\"block__curriculum__section__list__item__link\" data-ss-course-id=\"2503819\" data-ss-event-href=\"/courses/supercrawl/lectures/53143712\" data-ss-event-name=\"Lecture: Start (Sales - PE v2)\" data-ss-event-type=\"button\" data-ss-lecture-id=\"53143712\" data-ss-school-id=\"312103\" data-ss-user-id=\"\" href=\"/courses/supercrawl/lectures/53143712\">\n",
      "<span class=\"block__curriculum__section__list__item__lecture-icon\">\n",
      "<svg alt=\"Video icon\" class=\"block__curriculum__section__list__item__lecture-icon__svg\" height=\"24\" width=\"24\">\n",
      "<use xlink:href=\"#icon__Video\"></use>\n",
      "</svg>\n",
      "</span>\n",
      "<span class=\"block__curriculum__section__list__item__lecture-name\">Scrapy 코드 작성을 위한 VSCode 설치와 터미널 설정</span>\n",
      "<span class=\"block__curriculum__section__list__item__lecture-duration\">(7:36)</span>\n",
      "<button class=\"block__curriculum__section__list__item__button start\">시작하기</button>\n",
      "</a>, <a class=\"block__curriculum__section__list__item__link\" data-ss-course-id=\"2503819\" data-ss-event-href=\"/courses/supercrawl/lectures/53143720\" data-ss-event-name=\"Lecture: Start (Sales - PE v2)\" data-ss-event-type=\"button\" data-ss-lecture-id=\"53143720\" data-ss-school-id=\"312103\" data-ss-user-id=\"\" href=\"/courses/supercrawl/lectures/53143720\">\n",
      "<span class=\"block__curriculum__section__list__item__lecture-icon\">\n",
      "<svg alt=\"Video icon\" class=\"block__curriculum__section__list__item__lecture-icon__svg\" height=\"24\" width=\"24\">\n",
      "<use xlink:href=\"#icon__Video\"></use>\n",
      "</svg>\n",
      "</span>\n",
      "<span class=\"block__curriculum__section__list__item__lecture-name\">Scrapy 기본 구조 이해</span>\n",
      "<span class=\"block__curriculum__section__list__item__lecture-duration\">(13:29)</span>\n",
      "<button class=\"block__curriculum__section__list__item__button start\">시작하기</button>\n",
      "</a>, <a class=\"block__curriculum__section__list__item__link\" data-ss-course-id=\"2503819\" data-ss-event-href=\"/courses/supercrawl/lectures/53143708\" data-ss-event-name=\"Lecture: Start (Sales - PE v2)\" data-ss-event-type=\"button\" data-ss-lecture-id=\"53143708\" data-ss-school-id=\"312103\" data-ss-user-id=\"\" href=\"/courses/supercrawl/lectures/53143708\">\n",
      "<span class=\"block__curriculum__section__list__item__lecture-icon\">\n",
      "<svg alt=\"Video icon\" class=\"block__curriculum__section__list__item__lecture-icon__svg\" height=\"24\" width=\"24\">\n",
      "<use xlink:href=\"#icon__Video\"></use>\n",
      "</svg>\n",
      "</span>\n",
      "<span class=\"block__curriculum__section__list__item__lecture-name\">Scrapy Parse 작성법</span>\n",
      "<span class=\"block__curriculum__section__list__item__lecture-duration\">(13:22)</span>\n",
      "<button class=\"block__curriculum__section__list__item__button start\">시작하기</button>\n",
      "</a>, <a class=\"block__curriculum__section__list__item__link\" data-ss-course-id=\"2503819\" data-ss-event-href=\"/courses/supercrawl/lectures/53143721\" data-ss-event-name=\"Lecture: Start (Sales - PE v2)\" data-ss-event-type=\"button\" data-ss-lecture-id=\"53143721\" data-ss-school-id=\"312103\" data-ss-user-id=\"\" href=\"/courses/supercrawl/lectures/53143721\">\n",
      "<span class=\"block__curriculum__section__list__item__lecture-icon\">\n",
      "<svg alt=\"Video icon\" class=\"block__curriculum__section__list__item__lecture-icon__svg\" height=\"24\" width=\"24\">\n",
      "<use xlink:href=\"#icon__Video\"></use>\n",
      "</svg>\n",
      "</span>\n",
      "<span class=\"block__curriculum__section__list__item__lecture-name\">Scrapy Items 작성법</span>\n",
      "<span class=\"block__curriculum__section__list__item__lecture-duration\">(7:53)</span>\n",
      "<button class=\"block__curriculum__section__list__item__button start\">시작하기</button>\n",
      "</a>, <a class=\"block__curriculum__section__list__item__link\" data-ss-course-id=\"2503819\" data-ss-event-href=\"/courses/supercrawl/lectures/53143701\" data-ss-event-name=\"Lecture: Start (Sales - PE v2)\" data-ss-event-type=\"button\" data-ss-lecture-id=\"53143701\" data-ss-school-id=\"312103\" data-ss-user-id=\"\" href=\"/courses/supercrawl/lectures/53143701\">\n",
      "<span class=\"block__curriculum__section__list__item__lecture-icon\">\n",
      "<svg alt=\"Video icon\" class=\"block__curriculum__section__list__item__lecture-icon__svg\" height=\"24\" width=\"24\">\n",
      "<use xlink:href=\"#icon__Video\"></use>\n",
      "</svg>\n",
      "</span>\n",
      "<span class=\"block__curriculum__section__list__item__lecture-name\">Scrapy Pipelines 작성법</span>\n",
      "<span class=\"block__curriculum__section__list__item__lecture-duration\">(15:42)</span>\n",
      "<button class=\"block__curriculum__section__list__item__button start\">시작하기</button>\n",
      "</a>, <a class=\"block__curriculum__section__list__item__link\" data-ss-course-id=\"2503819\" data-ss-event-href=\"/courses/supercrawl/lectures/53143693\" data-ss-event-name=\"Lecture: Start (Sales - PE v2)\" data-ss-event-type=\"button\" data-ss-lecture-id=\"53143693\" data-ss-school-id=\"312103\" data-ss-user-id=\"\" href=\"/courses/supercrawl/lectures/53143693\">\n",
      "<span class=\"block__curriculum__section__list__item__lecture-icon\">\n",
      "<svg alt=\"Video icon\" class=\"block__curriculum__section__list__item__lecture-icon__svg\" height=\"24\" width=\"24\">\n",
      "<use xlink:href=\"#icon__Video\"></use>\n",
      "</svg>\n",
      "</span>\n",
      "<span class=\"block__curriculum__section__list__item__lecture-name\">Scrapy 실전 크롤링 프로젝트 실습</span>\n",
      "<span class=\"block__curriculum__section__list__item__lecture-duration\">(12:58)</span>\n",
      "<button class=\"block__curriculum__section__list__item__button start\">시작하기</button>\n",
      "</a>, <a class=\"block__curriculum__section__list__item__link\" data-ss-course-id=\"2503819\" data-ss-event-href=\"/courses/supercrawl/lectures/53143715\" data-ss-event-name=\"Lecture: Start (Sales - PE v2)\" data-ss-event-type=\"button\" data-ss-lecture-id=\"53143715\" data-ss-school-id=\"312103\" data-ss-user-id=\"\" href=\"/courses/supercrawl/lectures/53143715\">\n",
      "<span class=\"block__curriculum__section__list__item__lecture-icon\">\n",
      "<svg alt=\"Video icon\" class=\"block__curriculum__section__list__item__lecture-icon__svg\" height=\"24\" width=\"24\">\n",
      "<use xlink:href=\"#icon__Video\"></use>\n",
      "</svg>\n",
      "</span>\n",
      "<span class=\"block__curriculum__section__list__item__lecture-name\">Scrapy 로 여러 페이지/URL 크롤링 기법과 GENERATOR 이해</span>\n",
      "<span class=\"block__curriculum__section__list__item__lecture-duration\">(10:03)</span>\n",
      "<button class=\"block__curriculum__section__list__item__button start\">시작하기</button>\n",
      "</a>, <a class=\"block__curriculum__section__list__item__link\" data-ss-course-id=\"2503819\" data-ss-event-href=\"/courses/supercrawl/lectures/53143705\" data-ss-event-name=\"Lecture: Start (Sales - PE v2)\" data-ss-event-type=\"button\" data-ss-lecture-id=\"53143705\" data-ss-school-id=\"312103\" data-ss-user-id=\"\" href=\"/courses/supercrawl/lectures/53143705\">\n",
      "<span class=\"block__curriculum__section__list__item__lecture-icon\">\n",
      "<svg alt=\"Video icon\" class=\"block__curriculum__section__list__item__lecture-icon__svg\" height=\"24\" width=\"24\">\n",
      "<use xlink:href=\"#icon__Video\"></use>\n",
      "</svg>\n",
      "</span>\n",
      "<span class=\"block__curriculum__section__list__item__lecture-name\">Scrapy 로 여러 페이지/URL 크롤링 프로젝트 실습</span>\n",
      "<span class=\"block__curriculum__section__list__item__lecture-duration\">(12:30)</span>\n",
      "<button class=\"block__curriculum__section__list__item__button start\">시작하기</button>\n",
      "</a>, <a class=\"block__curriculum__section__list__item__link\" data-ss-course-id=\"2503819\" data-ss-event-href=\"/courses/supercrawl/lectures/53143699\" data-ss-event-name=\"Lecture: Start (Sales - PE v2)\" data-ss-event-type=\"button\" data-ss-lecture-id=\"53143699\" data-ss-school-id=\"312103\" data-ss-user-id=\"\" href=\"/courses/supercrawl/lectures/53143699\">\n",
      "<span class=\"block__curriculum__section__list__item__lecture-icon\">\n",
      "<svg alt=\"Video icon\" class=\"block__curriculum__section__list__item__lecture-icon__svg\" height=\"24\" width=\"24\">\n",
      "<use xlink:href=\"#icon__Video\"></use>\n",
      "</svg>\n",
      "</span>\n",
      "<span class=\"block__curriculum__section__list__item__lecture-name\">Scrapy 기반 Selenium 으로 동적 페이지 크롤링 이해와 실습</span>\n",
      "<span class=\"block__curriculum__section__list__item__lecture-duration\">(7:48)</span>\n",
      "<button class=\"block__curriculum__section__list__item__button start\">시작하기</button>\n",
      "</a>, <a class=\"block__curriculum__section__list__item__link\" data-ss-course-id=\"2503819\" data-ss-event-href=\"/courses/supercrawl/lectures/53143692\" data-ss-event-name=\"Lecture: Start (Sales - PE v2)\" data-ss-event-type=\"button\" data-ss-lecture-id=\"53143692\" data-ss-school-id=\"312103\" data-ss-user-id=\"\" href=\"/courses/supercrawl/lectures/53143692\">\n",
      "<span class=\"block__curriculum__section__list__item__lecture-icon\">\n",
      "<svg alt=\"Video icon\" class=\"block__curriculum__section__list__item__lecture-icon__svg\" height=\"24\" width=\"24\">\n",
      "<use xlink:href=\"#icon__Video\"></use>\n",
      "</svg>\n",
      "</span>\n",
      "<span class=\"block__curriculum__section__list__item__lecture-name\">Scrapy Shell 이해와 활용</span>\n",
      "<span class=\"block__curriculum__section__list__item__lecture-duration\">(12:30)</span>\n",
      "<button class=\"block__curriculum__section__list__item__button start\">시작하기</button>\n",
      "</a>, <a class=\"block__curriculum__section__list__item__link\" data-ss-course-id=\"2503819\" data-ss-event-href=\"/courses/supercrawl/lectures/53143709\" data-ss-event-name=\"Lecture: Start (Sales - PE v2)\" data-ss-event-type=\"button\" data-ss-lecture-id=\"53143709\" data-ss-school-id=\"312103\" data-ss-user-id=\"\" href=\"/courses/supercrawl/lectures/53143709\">\n",
      "<span class=\"block__curriculum__section__list__item__lecture-icon\">\n",
      "<svg alt=\"Video icon\" class=\"block__curriculum__section__list__item__lecture-icon__svg\" height=\"24\" width=\"24\">\n",
      "<use xlink:href=\"#icon__Video\"></use>\n",
      "</svg>\n",
      "</span>\n",
      "<span class=\"block__curriculum__section__list__item__lecture-name\">Scrapy 기반 실전 크롤링 프로젝트 실습</span>\n",
      "<span class=\"block__curriculum__section__list__item__lecture-duration\">(22:54)</span>\n",
      "<button class=\"block__curriculum__section__list__item__button start\">시작하기</button>\n",
      "</a>, <a class=\"block__curriculum__section__list__item__link\" data-ss-course-id=\"2503819\" data-ss-event-href=\"/courses/supercrawl/lectures/53143691\" data-ss-event-name=\"Lecture: Start (Sales - PE v2)\" data-ss-event-type=\"button\" data-ss-lecture-id=\"53143691\" data-ss-school-id=\"312103\" data-ss-user-id=\"\" href=\"/courses/supercrawl/lectures/53143691\">\n",
      "<span class=\"block__curriculum__section__list__item__lecture-icon\">\n",
      "<svg alt=\"Video icon\" class=\"block__curriculum__section__list__item__lecture-icon__svg\" height=\"24\" width=\"24\">\n",
      "<use xlink:href=\"#icon__Video\"></use>\n",
      "</svg>\n",
      "</span>\n",
      "<span class=\"block__curriculum__section__list__item__lecture-name\">강의 정리 및 향후 학습 로드맵과 팁</span>\n",
      "<span class=\"block__curriculum__section__list__item__lecture-duration\">(11:06)</span>\n",
      "<button class=\"block__curriculum__section__list__item__button start\">시작하기</button>\n",
      "</a>]\n"
     ]
    }
   ],
   "source": [
    "import requests\n",
    "from bs4 import BeautifulSoup\n",
    "res = requests.get('https://school.fun-coding.org/p/supercrawl')\n",
    "soup = BeautifulSoup(res.content,'html.parser')\n",
    "\n",
    "\n",
    "items = soup.select('a.block__curriculum__section__list__item__link') ## select는 리턴값이 리스트\n",
    "print(items)\n",
    "product_item = []\n",
    "\n",
    "\n",
    "\n",
    "for i in items:\n",
    "    if i.select_one('.block__curriculum__section__list__item__lecture-duration') == None: ##select_one은 리스트가 아닌 하나의 데이터\n",
    "        product_name = i.select_one('span.block__curriculum__section__list__item__lecture-name')\n",
    "        duration = '0:00'\n",
    "        info = [product_name.get_text(), duration]\n",
    "        \n",
    "    else:\n",
    "        product_name = i.select_one('span.block__curriculum__section__list__item__lecture-name')\n",
    "        duration = i.select_one('.block__curriculum__section__list__item__lecture-duration').get_text().strip('(').strip(')')\n",
    "        info = [product_name.get_text(), duration]\n",
    "        \n",
    "    product_item.append(info)\n",
    "\n",
    "\n"
   ]
  },
  {
   "cell_type": "code",
   "execution_count": null,
   "id": "979418e0",
   "metadata": {},
   "outputs": [],
   "source": [
    "write_excel_template('tmp.xlsx', '상품정보', product_lists)"
   ]
  },
  {
   "cell_type": "code",
   "execution_count": 191,
   "id": "25d2bb6b",
   "metadata": {},
   "outputs": [],
   "source": [
    "write_xl('IT_class_1.xlsx','',product_item)"
   ]
  },
  {
   "cell_type": "code",
   "execution_count": 192,
   "id": "8348fc9f",
   "metadata": {},
   "outputs": [
    {
     "name": "stdout",
     "output_type": "stream",
     "text": [
      "현존 최강 파이썬 크롤링 강의 소개 4:32\n",
      "만족도와 학습효과를 높이는 팁 (꼭 들어주세요) 18:12\n",
      "아나콘다 설치와 터미널 환경 이해 4:11\n",
      "아나콘다 설치와 터미널 환경 설정 (맥 환경) 11:49\n",
      "아나콘다 설치와 터미널 환경 설정 (윈도우 환경) 13:02\n",
      "수업자료 다운로드 0:00\n",
      "주피터 노트북 사용법 17:08\n",
      "Selenium 이란? 7:40\n",
      "Selenium 설치 (맥/윈도우 모두) 10:19\n",
      "Selenium 기본 코드 11:23\n",
      "Selenium 기반 기본 크롤링 기법 12:14\n",
      "Headless Chrome 과 Selenium 11:49\n",
      "Selenium 실전 연습 문제와 문제 풀이1 12:15\n",
      "Selenium 실전 연습 문제와 문제 풀이2 7:53\n",
      "여러 페이지 Selenium 으로 크롤링하기 11:07\n",
      "Selenium 으로 이미지 크롤링을 위한 배경 지식 이해하기 10:27\n",
      "Selenium 으로 여러 이미지 다운로드하기 10:26\n",
      "은근히 보이는 XPATH 이해와 Selenium 12:39\n",
      "Selenium 과 XPATH 실전 문제와 문제 풀이 13:42\n",
      "Scrapy 란? 5:19\n",
      "Scrapy 코드 작성을 위한 VSCode 설치와 터미널 설정 7:36\n",
      "Scrapy 기본 구조 이해 13:29\n",
      "Scrapy Parse 작성법 13:22\n",
      "Scrapy Items 작성법 7:53\n",
      "Scrapy Pipelines 작성법 15:42\n",
      "Scrapy 실전 크롤링 프로젝트 실습 12:58\n",
      "Scrapy 로 여러 페이지/URL 크롤링 기법과 GENERATOR 이해 10:03\n",
      "Scrapy 로 여러 페이지/URL 크롤링 프로젝트 실습 12:30\n",
      "Scrapy 기반 Selenium 으로 동적 페이지 크롤링 이해와 실습 7:48\n",
      "Scrapy Shell 이해와 활용 12:30\n",
      "Scrapy 기반 실전 크롤링 프로젝트 실습 22:54\n",
      "강의 정리 및 향후 학습 로드맵과 팁 11:06\n"
     ]
    }
   ],
   "source": [
    "import openpyxl\n",
    "\n",
    "excel_file = openpyxl.load_workbook('IT_class.xlsx')\n",
    "excel_sheet = excel_file.active\n",
    "\n",
    "\n",
    "for row in excel_sheet.rows:\n",
    "    print(row[0].value, row[1].value)\n",
    "\n",
    "excel_file.close()"
   ]
  },
  {
   "cell_type": "code",
   "execution_count": 193,
   "id": "6a0a17aa",
   "metadata": {},
   "outputs": [],
   "source": [
    "# 기존 파일 불러오기\n",
    "excel_file = openpyxl.load_workbook('IT_class.xlsx')\n",
    "\n",
    "# 새 시트 생성하기\n",
    "new_sheet = excel_file.create_sheet(title='New Sheet')\n",
    "\n",
    "# 새 시트에 데이터 추가하기 (예시)\n",
    "new_sheet.append(['새 데이터1', '새 데이터2', '새 데이터3'])\n",
    "\n",
    "# 변경사항을 파일에 저장하기\n",
    "excel_file.save('IT_class.xlsx')\n",
    "\n",
    "# 파일 닫기\n",
    "excel_file.close()"
   ]
  },
  {
   "cell_type": "code",
   "execution_count": 207,
   "id": "3bdb8d37",
   "metadata": {},
   "outputs": [
    {
     "name": "stdout",
     "output_type": "stream",
     "text": [
      "3 5\n"
     ]
    }
   ],
   "source": [
    "p1 = [[1,2],[3,4],[5,6]]\n",
    "print(p1[1][0],p1[2][0])\n"
   ]
  },
  {
   "cell_type": "code",
   "execution_count": null,
   "id": "9c06f67a",
   "metadata": {},
   "outputs": [],
   "source": []
  },
  {
   "cell_type": "markdown",
   "id": "f79bd758",
   "metadata": {},
   "source": [
    "# Json data "
   ]
  },
  {
   "cell_type": "code",
   "execution_count": 220,
   "id": "e69977a9",
   "metadata": {},
   "outputs": [
    {
     "name": "stdout",
     "output_type": "stream",
     "text": [
      "{'title': 'KT, 스마트폰 업무 앱 제어 플랫폼 개발 구글 인증 안드로이드 솔루션 목록 등...', 'originallink': 'http://www.econonews.co.kr/news/articleView.html?idxno=334992', 'link': 'http://www.econonews.co.kr/news/articleView.html?idxno=334992', 'description': \"구글 <b>Android</b> Enterprise Solutions Directory 사이트에 등재된 KT 솔루션 소개 KT는 B2B 고객을 위해 기업 정책에 따라 임직원의 스마트폰 단말을 제어할 수 있는 '스마트폰 업무 앱 제어 플랫폼' 개발을 완료했다고 17일 밝혔다.... \", 'pubDate': 'Wed, 17 Apr 2024 19:34:00 +0900'}\n"
     ]
    }
   ],
   "source": [
    "import json\n",
    "\n",
    "data = \"\"\"\n",
    "{\n",
    "    \"lastBuildDate\": \"Thu, 18 Apr 2024 02:13:31 +0900\",\n",
    "    \"total\": 30648a,\n",
    "    \"start\": 1,\n",
    "    \"display\": 10,\n",
    "    \"items\": [\n",
    "        {\n",
    "            \"title\": \"KT, 스마트폰 업무 앱 제어 플랫폼 개발 구글 인증 안드로이드 솔루션 목록 등...\",\n",
    "            \"originallink\": \"http://www.econonews.co.kr/news/articleView.html?idxno=334992\",\n",
    "            \"link\": \"http://www.econonews.co.kr/news/articleView.html?idxno=334992\",\n",
    "            \"description\": \"구글 <b>Android</b> Enterprise Solutions Directory 사이트에 등재된 KT 솔루션 소개 KT는 B2B 고객을 위해 기업 정책에 따라 임직원의 스마트폰 단말을 제어할 수 있는 '스마트폰 업무 앱 제어 플랫폼' 개발을 완료했다고 17일 밝혔다.... \",\n",
    "            \"pubDate\": \"Wed, 17 Apr 2024 19:34:00 +0900\"\n",
    "        },\n",
    "        {\n",
    "            \"title\": \"대웅제약, 나보타 출시 10주년 기념 심포지엄 개최 外\",\n",
    "            \"originallink\": \"http://www.newsmp.com/news/articleView.html?idxno=240422\",\n",
    "            \"link\": \"http://www.newsmp.com/news/articleView.html?idxno=240422\",\n",
    "            \"description\": \"감소, <b>Android</b> 영역 체지방량 감소까지 확인했다. 유한양행은 2015년 ''유렉스(UREX)&quot; 프로바이오틱스인 '엘레나'의 성공적인 정착에 이어 국내 최초 혈당 유산균 '당큐락'의 성공적인 출시까지 프로바이오틱스 라인업을... \",\n",
    "            \"pubDate\": \"Wed, 17 Apr 2024 18:52:00 +0900\"\n",
    "        },\n",
    "        {\n",
    "            \"title\": \"유한양행, 비피더스 다이어트 유산균 '엘레씬' 출시\",\n",
    "            \"originallink\": \"https://www.econovill.com/news/articleView.html?idxno=652366\",\n",
    "            \"link\": \"https://www.econovill.com/news/articleView.html?idxno=652366\",\n",
    "            \"description\": \"감소, <b>Android</b> 영역 체지방량 감소까지 확인하였다. 유한양행은 2015년 ''유렉스(UREX)&quot; 프로바이오틱스인 '엘레나'의 성공적인 정착에 이어 국내 최초 혈당 유산균 '당큐락'의 성공적인 출시까지 프로바이오틱스... \",\n",
    "            \"pubDate\": \"Wed, 17 Apr 2024 18:32:00 +0900\"\n",
    "        },\n",
    "        {\n",
    "            \"title\": \"POC 주최 제 8회 제로콘, 20개국 200명 이상 버그헌터, 취약점 분석가 참석.....\",\n",
    "            \"originallink\": \"https://www.dailysecu.com/news/articleView.html?idxno=155225\",\n",
    "            \"link\": \"https://www.dailysecu.com/news/articleView.html?idxno=155225\",\n",
    "            \"description\": \"실제 발표는 Georgi Geshev &amp; Joffrey Guilbon가 맡아 진행하였으며, &quot;Beyond <b>Android</b> MTE: Navigating OEM's Logic... 마지막 발표로 CertiK 연구원 Juntao Wu(@Dawuge3)의 &quot;A Deep Dive in <b>Android</b> closed-source ROMs&quot;가 이어졌다. 그는... \",\n",
    "            \"pubDate\": \"Wed, 17 Apr 2024 18:22:00 +0900\"\n",
    "        },\n",
    "        {\n",
    "            \"title\": \"유한양행, 비피더스 다이어트 유산균 '엘레씬' 출시\",\n",
    "            \"originallink\": \"https://www.rapportian.com/news/articleView.html?idxno=205873\",\n",
    "            \"link\": \"https://www.rapportian.com/news/articleView.html?idxno=205873\",\n",
    "            \"description\": \"감소, <b>Android</b> 영역 체지방량 감소까지 확인했다. 유한양행은 2015년 유렉스 프로바이오틱스인 '엘레나'의 성공적인 정착에 이어 국내 최초 혈당 유산균 '당큐락'의 성공적인 출시까지 프로바이오틱스 라인업을 견고히... \",\n",
    "            \"pubDate\": \"Wed, 17 Apr 2024 18:18:00 +0900\"\n",
    "        },\n",
    "        {\n",
    "            \"title\": \"유한양행, 국내 최초로 비피더스 다이어트 유산균 '엘레씬' 선보여\",\n",
    "            \"originallink\": \"https://www.newsquest.co.kr/news/articleView.html?idxno=221866\",\n",
    "            \"link\": \"https://www.newsquest.co.kr/news/articleView.html?idxno=221866\",\n",
    "            \"description\": \"체중 감소, 체지방량 감소, 허리둘레 감소, 엉덩이둘레 감소, BMI 감소는 물론이고, 나잇살·군살의 Trunk영역 체지방량 감소·<b>Android</b> 영역 체지방량 감소까지 효과가 있다는 것이다. 유한양행은 2015년 유렉스(UREX)... \",\n",
    "            \"pubDate\": \"Wed, 17 Apr 2024 18:10:00 +0900\"\n",
    "        },\n",
    "        {\n",
    "            \"title\": \"The Basics of Smartphone Backups\",\n",
    "            \"originallink\": \"https://www.nytimes.com/2024/04/17/technology/personaltech/smartphone-iphone-backup.html?partner=naver\",\n",
    "            \"link\": \"https://www.nytimes.com/2024/04/17/technology/personaltech/smartphone-iphone-backup.html?partner=naver\",\n",
    "            \"description\": \"For example, this would be the Apple ID on your iPhone, the Google Account on your <b>Android</b> phone... On many <b>Android</b> phones, tap System and then Backup. Here, you set the phone to back up... \",\n",
    "            \"pubDate\": \"Wed, 17 Apr 2024 18:04:00 +0900\"\n",
    "        },\n",
    "        {\n",
    "            \"title\": \"유한양행, 비피더스 다이어트 유산균 ‘엘레씬’ 출시\",\n",
    "            \"originallink\": \"http://www.beyondpost.co.kr/view.php?ud=202404171746283212d2326fc69c_30\",\n",
    "            \"link\": \"http://www.beyondpost.co.kr/view.php?ud=202404171746283212d2326fc69c_30\",\n",
    "            \"description\": \"감소, <b>Android</b> 영역 체지방량 감소까지 확인했다. 이번에 국내 최초 비피더스 다이어트 유산균인엘레씬을 출시함으로써 건강에 관심있는 많은 소비자들에게 장 건강은 물론 개별 건강 고민 해결을 위한 새로운... \",\n",
    "            \"pubDate\": \"Wed, 17 Apr 2024 17:48:00 +0900\"\n",
    "        },\n",
    "        {\n",
    "            \"title\": \"유한양행, 국내 첫 비피더스 다이어트 유산균 '엘레씬' 출시\",\n",
    "            \"originallink\": \"http://www.bizwnews.com/news/articleView.html?idxno=80863\",\n",
    "            \"link\": \"http://www.bizwnews.com/news/articleView.html?idxno=80863\",\n",
    "            \"description\": \"감소, <b>Android</b> 영역 체지방량 감소까지 확인했다는 게 사측의 설명이다. 아울러 유한양행은 이번 엘레씬 출시를 통해 건강에 관심있는 많은 소비자들에게 장 건강은 물론 개별 건강 고민 해결을 위한 새로운 제품을... \",\n",
    "            \"pubDate\": \"Wed, 17 Apr 2024 17:42:00 +0900\"\n",
    "        },\n",
    "        {\n",
    "            \"title\": \"[4월17일 PM] 제약바이오 소식\",\n",
    "            \"originallink\": \"http://www.medicopharma.co.kr/news/articleView.html?idxno=62023\",\n",
    "            \"link\": \"http://www.medicopharma.co.kr/news/articleView.html?idxno=62023\",\n",
    "            \"description\": \"감소, <b>Android</b> 영역 체지방량 감소까지 확인했다. 유한양행은 2015년 유렉스(UREX) 프로바이오틱스인 '엘레나'의 성공적인 정착에 이어 국내 첫 혈당 유산균 '당큐락'의 성공적인 출시까지 프로바이오틱스 라인업을 견고히... \",\n",
    "            \"pubDate\": \"Wed, 17 Apr 2024 17:40:00 +0900\"\n",
    "        }\n",
    "    ]\n",
    "}\n",
    "\"\"\"\n",
    "\n",
    "json_data = json.loads(data)\n",
    "print(json_data['items'][0])\n"
   ]
  },
  {
   "cell_type": "markdown",
   "id": "03544ea9",
   "metadata": {},
   "source": [
    "# Naver crawling"
   ]
  },
  {
   "cell_type": "code",
   "execution_count": 231,
   "id": "dfc5a372",
   "metadata": {},
   "outputs": [
    {
     "name": "stdout",
     "output_type": "stream",
     "text": [
      "[{'description': '올해 초 출시된 <b>갤럭시</b> S24 시리즈처럼 기기 자체에서 AI를 구동하는 ‘온디바이스 AI’ '\n",
      "                 '시장이 빠르게 확대되고 있어 저전력·고성능의 LPDDR의 역할이 중요해졌다. 네트워크 연결 없이 AI가 기기 '\n",
      "                 '단말에서 정보... ',\n",
      "  'link': 'https://n.news.naver.com/mnews/article/025/0003354835?sid=101',\n",
      "  'originallink': 'https://www.joongang.co.kr/article/25243319',\n",
      "  'pubDate': 'Thu, 18 Apr 2024 00:11:00 +0900',\n",
      "  'title': '삼성전자, 업계 최고속도 모바일용 D램 공개'},\n",
      " {'description': \"WIS, 17~19일 사흘 간 개최 삼성·LG, '<b>갤럭시</b>AI'·공감지능 각각 강조 SKT·KT, \"\n",
      "                 \"통신사 넘어 AI 기업으로 '전환... 삼성전자는 지난 1월 출시한 AI 스마트폰 \"\n",
      "                 \"'<b>갤럭시</b>S24' 시리즈를 중심으로 전시관을 구성했다. 삼성전자는 도시... \",\n",
      "  'link': 'https://n.news.naver.com/mnews/article/629/0000281811?sid=105',\n",
      "  'originallink': 'http://news.tf.co.kr/read/economy/2091841.htm',\n",
      "  'pubDate': 'Thu, 18 Apr 2024 00:01:00 +0900',\n",
      "  'title': '&quot;일상 속 AI&quot;…삼성·LG·SKT·KT·카카오, WIS 2024서 혁신 경쟁'},\n",
      " {'description': \"참가해 '<b>갤럭시</b> AI'로 달라진 일상을 선보인다. 삼성전자는 도시 광장 콘셉트로 전시관을 \"\n",
      "                 \"마련하고, '<b>갤럭시</b> S24 시리즈'의 ▲실시간 통역 ▲서클 투 서치 ▲생성형 편집 등 \"\n",
      "                 \"'<b>갤럭시</b> AI' 기능을 일상공간에서 자연스럽게... \",\n",
      "  'link': 'http://www.biztribune.co.kr/news/articleView.html?idxno=309621',\n",
      "  'originallink': 'http://www.biztribune.co.kr/news/articleView.html?idxno=309621',\n",
      "  'pubDate': 'Wed, 17 Apr 2024 21:58:00 +0900',\n",
      "  'title': \"삼성전자, '2024 월드IT쇼'서 일상 속에 스며든 '<b>갤럭시</b> AI' 라이프 선보여\"},\n",
      " {'description': '애플의 아이폰은 올 1분기 판매가 전년동기보다 10% 감소하면서 삼성의 <b>갤럭시</b>에 밀려 세계 시장 '\n",
      "                 '점유율 17.3%로 2위로 떨어졌다. 중국에서는 샤오미와 화웨이 등에 바짝 추격당하고 있다.',\n",
      "  'link': 'https://n.news.naver.com/mnews/article/015/0004974190?sid=101',\n",
      "  'originallink': 'https://www.hankyung.com/article/202404178449i',\n",
      "  'pubDate': 'Wed, 17 Apr 2024 21:05:00 +0900',\n",
      "  'title': '애플, 인도·베트남 생산 확대 이어 &quot;인도네시아 제조도 검토&quot;'},\n",
      " {'description': \"삼성전자가 17일부터 19일까지 서울 삼성동 코엑스에서 진행되는 '2024 월드IT 쇼'에 참가해 \"\n",
      "                 \"'<b>갤럭시</b> AI'로 달라진 일상을 선보인다. '<b>갤럭시</b>S24' 시리즈의 실시간 통역, \"\n",
      "                 \"서클 투 서치, 생성형 편집 등 '<b>갤럭시</b> AI' 기능과... \",\n",
      "  'link': 'https://www.gpkorea.com/news/articleView.html?idxno=112751',\n",
      "  'originallink': 'https://www.gpkorea.com/news/articleView.html?idxno=112751',\n",
      "  'pubDate': 'Wed, 17 Apr 2024 20:16:00 +0900',\n",
      "  'title': \"삼성전자, `월드IT쇼' 참가…일상 스며든 '<b>갤럭시</b> AI' 라이프 선봬\"},\n",
      " {'description': \"대표적으로 올해 3회를 맞은 '(삼성전자)<b>갤럭시</b>로 보는 세상, 포토콘테스트'와 2회를 맞는 \"\n",
      "                 \"'LG 영상 공모전', 올해 새롭게 시작하는 'SK실트론과 함께하는 진로체험 반도체 스쿨'이 있다.컴퓨터 \"\n",
      "                 '응용가공 분야 대한민국... ',\n",
      "  'link': 'https://www.yeongnam.com/web/view.php?key=20240416010002319',\n",
      "  'originallink': 'https://www.yeongnam.com/web/view.php?key=20240416010002319',\n",
      "  'pubDate': 'Wed, 17 Apr 2024 20:08:00 +0900',\n",
      "  'title': \"윤재호 구미상의 회장, 구미산단 출근길 '천원의 아침밥' 나눠\"},\n",
      " {'description': '삼성 <b>갤럭시</b> 신화의 주인공, 삼성전자 사장 출신의 고동진 국민의힘 당선인이 여권을 향해 오늘 '\n",
      "                 '이런 쓴소리를 했습니다. &quot;삼성이었다면 벌써 TF를 만들어서 움직이고 있을 거&quot;라고요. '\n",
      "                 '국정과 민생을 책임지는 게 대통령과... ',\n",
      "  'link': 'https://n.news.naver.com/mnews/article/449/0000272961?sid=100',\n",
      "  'originallink': 'https://www.ichannela.com/news/main/news_detailPage.do?publishId=000000404904',\n",
      "  'pubDate': 'Wed, 17 Apr 2024 20:01:00 +0900',\n",
      "  'title': '[앵커의 마침표]민생 피해주는 일 없어야'},\n",
      " {'description': '“건강했던 아이가 삼성전자 휴대폰 조립 일을 하다 왜 이런 암에 걸려야 하나요.” 삼성전자 1차 하청업체에서 '\n",
      "                 '일하다 백혈병에 걸려 투병 중인 김수현(가명·21)씨 어머니는 17일 서울 서초구 삼성전자 사옥 앞에서 '\n",
      "                 '열린... ',\n",
      "  'link': 'https://n.news.naver.com/mnews/article/028/0002685843?sid=102',\n",
      "  'originallink': 'https://www.hani.co.kr/arti/society/labor/1137070.html',\n",
      "  'pubDate': 'Wed, 17 Apr 2024 19:59:00 +0900',\n",
      "  'title': '‘<b>갤럭시</b>’ 조립하다 백혈병 걸린 21살 노동자…“원청 삼성전자 책임져야”'},\n",
      " {'description': \"참가해 '<b>갤럭시</b> AI'로 달라진 일상을 선보인다고 밝혔다. 삼성전자는 도시 광장 콘셉트로 \"\n",
      "                 \"전시관을 마련하고, '<b>갤럭시</b> S24 시리즈'의 실시간 통역, 서클 투 서치, 생성형 편집 등 \"\n",
      "                 \"'<b>갤럭시</b> AI' 기능을 일상공간에서... \",\n",
      "  'link': 'http://www.efnews.co.kr/news/articleView.html?idxno=111321',\n",
      "  'originallink': 'http://www.efnews.co.kr/news/articleView.html?idxno=111321',\n",
      "  'pubDate': 'Wed, 17 Apr 2024 19:56:00 +0900',\n",
      "  'title': \"[WIS 2024] 삼성전자, 일상 속에 스며든 '<b>갤럭시</b> AI 라이프' 선보여\"},\n",
      " {'description': '최신 기종의 기본 모델 기준 ‘애플워치 9’은 59만9000원, ‘<b>갤럭시</b> 워치 6’는 '\n",
      "                 '32만9000원이다. 17일... 살제로 삼성전자는 새로운 스마트 기기인 스마트 링 ‘<b>갤럭시</b> '\n",
      "                 '링’을 올해 말 출시할 예정이다. 주로 수면 정보를... ',\n",
      "  'link': 'https://n.news.naver.com/mnews/article/016/0002296420?sid=105',\n",
      "  'originallink': 'http://news.heraldcorp.com/view.php?ud=20240417050739',\n",
      "  'pubDate': 'Wed, 17 Apr 2024 19:52:00 +0900',\n",
      "  'title': '“60만원 애플워치 샀는데, 팔찌로 써요&quot; 생각보다 쓸모 없다?…판매 ‘확’ ...'}]\n"
     ]
    }
   ],
   "source": [
    "import requests\n",
    "import json\n",
    "import pprint ##json 구조 파악하기 좋게\n",
    "\n",
    "client_id = '6bRUydDJgys94hN510xI'\n",
    "client_secret = '5oCJwHbSS5'\n",
    "\n",
    "naver_api = 'https://openapi.naver.com/v1/search/news.json?query=갤럭시'\n",
    "header_params = {'X-Naver-Client-Id': client_id, 'X-Naver-Client-Secret': client_secret}\n",
    "\n",
    "res = requests.get(naver_api, headers = header_params)\n",
    "\n",
    "## print(res.text) ## json 형식으로 출력해줌\n",
    "\n",
    "if res.status_code == 200:\n",
    "    data = res.json()\n",
    "    pprint.pprint(data['items'])\n",
    "    \n",
    "    \n",
    "else:\n",
    "    print (\"Error code\", res.status_code)"
   ]
  },
  {
   "cell_type": "code",
   "execution_count": 248,
   "id": "43be5e52",
   "metadata": {},
   "outputs": [
    {
     "name": "stdout",
     "output_type": "stream",
     "text": [
      "1 삼성전자, 업계 최고속도 모바일용 D램 공개 ,  https://n.news.naver.com/mnews/article/025/0003354835?sid=101 \n",
      "\n",
      "2 &quot;일상 속 AI&quot;…삼성·LG·SKT·KT·카카오, WIS 2024서 혁신 경쟁 ,  https://n.news.naver.com/mnews/article/629/0000281811?sid=105 \n",
      "\n",
      "3 삼성전자, '2024 월드IT쇼'서 일상 속에 스며든 '<b>갤럭시</b> AI' 라이프 선보여 ,  http://www.biztribune.co.kr/news/articleView.html?idxno=309621 \n",
      "\n",
      "4 애플, 인도·베트남 생산 확대 이어 &quot;인도네시아 제조도 검토&quot; ,  https://n.news.naver.com/mnews/article/015/0004974190?sid=101 \n",
      "\n",
      "5 삼성전자, `월드IT쇼' 참가…일상 스며든 '<b>갤럭시</b> AI' 라이프 선봬 ,  https://www.gpkorea.com/news/articleView.html?idxno=112751 \n",
      "\n",
      "6 윤재호 구미상의 회장, 구미산단 출근길 '천원의 아침밥' 나눠 ,  https://www.yeongnam.com/web/view.php?key=20240416010002319 \n",
      "\n",
      "7 [앵커의 마침표]민생 피해주는 일 없어야 ,  https://n.news.naver.com/mnews/article/449/0000272961?sid=100 \n",
      "\n",
      "8 ‘<b>갤럭시</b>’ 조립하다 백혈병 걸린 21살 노동자…“원청 삼성전자 책임져야” ,  https://n.news.naver.com/mnews/article/028/0002685843?sid=102 \n",
      "\n",
      "9 [WIS 2024] 삼성전자, 일상 속에 스며든 '<b>갤럭시</b> AI 라이프' 선보여 ,  http://www.efnews.co.kr/news/articleView.html?idxno=111321 \n",
      "\n",
      "10 “60만원 애플워치 샀는데, 팔찌로 써요&quot; 생각보다 쓸모 없다?…판매 ‘확’ ... ,  https://n.news.naver.com/mnews/article/016/0002296420?sid=105 \n",
      "\n"
     ]
    }
   ],
   "source": [
    "if res.status_code == 200:\n",
    "    data = res.json()\n",
    "    for index, i in enumerate(data['items']):\n",
    "        print(index+1, i['title'],', ', i['link'], '\\n')   \n",
    "else:\n",
    "    print (\"Error code\", res.status_code)"
   ]
  },
  {
   "cell_type": "code",
   "execution_count": 257,
   "id": "e1ae1459",
   "metadata": {},
   "outputs": [
    {
     "name": "stdout",
     "output_type": "stream",
     "text": [
      "I'm Neo.\n"
     ]
    }
   ],
   "source": [
    "p = {'name':'Neo','age':17}\n",
    "print(f\"I'm {p['name']}.\")"
   ]
  },
  {
   "cell_type": "code",
   "execution_count": 276,
   "id": "7fcd7cb7",
   "metadata": {},
   "outputs": [
    {
     "name": "stdout",
     "output_type": "stream",
     "text": [
      "correct\n"
     ]
    }
   ],
   "source": [
    "v = 6\n",
    "\n",
    "if isinstance(v, int) and v > 5:\n",
    "    print('correct')\n",
    "else:\n",
    "    print('incorrect')\n",
    "    \n"
   ]
  },
  {
   "cell_type": "markdown",
   "id": "2a646d59",
   "metadata": {},
   "source": [
    "# XML Crawling"
   ]
  },
  {
   "cell_type": "code",
   "execution_count": null,
   "id": "510730b6",
   "metadata": {},
   "outputs": [],
   "source": [
    "import requests\n",
    "from bs4 import BeautifulSoup\n",
    "\n",
    "soup = BeautifulSoup(xmldata, 'lxml')\n",
    "\n",
    "data = soup.find_all('item')\n",
    "for i in data:\n",
    "    datatime = i.find('datatime')\n",
    "    informcode = i.find('informcode')\n",
    "    print(datatime.get_text(), informcode.get_text())\n",
    "    \n",
    "    "
   ]
  },
  {
   "cell_type": "code",
   "execution_count": 278,
   "id": "a5429847",
   "metadata": {},
   "outputs": [
    {
     "name": "stdout",
     "output_type": "stream",
     "text": [
      "my name is yong.\n"
     ]
    }
   ],
   "source": [
    "a= 'yong'\n",
    "print(f'my name is {a}.')"
   ]
  },
  {
   "cell_type": "code",
   "execution_count": 290,
   "id": "54592965",
   "metadata": {},
   "outputs": [
    {
     "data": {
      "text/plain": [
       "84.38783952036026"
      ]
     },
     "execution_count": 290,
     "metadata": {},
     "output_type": "execute_result"
    }
   ],
   "source": [
    "import random\n",
    "\n",
    "random.randint(1,100)\n",
    "random.random()*100"
   ]
  },
  {
   "cell_type": "code",
   "execution_count": 294,
   "id": "a962b3c1",
   "metadata": {},
   "outputs": [
    {
     "ename": "Terminator",
     "evalue": "",
     "output_type": "error",
     "traceback": [
      "\u001b[1;31m---------------------------------------------------------------------------\u001b[0m",
      "\u001b[1;31mTerminator\u001b[0m                                Traceback (most recent call last)",
      "Cell \u001b[1;32mIn[294], line 4\u001b[0m\n\u001b[0;32m      1\u001b[0m \u001b[38;5;28;01mimport\u001b[39;00m \u001b[38;5;21;01mtime\u001b[39;00m\n\u001b[0;32m      2\u001b[0m \u001b[38;5;28;01mfrom\u001b[39;00m \u001b[38;5;21;01mturtle\u001b[39;00m \u001b[38;5;28;01mimport\u001b[39;00m Turtle\n\u001b[1;32m----> 4\u001b[0m john \u001b[38;5;241m=\u001b[39m Turtle()\n\u001b[0;32m      5\u001b[0m john\u001b[38;5;241m.\u001b[39mshape(\u001b[38;5;124m\"\u001b[39m\u001b[38;5;124mturtle\u001b[39m\u001b[38;5;124m\"\u001b[39m)\n\u001b[0;32m      6\u001b[0m john\u001b[38;5;241m.\u001b[39mcolor(\u001b[38;5;124m\"\u001b[39m\u001b[38;5;124mred\u001b[39m\u001b[38;5;124m\"\u001b[39m, \u001b[38;5;124m\"\u001b[39m\u001b[38;5;124mblue\u001b[39m\u001b[38;5;124m\"\u001b[39m)\n",
      "File \u001b[1;32m~\\anaconda3\\Lib\\turtle.py:3831\u001b[0m, in \u001b[0;36mTurtle.__init__\u001b[1;34m(self, shape, undobuffersize, visible)\u001b[0m\n\u001b[0;32m   3829\u001b[0m \u001b[38;5;28;01mif\u001b[39;00m Turtle\u001b[38;5;241m.\u001b[39m_screen \u001b[38;5;129;01mis\u001b[39;00m \u001b[38;5;28;01mNone\u001b[39;00m:\n\u001b[0;32m   3830\u001b[0m     Turtle\u001b[38;5;241m.\u001b[39m_screen \u001b[38;5;241m=\u001b[39m Screen()\n\u001b[1;32m-> 3831\u001b[0m RawTurtle\u001b[38;5;241m.\u001b[39m\u001b[38;5;21m__init__\u001b[39m(\u001b[38;5;28mself\u001b[39m, Turtle\u001b[38;5;241m.\u001b[39m_screen,\n\u001b[0;32m   3832\u001b[0m                    shape\u001b[38;5;241m=\u001b[39mshape,\n\u001b[0;32m   3833\u001b[0m                    undobuffersize\u001b[38;5;241m=\u001b[39mundobuffersize,\n\u001b[0;32m   3834\u001b[0m                    visible\u001b[38;5;241m=\u001b[39mvisible)\n",
      "File \u001b[1;32m~\\anaconda3\\Lib\\turtle.py:2558\u001b[0m, in \u001b[0;36mRawTurtle.__init__\u001b[1;34m(self, canvas, shape, undobuffersize, visible)\u001b[0m\n\u001b[0;32m   2556\u001b[0m \u001b[38;5;28mself\u001b[39m\u001b[38;5;241m.\u001b[39m_undobuffersize \u001b[38;5;241m=\u001b[39m undobuffersize\n\u001b[0;32m   2557\u001b[0m \u001b[38;5;28mself\u001b[39m\u001b[38;5;241m.\u001b[39mundobuffer \u001b[38;5;241m=\u001b[39m Tbuffer(undobuffersize)\n\u001b[1;32m-> 2558\u001b[0m \u001b[38;5;28mself\u001b[39m\u001b[38;5;241m.\u001b[39m_update()\n",
      "File \u001b[1;32m~\\anaconda3\\Lib\\turtle.py:2661\u001b[0m, in \u001b[0;36mRawTurtle._update\u001b[1;34m(self)\u001b[0m\n\u001b[0;32m   2659\u001b[0m     \u001b[38;5;28;01mreturn\u001b[39;00m\n\u001b[0;32m   2660\u001b[0m \u001b[38;5;28;01melif\u001b[39;00m screen\u001b[38;5;241m.\u001b[39m_tracing \u001b[38;5;241m==\u001b[39m \u001b[38;5;241m1\u001b[39m:\n\u001b[1;32m-> 2661\u001b[0m     \u001b[38;5;28mself\u001b[39m\u001b[38;5;241m.\u001b[39m_update_data()\n\u001b[0;32m   2662\u001b[0m     \u001b[38;5;28mself\u001b[39m\u001b[38;5;241m.\u001b[39m_drawturtle()\n\u001b[0;32m   2663\u001b[0m     screen\u001b[38;5;241m.\u001b[39m_update()                  \u001b[38;5;66;03m# TurtleScreenBase\u001b[39;00m\n",
      "File \u001b[1;32m~\\anaconda3\\Lib\\turtle.py:2647\u001b[0m, in \u001b[0;36mRawTurtle._update_data\u001b[1;34m(self)\u001b[0m\n\u001b[0;32m   2646\u001b[0m \u001b[38;5;28;01mdef\u001b[39;00m \u001b[38;5;21m_update_data\u001b[39m(\u001b[38;5;28mself\u001b[39m):\n\u001b[1;32m-> 2647\u001b[0m     \u001b[38;5;28mself\u001b[39m\u001b[38;5;241m.\u001b[39mscreen\u001b[38;5;241m.\u001b[39m_incrementudc()\n\u001b[0;32m   2648\u001b[0m     \u001b[38;5;28;01mif\u001b[39;00m \u001b[38;5;28mself\u001b[39m\u001b[38;5;241m.\u001b[39mscreen\u001b[38;5;241m.\u001b[39m_updatecounter \u001b[38;5;241m!=\u001b[39m \u001b[38;5;241m0\u001b[39m:\n\u001b[0;32m   2649\u001b[0m         \u001b[38;5;28;01mreturn\u001b[39;00m\n",
      "File \u001b[1;32m~\\anaconda3\\Lib\\turtle.py:1293\u001b[0m, in \u001b[0;36mTurtleScreen._incrementudc\u001b[1;34m(self)\u001b[0m\n\u001b[0;32m   1291\u001b[0m \u001b[38;5;28;01mif\u001b[39;00m \u001b[38;5;129;01mnot\u001b[39;00m TurtleScreen\u001b[38;5;241m.\u001b[39m_RUNNING:\n\u001b[0;32m   1292\u001b[0m     TurtleScreen\u001b[38;5;241m.\u001b[39m_RUNNING \u001b[38;5;241m=\u001b[39m \u001b[38;5;28;01mTrue\u001b[39;00m\n\u001b[1;32m-> 1293\u001b[0m     \u001b[38;5;28;01mraise\u001b[39;00m Terminator\n\u001b[0;32m   1294\u001b[0m \u001b[38;5;28;01mif\u001b[39;00m \u001b[38;5;28mself\u001b[39m\u001b[38;5;241m.\u001b[39m_tracing \u001b[38;5;241m>\u001b[39m \u001b[38;5;241m0\u001b[39m:\n\u001b[0;32m   1295\u001b[0m     \u001b[38;5;28mself\u001b[39m\u001b[38;5;241m.\u001b[39m_updatecounter \u001b[38;5;241m+\u001b[39m\u001b[38;5;241m=\u001b[39m \u001b[38;5;241m1\u001b[39m\n",
      "\u001b[1;31mTerminator\u001b[0m: "
     ]
    }
   ],
   "source": [
    "import time\n",
    "from turtle import Turtle\n",
    "\n",
    "john = Turtle()\n",
    "john.shape(\"turtle\")\n",
    "john.color(\"red\", \"blue\")\n",
    "while True:\n",
    "    john.forward(20)\n",
    "    john.left(25)\n",
    "    time.sleep(1)"
   ]
  }
 ],
 "metadata": {
  "kernelspec": {
   "display_name": "Python 3 (ipykernel)",
   "language": "python",
   "name": "python3"
  },
  "language_info": {
   "codemirror_mode": {
    "name": "ipython",
    "version": 3
   },
   "file_extension": ".py",
   "mimetype": "text/x-python",
   "name": "python",
   "nbconvert_exporter": "python",
   "pygments_lexer": "ipython3",
   "version": "3.11.5"
  }
 },
 "nbformat": 4,
 "nbformat_minor": 5
}
